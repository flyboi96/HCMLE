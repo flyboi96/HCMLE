{
 "cells": [
  {
   "cell_type": "code",
   "execution_count": null,
   "id": "35121f4b",
   "metadata": {},
   "outputs": [],
   "source": [
    "from fastai.vision.all import *\n",
    "\n",
    "# Reloads the exported model for prediction. Critical for decoupling training from deployment.\n",
    "learn = load_learner('./mnist_sample_classifier.pkl')  # explicitly local\n",
    "\n",
    "# Optional: inspect vocab\n",
    "print(\"Vocab:\", learn.dls.vocab)"
   ]
  },
  {
   "cell_type": "code",
   "execution_count": null,
   "id": "f3fc0655",
   "metadata": {},
   "outputs": [],
   "source": [
    "from pathlib import Path\n",
    "import random\n",
    "\n",
    "path = untar_data(URLs.MNIST_SAMPLE)\n",
    "\n",
    "# Load 5 random 3s and 5 random 7s\n",
    "sample_3s = random.sample(list((path/'valid'/'3').ls()), 5)\n",
    "sample_7s = random.sample(list((path/'valid'/'7').ls()), 5)\n",
    "\n",
    "sample_images = sample_3s + sample_7s\n",
    "random.shuffle(sample_images)"
   ]
  },
  {
   "cell_type": "code",
   "execution_count": null,
   "id": "6c2ce156",
   "metadata": {},
   "outputs": [],
   "source": [
    "results = []\n",
    "\n",
    "for img_path in sample_images:\n",
    "    img = PILImage.create(img_path)\n",
    "    pred, pred_idx, probs = learn.predict(img)\n",
    "    results.append((img, img_path.parent.name, pred, probs[pred_idx]))"
   ]
  },
  {
   "cell_type": "code",
   "execution_count": null,
   "id": "e716e0fb",
   "metadata": {},
   "outputs": [],
   "source": [
    "import matplotlib.pyplot as plt\n",
    "\n",
    "fig, axs = plt.subplots(2, 5, figsize=(12, 5))\n",
    "\n",
    "for i, (img, true, pred, conf) in enumerate(results):\n",
    "    ax = axs[i//5, i%5]\n",
    "    img.show(ctx=ax)\n",
    "    ax.set_title(f\"True: {true}\\nPred: {pred} ({conf:.2%})\")\n",
    "    ax.axis('off')\n",
    "\n",
    "plt.tight_layout()\n",
    "plt.savefig('../plots/predictions_sample.png')\n",
    "plt.show()"
   ]
  },
  {
   "cell_type": "markdown",
   "id": "62cdc73a",
   "metadata": {},
   "source": [
    "## Model Prediction Analysis (3 vs 7)\n",
    "\n",
    "This sample of 10 validation images shows the model's predicted label, true label, and its confidence level for each.\n",
    "\n",
    "### Performance Summary:\n",
    "- **100% accuracy** on this sample: all 10 predictions match the true labels.\n",
    "- Every prediction was made with **100% confidence**, suggesting the model is highly certain on held-out MNIST digits.\n",
    "\n",
    "### Observed Patterns:\n",
    "- The model handles both upright and slightly stylized digits (e.g., curled 3s, slanted 7s) with ease.\n",
    "- It is robust to minor thickness and curvature variations in both classes.\n",
    "- 7s with shallow crossbars and 3s with tighter top loops were still correctly classified.\n",
    "\n",
    "### Human-Centered Perspective:\n",
    "This level of performance suggests the model is highly reliable on digits formatted similarly to the training set (i.e., MNIST-style). For production use with user-drawn sketches, we should still test against out-of-distribution examples — especially thinner strokes, rotated digits, or digits written with non-standard curves.\n",
    "\n",
    "### Notes:\n",
    "- All predictions were visually consistent with their true class.\n",
    "- Sample balance: 5 images of each class, randomly selected."
   ]
  }
 ],
 "metadata": {
  "kernelspec": {
   "display_name": "Python (hcmle-env)",
   "language": "python",
   "name": "hcmle-env"
  },
  "language_info": {
   "codemirror_mode": {
    "name": "ipython",
    "version": 3
   },
   "file_extension": ".py",
   "mimetype": "text/x-python",
   "name": "python",
   "nbconvert_exporter": "python",
   "pygments_lexer": "ipython3",
   "version": "3.11.11"
  }
 },
 "nbformat": 4,
 "nbformat_minor": 5
}
