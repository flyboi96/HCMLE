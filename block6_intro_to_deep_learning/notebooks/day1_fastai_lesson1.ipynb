{
 "cells": [
  {
   "cell_type": "code",
   "execution_count": null,
   "id": "89b457b8",
   "metadata": {},
   "outputs": [],
   "source": [
    "import socket,warnings\n",
    "try:\n",
    "    socket.setdefaulttimeout(1)\n",
    "    socket.socket(socket.AF_INET, socket.SOCK_STREAM).connect(('1.1.1.1', 53))\n",
    "except socket.error as ex: raise Exception(\"STOP: No internet. Click '>|' in top right and set 'Internet' switch to on\")"
   ]
  },
  {
   "cell_type": "code",
   "execution_count": null,
   "id": "3d7d2160",
   "metadata": {},
   "outputs": [],
   "source": [
    "# It's a good idea to ensure you're running the latest version of any libraries you need.\n",
    "# `!pip install -Uqq <libraries>` upgrades to the latest version of <libraries>\n",
    "# NB: You can safely ignore any warnings or errors pip spits out about running as root or incompatibilities\n",
    "import os\n",
    "iskaggle = os.environ.get('KAGGLE_KERNEL_RUN_TYPE', '')\n",
    "\n",
    "if iskaggle:\n",
    "    !pip install -Uqq fastai"
   ]
  },
  {
   "cell_type": "code",
   "execution_count": null,
   "id": "f8253bb6",
   "metadata": {},
   "outputs": [],
   "source": [
    "# Skip this cell if you already have duckduckgo_search installed\n",
    "!pip install -Uqq duckduckgo_search\n",
    "!pip install -Uqq fastai\n",
    "!pip install -Uqq fastbook"
   ]
  },
  {
   "cell_type": "code",
   "execution_count": null,
   "id": "8c3ac977",
   "metadata": {},
   "outputs": [],
   "source": [
    "from duckduckgo_search import DDGS \n",
    "from fastcore.all import *\n",
    "\n",
    "def search_images(keywords, max_images=200): return L(DDGS().images(keywords, max_results=max_images)).itemgot('image')"
   ]
  },
  {
   "cell_type": "code",
   "execution_count": null,
   "id": "65ccae53",
   "metadata": {},
   "outputs": [],
   "source": [
    "urls = search_images('sphynx cat photos', max_images=1)\n",
    "urls[0]"
   ]
  },
  {
   "cell_type": "code",
   "execution_count": null,
   "id": "8eb2138b",
   "metadata": {},
   "outputs": [],
   "source": [
    "from fastdownload import download_url\n",
    "dest = 'sphynx_cat.jpg'\n",
    "download_url(urls[0], dest, show_progress=False)\n",
    "\n",
    "from fastai.vision.all import *\n",
    "im = Image.open(dest)\n",
    "im.to_thumb(256,256)"
   ]
  },
  {
   "cell_type": "code",
   "execution_count": null,
   "id": "fbac1086",
   "metadata": {},
   "outputs": [],
   "source": [
    "download_url(search_images('hairy cat photos', max_images=1)[0], 'hairy_cat.jpg', show_progress=False)\n",
    "Image.open('hairy_cat.jpg').to_thumb(256,256)"
   ]
  },
  {
   "cell_type": "code",
   "execution_count": null,
   "id": "e4be5c6e",
   "metadata": {},
   "outputs": [],
   "source": [
    "from fastai.vision.all import *\n",
    "from time import sleep\n",
    "from fastbook import search_images_ddg\n",
    "\n",
    "def filtered_search(term, max_images=30):\n",
    "    results = search_images_ddg(term, max_images)\n",
    "    return [r for r in results if not r.lower().endswith('.fpx')]\n",
    "\n",
    "searches = ['hairy cat', 'sphynx cat']\n",
    "path = Path('sphynx_cat_or_not')\n",
    "\n",
    "for o in searches:\n",
    "    dest = (path/o)\n",
    "    dest.mkdir(exist_ok=True, parents=True)\n",
    "\n",
    "    for term in [f'{o} photo', f'{o} sun photo', f'{o} shade photo']:\n",
    "        print(f\"Searching and downloading: {term}\")\n",
    "        try:\n",
    "            download_images(dest, urls=filtered_search(term))\n",
    "            sleep(10)\n",
    "        except Exception as e:\n",
    "            print(f\"Failed to download '{term}': {e}\")\n",
    "\n",
    "    # Delete post-download .fpx files\n",
    "    for f in get_image_files(dest):\n",
    "        if f.suffix.lower() == '.fpx':\n",
    "            f.unlink()\n",
    "\n",
    "    # Clean unreadable/corrupted images\n",
    "    failed = verify_images(get_image_files(dest))\n",
    "    failed.map(Path.unlink)\n",
    "\n",
    "    # 📐 Resize clean images\n",
    "    resize_images(dest, max_size=400)"
   ]
  },
  {
   "cell_type": "code",
   "execution_count": null,
   "id": "46ac9a36",
   "metadata": {},
   "outputs": [],
   "source": [
    "failed = verify_images(get_image_files(path))\n",
    "failed.map(Path.unlink)\n",
    "len(failed)"
   ]
  },
  {
   "cell_type": "code",
   "execution_count": null,
   "id": "f10b20e2",
   "metadata": {},
   "outputs": [],
   "source": [
    "dls = DataBlock(\n",
    "    blocks=(ImageBlock, CategoryBlock), \n",
    "    get_items=get_image_files, \n",
    "    splitter=RandomSplitter(valid_pct=0.2, seed=42),\n",
    "    get_y=parent_label,\n",
    "    item_tfms=[Resize(192, method='squish')]\n",
    ").dataloaders(path)\n",
    "\n",
    "dls.show_batch(max_n=6)"
   ]
  },
  {
   "cell_type": "code",
   "execution_count": null,
   "id": "c2e85156",
   "metadata": {},
   "outputs": [],
   "source": [
    "learn = vision_learner(dls, resnet18, metrics=error_rate)\n",
    "learn.fine_tune(3)"
   ]
  },
  {
   "cell_type": "code",
   "execution_count": null,
   "id": "1ad3a0e6",
   "metadata": {},
   "outputs": [],
   "source": [
    "is_sphynx_cat,_,probs = learn.predict(PILImage.create('f9b6108c-4d88-442f-8bc8-4f7b13eaf164.jpg'))\n",
    "print(f\"This is a: {is_sphynx_cat}.\")\n",
    "print(f\"Probability it's a sphynx cat: {probs[1]:.4f}\")"
   ]
  },
  {
   "cell_type": "code",
   "execution_count": null,
   "id": "365f0cb7",
   "metadata": {},
   "outputs": [],
   "source": []
  },
  {
   "cell_type": "code",
   "execution_count": 50,
   "id": "99d537c1",
   "metadata": {},
   "outputs": [
    {
     "name": "stdout",
     "output_type": "stream",
     "text": [
      "Recursively deleted 2 image files from bird_or_not/\n"
     ]
    }
   ],
   "source": [
    "from pathlib import Path\n",
    "\n",
    "base_path = Path(\"bird_or_not\")\n",
    "image_exts = [\".jpg\", \".jpeg\", \".png\", \".webp\", \".fpx\", \".gif\", \".img\", \".jpg!d\", \".jpg!bw700\"]\n",
    "\n",
    "deleted = 0\n",
    "\n",
    "for file in base_path.rglob(\"*\"):\n",
    "    if file.is_file() and file.suffix.lower() in image_exts:\n",
    "        file.unlink()\n",
    "        deleted += 1\n",
    "\n",
    "print(f\"Recursively deleted {deleted} image files from bird_or_not/\")"
   ]
  }
 ],
 "metadata": {
  "kernelspec": {
   "display_name": "Python (hcmle-env)",
   "language": "python",
   "name": "hcmle-env"
  },
  "language_info": {
   "codemirror_mode": {
    "name": "ipython",
    "version": 3
   },
   "file_extension": ".py",
   "mimetype": "text/x-python",
   "name": "python",
   "nbconvert_exporter": "python",
   "pygments_lexer": "ipython3",
   "version": "3.11.11"
  }
 },
 "nbformat": 4,
 "nbformat_minor": 5
}
