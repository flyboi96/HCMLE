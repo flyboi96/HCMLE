{
 "cells": [
  {
   "cell_type": "code",
   "execution_count": 1,
   "id": "201f40cc",
   "metadata": {},
   "outputs": [],
   "source": [
    "from fastai.vision.all import *\n",
    "\n",
    "# Dataset\n",
    "path = untar_data(URLs.PETS)\n",
    "path_img = path / \"images\"\n",
    "\n",
    "def is_cat(x): return Path(x).name[0].isupper()\n",
    "\n",
    "dls = ImageDataLoaders.from_name_func(\n",
    "    path_img,\n",
    "    get_image_files(path_img),\n",
    "    valid_pct=0.2,\n",
    "    seed=42,\n",
    "    label_func=is_cat,\n",
    "    item_tfms=Resize(224)\n",
    ")"
   ]
  },
  {
   "cell_type": "code",
   "execution_count": 2,
   "id": "c9d83eb1",
   "metadata": {},
   "outputs": [
    {
     "data": {
      "text/html": [
       "\n",
       "<style>\n",
       "    /* Turns off some styling */\n",
       "    progress {\n",
       "        /* gets rid of default border in Firefox and Opera. */\n",
       "        border: none;\n",
       "        /* Needs to be in here for Safari polyfill so background images work as expected. */\n",
       "        background-size: auto;\n",
       "    }\n",
       "    progress:not([value]), progress:not([value])::-webkit-progress-bar {\n",
       "        background: repeating-linear-gradient(45deg, #7e7e7e, #7e7e7e 10px, #5c5c5c 10px, #5c5c5c 20px);\n",
       "    }\n",
       "    .progress-bar-interrupted, .progress-bar-interrupted::-webkit-progress-bar {\n",
       "        background: #F44336;\n",
       "    }\n",
       "</style>\n"
      ],
      "text/plain": [
       "<IPython.core.display.HTML object>"
      ]
     },
     "metadata": {},
     "output_type": "display_data"
    },
    {
     "data": {
      "text/html": [
       "<table border=\"1\" class=\"dataframe\">\n",
       "  <thead>\n",
       "    <tr style=\"text-align: left;\">\n",
       "      <th>epoch</th>\n",
       "      <th>train_loss</th>\n",
       "      <th>valid_loss</th>\n",
       "      <th>accuracy</th>\n",
       "      <th>time</th>\n",
       "    </tr>\n",
       "  </thead>\n",
       "  <tbody>\n",
       "    <tr>\n",
       "      <td>0</td>\n",
       "      <td>0.754857</td>\n",
       "      <td>0.161288</td>\n",
       "      <td>0.933018</td>\n",
       "      <td>01:54</td>\n",
       "    </tr>\n",
       "  </tbody>\n",
       "</table>"
      ],
      "text/plain": [
       "<IPython.core.display.HTML object>"
      ]
     },
     "metadata": {},
     "output_type": "display_data"
    },
    {
     "data": {
      "text/html": [
       "\n",
       "<style>\n",
       "    /* Turns off some styling */\n",
       "    progress {\n",
       "        /* gets rid of default border in Firefox and Opera. */\n",
       "        border: none;\n",
       "        /* Needs to be in here for Safari polyfill so background images work as expected. */\n",
       "        background-size: auto;\n",
       "    }\n",
       "    progress:not([value]), progress:not([value])::-webkit-progress-bar {\n",
       "        background: repeating-linear-gradient(45deg, #7e7e7e, #7e7e7e 10px, #5c5c5c 10px, #5c5c5c 20px);\n",
       "    }\n",
       "    .progress-bar-interrupted, .progress-bar-interrupted::-webkit-progress-bar {\n",
       "        background: #F44336;\n",
       "    }\n",
       "</style>\n"
      ],
      "text/plain": [
       "<IPython.core.display.HTML object>"
      ]
     },
     "metadata": {},
     "output_type": "display_data"
    },
    {
     "data": {
      "text/html": [
       "<table border=\"1\" class=\"dataframe\">\n",
       "  <thead>\n",
       "    <tr style=\"text-align: left;\">\n",
       "      <th>epoch</th>\n",
       "      <th>train_loss</th>\n",
       "      <th>valid_loss</th>\n",
       "      <th>accuracy</th>\n",
       "      <th>time</th>\n",
       "    </tr>\n",
       "  </thead>\n",
       "  <tbody>\n",
       "    <tr>\n",
       "      <td>0</td>\n",
       "      <td>0.240385</td>\n",
       "      <td>0.067710</td>\n",
       "      <td>0.975643</td>\n",
       "      <td>02:38</td>\n",
       "    </tr>\n",
       "    <tr>\n",
       "      <td>1</td>\n",
       "      <td>0.117181</td>\n",
       "      <td>0.026640</td>\n",
       "      <td>0.989851</td>\n",
       "      <td>02:39</td>\n",
       "    </tr>\n",
       "    <tr>\n",
       "      <td>2</td>\n",
       "      <td>0.060591</td>\n",
       "      <td>0.019096</td>\n",
       "      <td>0.992558</td>\n",
       "      <td>02:41</td>\n",
       "    </tr>\n",
       "    <tr>\n",
       "      <td>3</td>\n",
       "      <td>0.045551</td>\n",
       "      <td>0.018589</td>\n",
       "      <td>0.991881</td>\n",
       "      <td>02:40</td>\n",
       "    </tr>\n",
       "    <tr>\n",
       "      <td>4</td>\n",
       "      <td>0.039120</td>\n",
       "      <td>0.016614</td>\n",
       "      <td>0.993234</td>\n",
       "      <td>02:56</td>\n",
       "    </tr>\n",
       "  </tbody>\n",
       "</table>"
      ],
      "text/plain": [
       "<IPython.core.display.HTML object>"
      ]
     },
     "metadata": {},
     "output_type": "display_data"
    }
   ],
   "source": [
    "learn = vision_learner(dls, resnet34, metrics=accuracy)\n",
    "\n",
    "# EXPERIMENT: Use 5 epochs and a custom learning rate\n",
    "learn.fine_tune(5, base_lr=1e-4)"
   ]
  },
  {
   "cell_type": "code",
   "execution_count": 3,
   "id": "c0981f69",
   "metadata": {},
   "outputs": [
    {
     "data": {
      "text/html": [
       "\n",
       "<style>\n",
       "    /* Turns off some styling */\n",
       "    progress {\n",
       "        /* gets rid of default border in Firefox and Opera. */\n",
       "        border: none;\n",
       "        /* Needs to be in here for Safari polyfill so background images work as expected. */\n",
       "        background-size: auto;\n",
       "    }\n",
       "    progress:not([value]), progress:not([value])::-webkit-progress-bar {\n",
       "        background: repeating-linear-gradient(45deg, #7e7e7e, #7e7e7e 10px, #5c5c5c 10px, #5c5c5c 20px);\n",
       "    }\n",
       "    .progress-bar-interrupted, .progress-bar-interrupted::-webkit-progress-bar {\n",
       "        background: #F44336;\n",
       "    }\n",
       "</style>\n"
      ],
      "text/plain": [
       "<IPython.core.display.HTML object>"
      ]
     },
     "metadata": {},
     "output_type": "display_data"
    },
    {
     "data": {
      "text/html": [
       "<table border=\"1\" class=\"dataframe\">\n",
       "  <thead>\n",
       "    <tr style=\"text-align: left;\">\n",
       "      <th>epoch</th>\n",
       "      <th>train_loss</th>\n",
       "      <th>valid_loss</th>\n",
       "      <th>accuracy</th>\n",
       "      <th>time</th>\n",
       "    </tr>\n",
       "  </thead>\n",
       "  <tbody>\n",
       "    <tr>\n",
       "      <td>0</td>\n",
       "      <td>0.763755</td>\n",
       "      <td>3.681956</td>\n",
       "      <td>0.841678</td>\n",
       "      <td>02:08</td>\n",
       "    </tr>\n",
       "  </tbody>\n",
       "</table>"
      ],
      "text/plain": [
       "<IPython.core.display.HTML object>"
      ]
     },
     "metadata": {},
     "output_type": "display_data"
    },
    {
     "data": {
      "text/html": [
       "\n",
       "<style>\n",
       "    /* Turns off some styling */\n",
       "    progress {\n",
       "        /* gets rid of default border in Firefox and Opera. */\n",
       "        border: none;\n",
       "        /* Needs to be in here for Safari polyfill so background images work as expected. */\n",
       "        background-size: auto;\n",
       "    }\n",
       "    progress:not([value]), progress:not([value])::-webkit-progress-bar {\n",
       "        background: repeating-linear-gradient(45deg, #7e7e7e, #7e7e7e 10px, #5c5c5c 10px, #5c5c5c 20px);\n",
       "    }\n",
       "    .progress-bar-interrupted, .progress-bar-interrupted::-webkit-progress-bar {\n",
       "        background: #F44336;\n",
       "    }\n",
       "</style>\n"
      ],
      "text/plain": [
       "<IPython.core.display.HTML object>"
      ]
     },
     "metadata": {},
     "output_type": "display_data"
    },
    {
     "data": {
      "text/html": [
       "<table border=\"1\" class=\"dataframe\">\n",
       "  <thead>\n",
       "    <tr style=\"text-align: left;\">\n",
       "      <th>epoch</th>\n",
       "      <th>train_loss</th>\n",
       "      <th>valid_loss</th>\n",
       "      <th>accuracy</th>\n",
       "      <th>time</th>\n",
       "    </tr>\n",
       "  </thead>\n",
       "  <tbody>\n",
       "    <tr>\n",
       "      <td>0</td>\n",
       "      <td>0.444813</td>\n",
       "      <td>92.080017</td>\n",
       "      <td>0.473613</td>\n",
       "      <td>03:24</td>\n",
       "    </tr>\n",
       "    <tr>\n",
       "      <td>1</td>\n",
       "      <td>0.205812</td>\n",
       "      <td>0.147663</td>\n",
       "      <td>0.950609</td>\n",
       "      <td>03:30</td>\n",
       "    </tr>\n",
       "    <tr>\n",
       "      <td>2</td>\n",
       "      <td>0.086689</td>\n",
       "      <td>0.072191</td>\n",
       "      <td>0.975643</td>\n",
       "      <td>03:41</td>\n",
       "    </tr>\n",
       "  </tbody>\n",
       "</table>"
      ],
      "text/plain": [
       "<IPython.core.display.HTML object>"
      ]
     },
     "metadata": {},
     "output_type": "display_data"
    }
   ],
   "source": [
    "learn = vision_learner(dls, resnet34, metrics=accuracy)\n",
    "learn.fine_tune(3, base_lr=1e-1)  # Intentionally too high"
   ]
  },
  {
   "cell_type": "markdown",
   "id": "2e3a11f6",
   "metadata": {},
   "source": [
    "## Hyperparameter Experimentation: Epochs and Learning Rate\n",
    "\n",
    "### Objective\n",
    "The goal of this experiment was to analyze the effect of modifying training hyperparameters—specifically the number of epochs and the learning rate—on model performance and training stability.\n",
    "\n",
    "---\n",
    "\n",
    "### Baseline (3 epochs, default LR = 3e-3)\n",
    "\n",
    "| Metric        | Final Value |\n",
    "|---------------|-------------|\n",
    "| Accuracy      | 0.9959      |\n",
    "| Valid Loss    | 0.0093      |\n",
    "\n",
    "Using the fastai default learning rate (`3e-3`) with 3 epochs, the model achieved high accuracy (~99.6%) and very low validation loss. This establishes a strong baseline for comparison.\n",
    "\n",
    "---\n",
    "\n",
    "### Experiment 1: Lower LR (1e-4), More Epochs (5)\n",
    "\n",
    "| Metric        | Final Value |\n",
    "|---------------|-------------|\n",
    "| Accuracy      | 0.9932      |\n",
    "| Valid Loss    | 0.0160      |\n",
    "\n",
    "Despite a longer training period (5 epochs), reducing the learning rate led to **slower convergence**. While the model maintained high accuracy, it underperformed slightly compared to the baseline in both accuracy and loss. This reflects the tradeoff of a conservative learning rate: **greater training stability at the cost of learning speed**. Interestingly, the model achieved ~99.3% accuracy by epoch 2, with marginal improvement thereafter, suggesting **early stopping** could have been beneficial.\n",
    "\n",
    "---\n",
    "\n",
    "### Experiment 2: High LR (1e-1), 3 Epochs\n",
    "\n",
    "| Metric        | Final Value |\n",
    "|---------------|-------------|\n",
    "| Accuracy      | 0.9756      |\n",
    "| Valid Loss    | 0.0721      |\n",
    "\n",
    "Using an aggressively high learning rate (`1e-1`) destabilized training. The model exhibited:\n",
    "- Extremely high validation loss in epoch 0 (`3.68`)\n",
    "- Erratic loss curves\n",
    "- Delayed accuracy improvements\n",
    "\n",
    "Despite eventually recovering to ~97.6% accuracy, this configuration underperformed both in stability and overall validation performance. The result aligns with expectations: **a learning rate too high overshoots optimal weights**, leading to poor generalization and instability.\n",
    "\n",
    "---\n",
    "\n",
    "### Takeaways\n",
    "\n",
    "- The **default fastai setting (3e-3, 3 epochs)** yielded the best generalization and fastest convergence.\n",
    "- A **lower LR (1e-4)** can be beneficial for highly noisy data or fine-grained tuning, but may not outperform the baseline without increased epochs or regularization.\n",
    "- A **high LR (1e-1)** is unsafe without a robust LR scheduler or gradient clipping—it leads to high variance and risk of divergence.\n",
    "- **Hyperparameter tuning should balance convergence speed, stability, and validation performance**, and decisions should be guided by empirical trends in loss curves and accuracy saturation."
   ]
  }
 ],
 "metadata": {
  "kernelspec": {
   "display_name": "Python (hcmle-env)",
   "language": "python",
   "name": "hcmle-env"
  },
  "language_info": {
   "codemirror_mode": {
    "name": "ipython",
    "version": 3
   },
   "file_extension": ".py",
   "mimetype": "text/x-python",
   "name": "python",
   "nbconvert_exporter": "python",
   "pygments_lexer": "ipython3",
   "version": "3.11.11"
  }
 },
 "nbformat": 4,
 "nbformat_minor": 5
}
