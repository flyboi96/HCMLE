{
 "cells": [
  {
   "cell_type": "code",
   "execution_count": 10,
   "id": "61db5e73",
   "metadata": {},
   "outputs": [],
   "source": [
    "from fastai.vision.all import *\n",
    "\n",
    "path = untar_data(URLs.PETS)\n",
    "path_img = path / \"images\"\n",
    "\n",
    "def is_cat(x): return Path(x).name[0].isupper()\n",
    "\n",
    "dls = ImageDataLoaders.from_name_func(\n",
    "    path_img,\n",
    "    get_image_files(path_img),\n",
    "    valid_pct=0.2,\n",
    "    seed=42,\n",
    "    label_func=is_cat,\n",
    "    item_tfms=Resize(224)\n",
    ")"
   ]
  },
  {
   "cell_type": "code",
   "execution_count": 12,
   "id": "f7a40474",
   "metadata": {},
   "outputs": [
    {
     "data": {
      "text/html": [
       "\n",
       "<style>\n",
       "    /* Turns off some styling */\n",
       "    progress {\n",
       "        /* gets rid of default border in Firefox and Opera. */\n",
       "        border: none;\n",
       "        /* Needs to be in here for Safari polyfill so background images work as expected. */\n",
       "        background-size: auto;\n",
       "    }\n",
       "    progress:not([value]), progress:not([value])::-webkit-progress-bar {\n",
       "        background: repeating-linear-gradient(45deg, #7e7e7e, #7e7e7e 10px, #5c5c5c 10px, #5c5c5c 20px);\n",
       "    }\n",
       "    .progress-bar-interrupted, .progress-bar-interrupted::-webkit-progress-bar {\n",
       "        background: #F44336;\n",
       "    }\n",
       "</style>\n"
      ],
      "text/plain": [
       "<IPython.core.display.HTML object>"
      ]
     },
     "metadata": {},
     "output_type": "display_data"
    },
    {
     "data": {
      "text/html": [
       "<table border=\"1\" class=\"dataframe\">\n",
       "  <thead>\n",
       "    <tr style=\"text-align: left;\">\n",
       "      <th>epoch</th>\n",
       "      <th>train_loss</th>\n",
       "      <th>valid_loss</th>\n",
       "      <th>accuracy</th>\n",
       "      <th>time</th>\n",
       "    </tr>\n",
       "  </thead>\n",
       "  <tbody>\n",
       "    <tr>\n",
       "      <td>0</td>\n",
       "      <td>0.137645</td>\n",
       "      <td>0.021700</td>\n",
       "      <td>0.990528</td>\n",
       "      <td>01:53</td>\n",
       "    </tr>\n",
       "  </tbody>\n",
       "</table>"
      ],
      "text/plain": [
       "<IPython.core.display.HTML object>"
      ]
     },
     "metadata": {},
     "output_type": "display_data"
    },
    {
     "data": {
      "text/html": [
       "\n",
       "<style>\n",
       "    /* Turns off some styling */\n",
       "    progress {\n",
       "        /* gets rid of default border in Firefox and Opera. */\n",
       "        border: none;\n",
       "        /* Needs to be in here for Safari polyfill so background images work as expected. */\n",
       "        background-size: auto;\n",
       "    }\n",
       "    progress:not([value]), progress:not([value])::-webkit-progress-bar {\n",
       "        background: repeating-linear-gradient(45deg, #7e7e7e, #7e7e7e 10px, #5c5c5c 10px, #5c5c5c 20px);\n",
       "    }\n",
       "    .progress-bar-interrupted, .progress-bar-interrupted::-webkit-progress-bar {\n",
       "        background: #F44336;\n",
       "    }\n",
       "</style>\n"
      ],
      "text/plain": [
       "<IPython.core.display.HTML object>"
      ]
     },
     "metadata": {},
     "output_type": "display_data"
    },
    {
     "data": {
      "text/html": [
       "<table border=\"1\" class=\"dataframe\">\n",
       "  <thead>\n",
       "    <tr style=\"text-align: left;\">\n",
       "      <th>epoch</th>\n",
       "      <th>train_loss</th>\n",
       "      <th>valid_loss</th>\n",
       "      <th>accuracy</th>\n",
       "      <th>time</th>\n",
       "    </tr>\n",
       "  </thead>\n",
       "  <tbody>\n",
       "    <tr>\n",
       "      <td>0</td>\n",
       "      <td>0.058839</td>\n",
       "      <td>0.030802</td>\n",
       "      <td>0.990528</td>\n",
       "      <td>02:48</td>\n",
       "    </tr>\n",
       "    <tr>\n",
       "      <td>1</td>\n",
       "      <td>0.028836</td>\n",
       "      <td>0.013670</td>\n",
       "      <td>0.992558</td>\n",
       "      <td>03:06</td>\n",
       "    </tr>\n",
       "    <tr>\n",
       "      <td>2</td>\n",
       "      <td>0.017769</td>\n",
       "      <td>0.009259</td>\n",
       "      <td>0.995940</td>\n",
       "      <td>03:22</td>\n",
       "    </tr>\n",
       "  </tbody>\n",
       "</table>"
      ],
      "text/plain": [
       "<IPython.core.display.HTML object>"
      ]
     },
     "metadata": {},
     "output_type": "display_data"
    }
   ],
   "source": [
    "learn = vision_learner(dls, resnet34, metrics=accuracy)\n",
    "learn.fine_tune(3)\n",
    "learn.export('cat_dog_classifier.pkl')"
   ]
  },
  {
   "cell_type": "code",
   "execution_count": 27,
   "id": "c1d4b2a5",
   "metadata": {},
   "outputs": [],
   "source": [
    "learn.path = Path('.')  # Optional override\n",
    "learn.export('cat_dog_classifier.pkl')"
   ]
  },
  {
   "cell_type": "code",
   "execution_count": 28,
   "id": "903a36cc",
   "metadata": {},
   "outputs": [
    {
     "name": "stderr",
     "output_type": "stream",
     "text": [
      "/Users/AlexCorbin_1/anaconda3/envs/hcmle-env/lib/python3.11/site-packages/fastai/learner.py:455: UserWarning: load_learner` uses Python's insecure pickle module, which can execute malicious arbitrary code when loading. Only load files you trust.\n",
      "If you only need to load model weights and optimizer state, use the safe `Learner.load` instead.\n",
      "  warn(\"load_learner` uses Python's insecure pickle module, which can execute malicious arbitrary code when loading. Only load files you trust.\\nIf you only need to load model weights and optimizer state, use the safe `Learner.load` instead.\")\n"
     ]
    }
   ],
   "source": [
    "learn = load_learner('cat_dog_classifier.pkl')"
   ]
  },
  {
   "cell_type": "code",
   "execution_count": null,
   "id": "29e4bb09",
   "metadata": {},
   "outputs": [
    {
     "name": "stderr",
     "output_type": "stream",
     "text": [
      "/Users/AlexCorbin_1/anaconda3/envs/hcmle-env/lib/python3.11/site-packages/fastai/learner.py:455: UserWarning: load_learner` uses Python's insecure pickle module, which can execute malicious arbitrary code when loading. Only load files you trust.\n",
      "If you only need to load model weights and optimizer state, use the safe `Learner.load` instead.\n",
      "  warn(\"load_learner` uses Python's insecure pickle module, which can execute malicious arbitrary code when loading. Only load files you trust.\\nIf you only need to load model weights and optimizer state, use the safe `Learner.load` instead.\")\n"
     ]
    },
    {
     "name": "stdout",
     "output_type": "stream",
     "text": [
      "* Running on local URL:  http://127.0.0.1:7862\n",
      "* To create a public link, set `share=True` in `launch()`.\n"
     ]
    },
    {
     "data": {
      "text/html": [
       "<div><iframe src=\"http://127.0.0.1:7862/\" width=\"100%\" height=\"500\" allow=\"autoplay; camera; microphone; clipboard-read; clipboard-write;\" frameborder=\"0\" allowfullscreen></iframe></div>"
      ],
      "text/plain": [
       "<IPython.core.display.HTML object>"
      ]
     },
     "metadata": {},
     "output_type": "display_data"
    },
    {
     "data": {
      "text/plain": []
     },
     "execution_count": 35,
     "metadata": {},
     "output_type": "execute_result"
    },
    {
     "data": {
      "text/html": [
       "\n",
       "<style>\n",
       "    /* Turns off some styling */\n",
       "    progress {\n",
       "        /* gets rid of default border in Firefox and Opera. */\n",
       "        border: none;\n",
       "        /* Needs to be in here for Safari polyfill so background images work as expected. */\n",
       "        background-size: auto;\n",
       "    }\n",
       "    progress:not([value]), progress:not([value])::-webkit-progress-bar {\n",
       "        background: repeating-linear-gradient(45deg, #7e7e7e, #7e7e7e 10px, #5c5c5c 10px, #5c5c5c 20px);\n",
       "    }\n",
       "    .progress-bar-interrupted, .progress-bar-interrupted::-webkit-progress-bar {\n",
       "        background: #F44336;\n",
       "    }\n",
       "</style>\n"
      ],
      "text/plain": [
       "<IPython.core.display.HTML object>"
      ]
     },
     "metadata": {},
     "output_type": "display_data"
    },
    {
     "data": {
      "text/html": [],
      "text/plain": [
       "<IPython.core.display.HTML object>"
      ]
     },
     "metadata": {},
     "output_type": "display_data"
    },
    {
     "data": {
      "text/html": [
       "\n",
       "<style>\n",
       "    /* Turns off some styling */\n",
       "    progress {\n",
       "        /* gets rid of default border in Firefox and Opera. */\n",
       "        border: none;\n",
       "        /* Needs to be in here for Safari polyfill so background images work as expected. */\n",
       "        background-size: auto;\n",
       "    }\n",
       "    progress:not([value]), progress:not([value])::-webkit-progress-bar {\n",
       "        background: repeating-linear-gradient(45deg, #7e7e7e, #7e7e7e 10px, #5c5c5c 10px, #5c5c5c 20px);\n",
       "    }\n",
       "    .progress-bar-interrupted, .progress-bar-interrupted::-webkit-progress-bar {\n",
       "        background: #F44336;\n",
       "    }\n",
       "</style>\n"
      ],
      "text/plain": [
       "<IPython.core.display.HTML object>"
      ]
     },
     "metadata": {},
     "output_type": "display_data"
    },
    {
     "data": {
      "text/html": [],
      "text/plain": [
       "<IPython.core.display.HTML object>"
      ]
     },
     "metadata": {},
     "output_type": "display_data"
    },
    {
     "data": {
      "text/html": [
       "\n",
       "<style>\n",
       "    /* Turns off some styling */\n",
       "    progress {\n",
       "        /* gets rid of default border in Firefox and Opera. */\n",
       "        border: none;\n",
       "        /* Needs to be in here for Safari polyfill so background images work as expected. */\n",
       "        background-size: auto;\n",
       "    }\n",
       "    progress:not([value]), progress:not([value])::-webkit-progress-bar {\n",
       "        background: repeating-linear-gradient(45deg, #7e7e7e, #7e7e7e 10px, #5c5c5c 10px, #5c5c5c 20px);\n",
       "    }\n",
       "    .progress-bar-interrupted, .progress-bar-interrupted::-webkit-progress-bar {\n",
       "        background: #F44336;\n",
       "    }\n",
       "</style>\n"
      ],
      "text/plain": [
       "<IPython.core.display.HTML object>"
      ]
     },
     "metadata": {},
     "output_type": "display_data"
    },
    {
     "data": {
      "text/html": [],
      "text/plain": [
       "<IPython.core.display.HTML object>"
      ]
     },
     "metadata": {},
     "output_type": "display_data"
    },
    {
     "data": {
      "text/html": [
       "\n",
       "<style>\n",
       "    /* Turns off some styling */\n",
       "    progress {\n",
       "        /* gets rid of default border in Firefox and Opera. */\n",
       "        border: none;\n",
       "        /* Needs to be in here for Safari polyfill so background images work as expected. */\n",
       "        background-size: auto;\n",
       "    }\n",
       "    progress:not([value]), progress:not([value])::-webkit-progress-bar {\n",
       "        background: repeating-linear-gradient(45deg, #7e7e7e, #7e7e7e 10px, #5c5c5c 10px, #5c5c5c 20px);\n",
       "    }\n",
       "    .progress-bar-interrupted, .progress-bar-interrupted::-webkit-progress-bar {\n",
       "        background: #F44336;\n",
       "    }\n",
       "</style>\n"
      ],
      "text/plain": [
       "<IPython.core.display.HTML object>"
      ]
     },
     "metadata": {},
     "output_type": "display_data"
    },
    {
     "data": {
      "text/html": [],
      "text/plain": [
       "<IPython.core.display.HTML object>"
      ]
     },
     "metadata": {},
     "output_type": "display_data"
    },
    {
     "data": {
      "text/html": [
       "\n",
       "<style>\n",
       "    /* Turns off some styling */\n",
       "    progress {\n",
       "        /* gets rid of default border in Firefox and Opera. */\n",
       "        border: none;\n",
       "        /* Needs to be in here for Safari polyfill so background images work as expected. */\n",
       "        background-size: auto;\n",
       "    }\n",
       "    progress:not([value]), progress:not([value])::-webkit-progress-bar {\n",
       "        background: repeating-linear-gradient(45deg, #7e7e7e, #7e7e7e 10px, #5c5c5c 10px, #5c5c5c 20px);\n",
       "    }\n",
       "    .progress-bar-interrupted, .progress-bar-interrupted::-webkit-progress-bar {\n",
       "        background: #F44336;\n",
       "    }\n",
       "</style>\n"
      ],
      "text/plain": [
       "<IPython.core.display.HTML object>"
      ]
     },
     "metadata": {},
     "output_type": "display_data"
    },
    {
     "data": {
      "text/html": [],
      "text/plain": [
       "<IPython.core.display.HTML object>"
      ]
     },
     "metadata": {},
     "output_type": "display_data"
    },
    {
     "data": {
      "text/html": [
       "\n",
       "<style>\n",
       "    /* Turns off some styling */\n",
       "    progress {\n",
       "        /* gets rid of default border in Firefox and Opera. */\n",
       "        border: none;\n",
       "        /* Needs to be in here for Safari polyfill so background images work as expected. */\n",
       "        background-size: auto;\n",
       "    }\n",
       "    progress:not([value]), progress:not([value])::-webkit-progress-bar {\n",
       "        background: repeating-linear-gradient(45deg, #7e7e7e, #7e7e7e 10px, #5c5c5c 10px, #5c5c5c 20px);\n",
       "    }\n",
       "    .progress-bar-interrupted, .progress-bar-interrupted::-webkit-progress-bar {\n",
       "        background: #F44336;\n",
       "    }\n",
       "</style>\n"
      ],
      "text/plain": [
       "<IPython.core.display.HTML object>"
      ]
     },
     "metadata": {},
     "output_type": "display_data"
    },
    {
     "data": {
      "text/html": [],
      "text/plain": [
       "<IPython.core.display.HTML object>"
      ]
     },
     "metadata": {},
     "output_type": "display_data"
    },
    {
     "name": "stderr",
     "output_type": "stream",
     "text": [
      "Traceback (most recent call last):\n",
      "  File \"/Users/AlexCorbin_1/anaconda3/envs/hcmle-env/lib/python3.11/site-packages/gradio/queueing.py\", line 625, in process_events\n",
      "    response = await route_utils.call_process_api(\n",
      "               ^^^^^^^^^^^^^^^^^^^^^^^^^^^^^^^^^^^\n",
      "  File \"/Users/AlexCorbin_1/anaconda3/envs/hcmle-env/lib/python3.11/site-packages/gradio/route_utils.py\", line 322, in call_process_api\n",
      "    output = await app.get_blocks().process_api(\n",
      "             ^^^^^^^^^^^^^^^^^^^^^^^^^^^^^^^^^^^\n",
      "  File \"/Users/AlexCorbin_1/anaconda3/envs/hcmle-env/lib/python3.11/site-packages/gradio/blocks.py\", line 2218, in process_api\n",
      "    result = await self.call_function(\n",
      "             ^^^^^^^^^^^^^^^^^^^^^^^^^\n",
      "  File \"/Users/AlexCorbin_1/anaconda3/envs/hcmle-env/lib/python3.11/site-packages/gradio/blocks.py\", line 1729, in call_function\n",
      "    prediction = await anyio.to_thread.run_sync(  # type: ignore\n",
      "                 ^^^^^^^^^^^^^^^^^^^^^^^^^^^^^^^^^^^^^^^^^^^^^^^\n",
      "  File \"/Users/AlexCorbin_1/anaconda3/envs/hcmle-env/lib/python3.11/site-packages/anyio/to_thread.py\", line 56, in run_sync\n",
      "    return await get_async_backend().run_sync_in_worker_thread(\n",
      "           ^^^^^^^^^^^^^^^^^^^^^^^^^^^^^^^^^^^^^^^^^^^^^^^^^^^^\n",
      "  File \"/Users/AlexCorbin_1/anaconda3/envs/hcmle-env/lib/python3.11/site-packages/anyio/_backends/_asyncio.py\", line 2364, in run_sync_in_worker_thread\n",
      "    return await future\n",
      "           ^^^^^^^^^^^^\n",
      "  File \"/Users/AlexCorbin_1/anaconda3/envs/hcmle-env/lib/python3.11/site-packages/anyio/_backends/_asyncio.py\", line 864, in run\n",
      "    result = context.run(func, *args)\n",
      "             ^^^^^^^^^^^^^^^^^^^^^^^^\n",
      "  File \"/Users/AlexCorbin_1/anaconda3/envs/hcmle-env/lib/python3.11/site-packages/gradio/utils.py\", line 894, in wrapper\n",
      "    response = f(*args, **kwargs)\n",
      "               ^^^^^^^^^^^^^^^^^^\n",
      "  File \"/var/folders/2_/t5zh1jl559582z1w527r_j_m0000gn/T/ipykernel_66724/884404809.py\", line 11, in classify_image\n",
      "    pred, pred_idx, probs = learn.predict(img)\n",
      "                            ^^^^^^^^^^^^^^^^^^\n",
      "  File \"/Users/AlexCorbin_1/anaconda3/envs/hcmle-env/lib/python3.11/site-packages/fastai/learner.py\", line 328, in predict\n",
      "    dl = self.dls.test_dl([item], rm_type_tfms=rm_type_tfms, num_workers=0)\n",
      "         ^^^^^^^^^^^^^^^^^^^^^^^^^^^^^^^^^^^^^^^^^^^^^^^^^^^^^^^^^^^^^^^^^^\n",
      "  File \"/Users/AlexCorbin_1/anaconda3/envs/hcmle-env/lib/python3.11/site-packages/fastai/data/core.py\", line 531, in test_dl\n",
      "    test_ds = test_set(self.valid_ds, test_items, rm_tfms=rm_type_tfms, with_labels=with_labels\n",
      "              ^^^^^^^^^^^^^^^^^^^^^^^^^^^^^^^^^^^^^^^^^^^^^^^^^^^^^^^^^^^^^^^^^^^^^^^^^^^^^^^^^\n",
      "  File \"/Users/AlexCorbin_1/anaconda3/envs/hcmle-env/lib/python3.11/site-packages/fastai/data/core.py\", line 510, in test_set\n",
      "    if rm_tfms is None: rm_tfms = [tl.infer_idx(get_first(test_items)) for tl in test_tls]\n",
      "                                  ^^^^^^^^^^^^^^^^^^^^^^^^^^^^^^^^^^^^^^^^^^^^^^^^^^^^^^^^\n",
      "  File \"/Users/AlexCorbin_1/anaconda3/envs/hcmle-env/lib/python3.11/site-packages/fastai/data/core.py\", line 510, in <listcomp>\n",
      "    if rm_tfms is None: rm_tfms = [tl.infer_idx(get_first(test_items)) for tl in test_tls]\n",
      "                                   ^^^^^^^^^^^^^^^^^^^^^^^^^^^^^^^^^^^\n",
      "  File \"/Users/AlexCorbin_1/anaconda3/envs/hcmle-env/lib/python3.11/site-packages/fastai/data/core.py\", line 404, in infer_idx\n",
      "    assert idx < len(self.types), f\"Expected an input of type in \\n{pretty_types}\\n but got {type(x)}\"\n",
      "           ^^^^^^^^^^^^^^^^^^^^^\n",
      "AssertionError: Expected an input of type in \n",
      "  - <class 'pathlib.PosixPath'>\n",
      "  - <class 'pathlib.Path'>\n",
      "  - <class 'str'>\n",
      "  - <class 'torch.Tensor'>\n",
      "  - <class 'numpy.ndarray'>\n",
      "  - <class 'bytes'>\n",
      "  - <class 'PIL.Image.Image'>\n",
      "  - <class 'fastai.vision.core.PILImage'>\n",
      " but got <class 'NoneType'>\n",
      "Traceback (most recent call last):\n",
      "  File \"/Users/AlexCorbin_1/anaconda3/envs/hcmle-env/lib/python3.11/site-packages/gradio/queueing.py\", line 625, in process_events\n",
      "    response = await route_utils.call_process_api(\n",
      "               ^^^^^^^^^^^^^^^^^^^^^^^^^^^^^^^^^^^\n",
      "  File \"/Users/AlexCorbin_1/anaconda3/envs/hcmle-env/lib/python3.11/site-packages/gradio/route_utils.py\", line 322, in call_process_api\n",
      "    output = await app.get_blocks().process_api(\n",
      "             ^^^^^^^^^^^^^^^^^^^^^^^^^^^^^^^^^^^\n",
      "  File \"/Users/AlexCorbin_1/anaconda3/envs/hcmle-env/lib/python3.11/site-packages/gradio/blocks.py\", line 2218, in process_api\n",
      "    result = await self.call_function(\n",
      "             ^^^^^^^^^^^^^^^^^^^^^^^^^\n",
      "  File \"/Users/AlexCorbin_1/anaconda3/envs/hcmle-env/lib/python3.11/site-packages/gradio/blocks.py\", line 1729, in call_function\n",
      "    prediction = await anyio.to_thread.run_sync(  # type: ignore\n",
      "                 ^^^^^^^^^^^^^^^^^^^^^^^^^^^^^^^^^^^^^^^^^^^^^^^\n",
      "  File \"/Users/AlexCorbin_1/anaconda3/envs/hcmle-env/lib/python3.11/site-packages/anyio/to_thread.py\", line 56, in run_sync\n",
      "    return await get_async_backend().run_sync_in_worker_thread(\n",
      "           ^^^^^^^^^^^^^^^^^^^^^^^^^^^^^^^^^^^^^^^^^^^^^^^^^^^^\n",
      "  File \"/Users/AlexCorbin_1/anaconda3/envs/hcmle-env/lib/python3.11/site-packages/anyio/_backends/_asyncio.py\", line 2364, in run_sync_in_worker_thread\n",
      "    return await future\n",
      "           ^^^^^^^^^^^^\n",
      "  File \"/Users/AlexCorbin_1/anaconda3/envs/hcmle-env/lib/python3.11/site-packages/anyio/_backends/_asyncio.py\", line 864, in run\n",
      "    result = context.run(func, *args)\n",
      "             ^^^^^^^^^^^^^^^^^^^^^^^^\n",
      "  File \"/Users/AlexCorbin_1/anaconda3/envs/hcmle-env/lib/python3.11/site-packages/gradio/utils.py\", line 894, in wrapper\n",
      "    response = f(*args, **kwargs)\n",
      "               ^^^^^^^^^^^^^^^^^^\n",
      "  File \"/var/folders/2_/t5zh1jl559582z1w527r_j_m0000gn/T/ipykernel_66724/884404809.py\", line 11, in classify_image\n",
      "    pred, pred_idx, probs = learn.predict(img)\n",
      "                            ^^^^^^^^^^^^^^^^^^\n",
      "  File \"/Users/AlexCorbin_1/anaconda3/envs/hcmle-env/lib/python3.11/site-packages/fastai/learner.py\", line 328, in predict\n",
      "    dl = self.dls.test_dl([item], rm_type_tfms=rm_type_tfms, num_workers=0)\n",
      "         ^^^^^^^^^^^^^^^^^^^^^^^^^^^^^^^^^^^^^^^^^^^^^^^^^^^^^^^^^^^^^^^^^^\n",
      "  File \"/Users/AlexCorbin_1/anaconda3/envs/hcmle-env/lib/python3.11/site-packages/fastai/data/core.py\", line 531, in test_dl\n",
      "    test_ds = test_set(self.valid_ds, test_items, rm_tfms=rm_type_tfms, with_labels=with_labels\n",
      "              ^^^^^^^^^^^^^^^^^^^^^^^^^^^^^^^^^^^^^^^^^^^^^^^^^^^^^^^^^^^^^^^^^^^^^^^^^^^^^^^^^\n",
      "  File \"/Users/AlexCorbin_1/anaconda3/envs/hcmle-env/lib/python3.11/site-packages/fastai/data/core.py\", line 510, in test_set\n",
      "    if rm_tfms is None: rm_tfms = [tl.infer_idx(get_first(test_items)) for tl in test_tls]\n",
      "                                  ^^^^^^^^^^^^^^^^^^^^^^^^^^^^^^^^^^^^^^^^^^^^^^^^^^^^^^^^\n",
      "  File \"/Users/AlexCorbin_1/anaconda3/envs/hcmle-env/lib/python3.11/site-packages/fastai/data/core.py\", line 510, in <listcomp>\n",
      "    if rm_tfms is None: rm_tfms = [tl.infer_idx(get_first(test_items)) for tl in test_tls]\n",
      "                                   ^^^^^^^^^^^^^^^^^^^^^^^^^^^^^^^^^^^\n",
      "  File \"/Users/AlexCorbin_1/anaconda3/envs/hcmle-env/lib/python3.11/site-packages/fastai/data/core.py\", line 404, in infer_idx\n",
      "    assert idx < len(self.types), f\"Expected an input of type in \\n{pretty_types}\\n but got {type(x)}\"\n",
      "           ^^^^^^^^^^^^^^^^^^^^^\n",
      "AssertionError: Expected an input of type in \n",
      "  - <class 'pathlib.PosixPath'>\n",
      "  - <class 'pathlib.Path'>\n",
      "  - <class 'str'>\n",
      "  - <class 'torch.Tensor'>\n",
      "  - <class 'numpy.ndarray'>\n",
      "  - <class 'bytes'>\n",
      "  - <class 'PIL.Image.Image'>\n",
      "  - <class 'fastai.vision.core.PILImage'>\n",
      " but got <class 'NoneType'>\n",
      "Traceback (most recent call last):\n",
      "  File \"/Users/AlexCorbin_1/anaconda3/envs/hcmle-env/lib/python3.11/site-packages/gradio/queueing.py\", line 625, in process_events\n",
      "    response = await route_utils.call_process_api(\n",
      "               ^^^^^^^^^^^^^^^^^^^^^^^^^^^^^^^^^^^\n",
      "  File \"/Users/AlexCorbin_1/anaconda3/envs/hcmle-env/lib/python3.11/site-packages/gradio/route_utils.py\", line 322, in call_process_api\n",
      "    output = await app.get_blocks().process_api(\n",
      "             ^^^^^^^^^^^^^^^^^^^^^^^^^^^^^^^^^^^\n",
      "  File \"/Users/AlexCorbin_1/anaconda3/envs/hcmle-env/lib/python3.11/site-packages/gradio/blocks.py\", line 2218, in process_api\n",
      "    result = await self.call_function(\n",
      "             ^^^^^^^^^^^^^^^^^^^^^^^^^\n",
      "  File \"/Users/AlexCorbin_1/anaconda3/envs/hcmle-env/lib/python3.11/site-packages/gradio/blocks.py\", line 1729, in call_function\n",
      "    prediction = await anyio.to_thread.run_sync(  # type: ignore\n",
      "                 ^^^^^^^^^^^^^^^^^^^^^^^^^^^^^^^^^^^^^^^^^^^^^^^\n",
      "  File \"/Users/AlexCorbin_1/anaconda3/envs/hcmle-env/lib/python3.11/site-packages/anyio/to_thread.py\", line 56, in run_sync\n",
      "    return await get_async_backend().run_sync_in_worker_thread(\n",
      "           ^^^^^^^^^^^^^^^^^^^^^^^^^^^^^^^^^^^^^^^^^^^^^^^^^^^^\n",
      "  File \"/Users/AlexCorbin_1/anaconda3/envs/hcmle-env/lib/python3.11/site-packages/anyio/_backends/_asyncio.py\", line 2364, in run_sync_in_worker_thread\n",
      "    return await future\n",
      "           ^^^^^^^^^^^^\n",
      "  File \"/Users/AlexCorbin_1/anaconda3/envs/hcmle-env/lib/python3.11/site-packages/anyio/_backends/_asyncio.py\", line 864, in run\n",
      "    result = context.run(func, *args)\n",
      "             ^^^^^^^^^^^^^^^^^^^^^^^^\n",
      "  File \"/Users/AlexCorbin_1/anaconda3/envs/hcmle-env/lib/python3.11/site-packages/gradio/utils.py\", line 894, in wrapper\n",
      "    response = f(*args, **kwargs)\n",
      "               ^^^^^^^^^^^^^^^^^^\n",
      "  File \"/var/folders/2_/t5zh1jl559582z1w527r_j_m0000gn/T/ipykernel_66724/884404809.py\", line 11, in classify_image\n",
      "    pred, pred_idx, probs = learn.predict(img)\n",
      "                            ^^^^^^^^^^^^^^^^^^\n",
      "  File \"/Users/AlexCorbin_1/anaconda3/envs/hcmle-env/lib/python3.11/site-packages/fastai/learner.py\", line 328, in predict\n",
      "    dl = self.dls.test_dl([item], rm_type_tfms=rm_type_tfms, num_workers=0)\n",
      "         ^^^^^^^^^^^^^^^^^^^^^^^^^^^^^^^^^^^^^^^^^^^^^^^^^^^^^^^^^^^^^^^^^^\n",
      "  File \"/Users/AlexCorbin_1/anaconda3/envs/hcmle-env/lib/python3.11/site-packages/fastai/data/core.py\", line 531, in test_dl\n",
      "    test_ds = test_set(self.valid_ds, test_items, rm_tfms=rm_type_tfms, with_labels=with_labels\n",
      "              ^^^^^^^^^^^^^^^^^^^^^^^^^^^^^^^^^^^^^^^^^^^^^^^^^^^^^^^^^^^^^^^^^^^^^^^^^^^^^^^^^\n",
      "  File \"/Users/AlexCorbin_1/anaconda3/envs/hcmle-env/lib/python3.11/site-packages/fastai/data/core.py\", line 510, in test_set\n",
      "    if rm_tfms is None: rm_tfms = [tl.infer_idx(get_first(test_items)) for tl in test_tls]\n",
      "                                  ^^^^^^^^^^^^^^^^^^^^^^^^^^^^^^^^^^^^^^^^^^^^^^^^^^^^^^^^\n",
      "  File \"/Users/AlexCorbin_1/anaconda3/envs/hcmle-env/lib/python3.11/site-packages/fastai/data/core.py\", line 510, in <listcomp>\n",
      "    if rm_tfms is None: rm_tfms = [tl.infer_idx(get_first(test_items)) for tl in test_tls]\n",
      "                                   ^^^^^^^^^^^^^^^^^^^^^^^^^^^^^^^^^^^\n",
      "  File \"/Users/AlexCorbin_1/anaconda3/envs/hcmle-env/lib/python3.11/site-packages/fastai/data/core.py\", line 404, in infer_idx\n",
      "    assert idx < len(self.types), f\"Expected an input of type in \\n{pretty_types}\\n but got {type(x)}\"\n",
      "           ^^^^^^^^^^^^^^^^^^^^^\n",
      "AssertionError: Expected an input of type in \n",
      "  - <class 'pathlib.PosixPath'>\n",
      "  - <class 'pathlib.Path'>\n",
      "  - <class 'str'>\n",
      "  - <class 'torch.Tensor'>\n",
      "  - <class 'numpy.ndarray'>\n",
      "  - <class 'bytes'>\n",
      "  - <class 'PIL.Image.Image'>\n",
      "  - <class 'fastai.vision.core.PILImage'>\n",
      " but got <class 'NoneType'>\n",
      "Traceback (most recent call last):\n",
      "  File \"/Users/AlexCorbin_1/anaconda3/envs/hcmle-env/lib/python3.11/site-packages/gradio/queueing.py\", line 625, in process_events\n",
      "    response = await route_utils.call_process_api(\n",
      "               ^^^^^^^^^^^^^^^^^^^^^^^^^^^^^^^^^^^\n",
      "  File \"/Users/AlexCorbin_1/anaconda3/envs/hcmle-env/lib/python3.11/site-packages/gradio/route_utils.py\", line 322, in call_process_api\n",
      "    output = await app.get_blocks().process_api(\n",
      "             ^^^^^^^^^^^^^^^^^^^^^^^^^^^^^^^^^^^\n",
      "  File \"/Users/AlexCorbin_1/anaconda3/envs/hcmle-env/lib/python3.11/site-packages/gradio/blocks.py\", line 2218, in process_api\n",
      "    result = await self.call_function(\n",
      "             ^^^^^^^^^^^^^^^^^^^^^^^^^\n",
      "  File \"/Users/AlexCorbin_1/anaconda3/envs/hcmle-env/lib/python3.11/site-packages/gradio/blocks.py\", line 1729, in call_function\n",
      "    prediction = await anyio.to_thread.run_sync(  # type: ignore\n",
      "                 ^^^^^^^^^^^^^^^^^^^^^^^^^^^^^^^^^^^^^^^^^^^^^^^\n",
      "  File \"/Users/AlexCorbin_1/anaconda3/envs/hcmle-env/lib/python3.11/site-packages/anyio/to_thread.py\", line 56, in run_sync\n",
      "    return await get_async_backend().run_sync_in_worker_thread(\n",
      "           ^^^^^^^^^^^^^^^^^^^^^^^^^^^^^^^^^^^^^^^^^^^^^^^^^^^^\n",
      "  File \"/Users/AlexCorbin_1/anaconda3/envs/hcmle-env/lib/python3.11/site-packages/anyio/_backends/_asyncio.py\", line 2364, in run_sync_in_worker_thread\n",
      "    return await future\n",
      "           ^^^^^^^^^^^^\n",
      "  File \"/Users/AlexCorbin_1/anaconda3/envs/hcmle-env/lib/python3.11/site-packages/anyio/_backends/_asyncio.py\", line 864, in run\n",
      "    result = context.run(func, *args)\n",
      "             ^^^^^^^^^^^^^^^^^^^^^^^^\n",
      "  File \"/Users/AlexCorbin_1/anaconda3/envs/hcmle-env/lib/python3.11/site-packages/gradio/utils.py\", line 894, in wrapper\n",
      "    response = f(*args, **kwargs)\n",
      "               ^^^^^^^^^^^^^^^^^^\n",
      "  File \"/var/folders/2_/t5zh1jl559582z1w527r_j_m0000gn/T/ipykernel_66724/884404809.py\", line 11, in classify_image\n",
      "    pred, pred_idx, probs = learn.predict(img)\n",
      "                            ^^^^^^^^^^^^^^^^^^\n",
      "  File \"/Users/AlexCorbin_1/anaconda3/envs/hcmle-env/lib/python3.11/site-packages/fastai/learner.py\", line 328, in predict\n",
      "    dl = self.dls.test_dl([item], rm_type_tfms=rm_type_tfms, num_workers=0)\n",
      "         ^^^^^^^^^^^^^^^^^^^^^^^^^^^^^^^^^^^^^^^^^^^^^^^^^^^^^^^^^^^^^^^^^^\n",
      "  File \"/Users/AlexCorbin_1/anaconda3/envs/hcmle-env/lib/python3.11/site-packages/fastai/data/core.py\", line 531, in test_dl\n",
      "    test_ds = test_set(self.valid_ds, test_items, rm_tfms=rm_type_tfms, with_labels=with_labels\n",
      "              ^^^^^^^^^^^^^^^^^^^^^^^^^^^^^^^^^^^^^^^^^^^^^^^^^^^^^^^^^^^^^^^^^^^^^^^^^^^^^^^^^\n",
      "  File \"/Users/AlexCorbin_1/anaconda3/envs/hcmle-env/lib/python3.11/site-packages/fastai/data/core.py\", line 510, in test_set\n",
      "    if rm_tfms is None: rm_tfms = [tl.infer_idx(get_first(test_items)) for tl in test_tls]\n",
      "                                  ^^^^^^^^^^^^^^^^^^^^^^^^^^^^^^^^^^^^^^^^^^^^^^^^^^^^^^^^\n",
      "  File \"/Users/AlexCorbin_1/anaconda3/envs/hcmle-env/lib/python3.11/site-packages/fastai/data/core.py\", line 510, in <listcomp>\n",
      "    if rm_tfms is None: rm_tfms = [tl.infer_idx(get_first(test_items)) for tl in test_tls]\n",
      "                                   ^^^^^^^^^^^^^^^^^^^^^^^^^^^^^^^^^^^\n",
      "  File \"/Users/AlexCorbin_1/anaconda3/envs/hcmle-env/lib/python3.11/site-packages/fastai/data/core.py\", line 404, in infer_idx\n",
      "    assert idx < len(self.types), f\"Expected an input of type in \\n{pretty_types}\\n but got {type(x)}\"\n",
      "           ^^^^^^^^^^^^^^^^^^^^^\n",
      "AssertionError: Expected an input of type in \n",
      "  - <class 'pathlib.PosixPath'>\n",
      "  - <class 'pathlib.Path'>\n",
      "  - <class 'str'>\n",
      "  - <class 'torch.Tensor'>\n",
      "  - <class 'numpy.ndarray'>\n",
      "  - <class 'bytes'>\n",
      "  - <class 'PIL.Image.Image'>\n",
      "  - <class 'fastai.vision.core.PILImage'>\n",
      " but got <class 'NoneType'>\n",
      "Traceback (most recent call last):\n",
      "  File \"/Users/AlexCorbin_1/anaconda3/envs/hcmle-env/lib/python3.11/site-packages/gradio/queueing.py\", line 625, in process_events\n",
      "    response = await route_utils.call_process_api(\n",
      "               ^^^^^^^^^^^^^^^^^^^^^^^^^^^^^^^^^^^\n",
      "  File \"/Users/AlexCorbin_1/anaconda3/envs/hcmle-env/lib/python3.11/site-packages/gradio/route_utils.py\", line 322, in call_process_api\n",
      "    output = await app.get_blocks().process_api(\n",
      "             ^^^^^^^^^^^^^^^^^^^^^^^^^^^^^^^^^^^\n",
      "  File \"/Users/AlexCorbin_1/anaconda3/envs/hcmle-env/lib/python3.11/site-packages/gradio/blocks.py\", line 2218, in process_api\n",
      "    result = await self.call_function(\n",
      "             ^^^^^^^^^^^^^^^^^^^^^^^^^\n",
      "  File \"/Users/AlexCorbin_1/anaconda3/envs/hcmle-env/lib/python3.11/site-packages/gradio/blocks.py\", line 1729, in call_function\n",
      "    prediction = await anyio.to_thread.run_sync(  # type: ignore\n",
      "                 ^^^^^^^^^^^^^^^^^^^^^^^^^^^^^^^^^^^^^^^^^^^^^^^\n",
      "  File \"/Users/AlexCorbin_1/anaconda3/envs/hcmle-env/lib/python3.11/site-packages/anyio/to_thread.py\", line 56, in run_sync\n",
      "    return await get_async_backend().run_sync_in_worker_thread(\n",
      "           ^^^^^^^^^^^^^^^^^^^^^^^^^^^^^^^^^^^^^^^^^^^^^^^^^^^^\n",
      "  File \"/Users/AlexCorbin_1/anaconda3/envs/hcmle-env/lib/python3.11/site-packages/anyio/_backends/_asyncio.py\", line 2364, in run_sync_in_worker_thread\n",
      "    return await future\n",
      "           ^^^^^^^^^^^^\n",
      "  File \"/Users/AlexCorbin_1/anaconda3/envs/hcmle-env/lib/python3.11/site-packages/anyio/_backends/_asyncio.py\", line 864, in run\n",
      "    result = context.run(func, *args)\n",
      "             ^^^^^^^^^^^^^^^^^^^^^^^^\n",
      "  File \"/Users/AlexCorbin_1/anaconda3/envs/hcmle-env/lib/python3.11/site-packages/gradio/utils.py\", line 894, in wrapper\n",
      "    response = f(*args, **kwargs)\n",
      "               ^^^^^^^^^^^^^^^^^^\n",
      "  File \"/var/folders/2_/t5zh1jl559582z1w527r_j_m0000gn/T/ipykernel_66724/884404809.py\", line 11, in classify_image\n",
      "    pred, pred_idx, probs = learn.predict(img)\n",
      "                            ^^^^^^^^^^^^^^^^^^\n",
      "  File \"/Users/AlexCorbin_1/anaconda3/envs/hcmle-env/lib/python3.11/site-packages/fastai/learner.py\", line 328, in predict\n",
      "    dl = self.dls.test_dl([item], rm_type_tfms=rm_type_tfms, num_workers=0)\n",
      "         ^^^^^^^^^^^^^^^^^^^^^^^^^^^^^^^^^^^^^^^^^^^^^^^^^^^^^^^^^^^^^^^^^^\n",
      "  File \"/Users/AlexCorbin_1/anaconda3/envs/hcmle-env/lib/python3.11/site-packages/fastai/data/core.py\", line 531, in test_dl\n",
      "    test_ds = test_set(self.valid_ds, test_items, rm_tfms=rm_type_tfms, with_labels=with_labels\n",
      "              ^^^^^^^^^^^^^^^^^^^^^^^^^^^^^^^^^^^^^^^^^^^^^^^^^^^^^^^^^^^^^^^^^^^^^^^^^^^^^^^^^\n",
      "  File \"/Users/AlexCorbin_1/anaconda3/envs/hcmle-env/lib/python3.11/site-packages/fastai/data/core.py\", line 510, in test_set\n",
      "    if rm_tfms is None: rm_tfms = [tl.infer_idx(get_first(test_items)) for tl in test_tls]\n",
      "                                  ^^^^^^^^^^^^^^^^^^^^^^^^^^^^^^^^^^^^^^^^^^^^^^^^^^^^^^^^\n",
      "  File \"/Users/AlexCorbin_1/anaconda3/envs/hcmle-env/lib/python3.11/site-packages/fastai/data/core.py\", line 510, in <listcomp>\n",
      "    if rm_tfms is None: rm_tfms = [tl.infer_idx(get_first(test_items)) for tl in test_tls]\n",
      "                                   ^^^^^^^^^^^^^^^^^^^^^^^^^^^^^^^^^^^\n",
      "  File \"/Users/AlexCorbin_1/anaconda3/envs/hcmle-env/lib/python3.11/site-packages/fastai/data/core.py\", line 404, in infer_idx\n",
      "    assert idx < len(self.types), f\"Expected an input of type in \\n{pretty_types}\\n but got {type(x)}\"\n",
      "           ^^^^^^^^^^^^^^^^^^^^^\n",
      "AssertionError: Expected an input of type in \n",
      "  - <class 'pathlib.PosixPath'>\n",
      "  - <class 'pathlib.Path'>\n",
      "  - <class 'str'>\n",
      "  - <class 'torch.Tensor'>\n",
      "  - <class 'numpy.ndarray'>\n",
      "  - <class 'bytes'>\n",
      "  - <class 'PIL.Image.Image'>\n",
      "  - <class 'fastai.vision.core.PILImage'>\n",
      " but got <class 'NoneType'>\n",
      "Traceback (most recent call last):\n",
      "  File \"/Users/AlexCorbin_1/anaconda3/envs/hcmle-env/lib/python3.11/site-packages/gradio/queueing.py\", line 625, in process_events\n",
      "    response = await route_utils.call_process_api(\n",
      "               ^^^^^^^^^^^^^^^^^^^^^^^^^^^^^^^^^^^\n",
      "  File \"/Users/AlexCorbin_1/anaconda3/envs/hcmle-env/lib/python3.11/site-packages/gradio/route_utils.py\", line 322, in call_process_api\n",
      "    output = await app.get_blocks().process_api(\n",
      "             ^^^^^^^^^^^^^^^^^^^^^^^^^^^^^^^^^^^\n",
      "  File \"/Users/AlexCorbin_1/anaconda3/envs/hcmle-env/lib/python3.11/site-packages/gradio/blocks.py\", line 2218, in process_api\n",
      "    result = await self.call_function(\n",
      "             ^^^^^^^^^^^^^^^^^^^^^^^^^\n",
      "  File \"/Users/AlexCorbin_1/anaconda3/envs/hcmle-env/lib/python3.11/site-packages/gradio/blocks.py\", line 1729, in call_function\n",
      "    prediction = await anyio.to_thread.run_sync(  # type: ignore\n",
      "                 ^^^^^^^^^^^^^^^^^^^^^^^^^^^^^^^^^^^^^^^^^^^^^^^\n",
      "  File \"/Users/AlexCorbin_1/anaconda3/envs/hcmle-env/lib/python3.11/site-packages/anyio/to_thread.py\", line 56, in run_sync\n",
      "    return await get_async_backend().run_sync_in_worker_thread(\n",
      "           ^^^^^^^^^^^^^^^^^^^^^^^^^^^^^^^^^^^^^^^^^^^^^^^^^^^^\n",
      "  File \"/Users/AlexCorbin_1/anaconda3/envs/hcmle-env/lib/python3.11/site-packages/anyio/_backends/_asyncio.py\", line 2364, in run_sync_in_worker_thread\n",
      "    return await future\n",
      "           ^^^^^^^^^^^^\n",
      "  File \"/Users/AlexCorbin_1/anaconda3/envs/hcmle-env/lib/python3.11/site-packages/anyio/_backends/_asyncio.py\", line 864, in run\n",
      "    result = context.run(func, *args)\n",
      "             ^^^^^^^^^^^^^^^^^^^^^^^^\n",
      "  File \"/Users/AlexCorbin_1/anaconda3/envs/hcmle-env/lib/python3.11/site-packages/gradio/utils.py\", line 894, in wrapper\n",
      "    response = f(*args, **kwargs)\n",
      "               ^^^^^^^^^^^^^^^^^^\n",
      "  File \"/var/folders/2_/t5zh1jl559582z1w527r_j_m0000gn/T/ipykernel_66724/884404809.py\", line 11, in classify_image\n",
      "    pred, pred_idx, probs = learn.predict(img)\n",
      "                            ^^^^^^^^^^^^^^^^^^\n",
      "  File \"/Users/AlexCorbin_1/anaconda3/envs/hcmle-env/lib/python3.11/site-packages/fastai/learner.py\", line 328, in predict\n",
      "    dl = self.dls.test_dl([item], rm_type_tfms=rm_type_tfms, num_workers=0)\n",
      "         ^^^^^^^^^^^^^^^^^^^^^^^^^^^^^^^^^^^^^^^^^^^^^^^^^^^^^^^^^^^^^^^^^^\n",
      "  File \"/Users/AlexCorbin_1/anaconda3/envs/hcmle-env/lib/python3.11/site-packages/fastai/data/core.py\", line 531, in test_dl\n",
      "    test_ds = test_set(self.valid_ds, test_items, rm_tfms=rm_type_tfms, with_labels=with_labels\n",
      "              ^^^^^^^^^^^^^^^^^^^^^^^^^^^^^^^^^^^^^^^^^^^^^^^^^^^^^^^^^^^^^^^^^^^^^^^^^^^^^^^^^\n",
      "  File \"/Users/AlexCorbin_1/anaconda3/envs/hcmle-env/lib/python3.11/site-packages/fastai/data/core.py\", line 510, in test_set\n",
      "    if rm_tfms is None: rm_tfms = [tl.infer_idx(get_first(test_items)) for tl in test_tls]\n",
      "                                  ^^^^^^^^^^^^^^^^^^^^^^^^^^^^^^^^^^^^^^^^^^^^^^^^^^^^^^^^\n",
      "  File \"/Users/AlexCorbin_1/anaconda3/envs/hcmle-env/lib/python3.11/site-packages/fastai/data/core.py\", line 510, in <listcomp>\n",
      "    if rm_tfms is None: rm_tfms = [tl.infer_idx(get_first(test_items)) for tl in test_tls]\n",
      "                                   ^^^^^^^^^^^^^^^^^^^^^^^^^^^^^^^^^^^\n",
      "  File \"/Users/AlexCorbin_1/anaconda3/envs/hcmle-env/lib/python3.11/site-packages/fastai/data/core.py\", line 404, in infer_idx\n",
      "    assert idx < len(self.types), f\"Expected an input of type in \\n{pretty_types}\\n but got {type(x)}\"\n",
      "           ^^^^^^^^^^^^^^^^^^^^^\n",
      "AssertionError: Expected an input of type in \n",
      "  - <class 'pathlib.PosixPath'>\n",
      "  - <class 'pathlib.Path'>\n",
      "  - <class 'str'>\n",
      "  - <class 'torch.Tensor'>\n",
      "  - <class 'numpy.ndarray'>\n",
      "  - <class 'bytes'>\n",
      "  - <class 'PIL.Image.Image'>\n",
      "  - <class 'fastai.vision.core.PILImage'>\n",
      " but got <class 'NoneType'>\n",
      "Traceback (most recent call last):\n",
      "  File \"/Users/AlexCorbin_1/anaconda3/envs/hcmle-env/lib/python3.11/site-packages/gradio/queueing.py\", line 625, in process_events\n",
      "    response = await route_utils.call_process_api(\n",
      "               ^^^^^^^^^^^^^^^^^^^^^^^^^^^^^^^^^^^\n",
      "  File \"/Users/AlexCorbin_1/anaconda3/envs/hcmle-env/lib/python3.11/site-packages/gradio/route_utils.py\", line 322, in call_process_api\n",
      "    output = await app.get_blocks().process_api(\n",
      "             ^^^^^^^^^^^^^^^^^^^^^^^^^^^^^^^^^^^\n",
      "  File \"/Users/AlexCorbin_1/anaconda3/envs/hcmle-env/lib/python3.11/site-packages/gradio/blocks.py\", line 2218, in process_api\n",
      "    result = await self.call_function(\n",
      "             ^^^^^^^^^^^^^^^^^^^^^^^^^\n",
      "  File \"/Users/AlexCorbin_1/anaconda3/envs/hcmle-env/lib/python3.11/site-packages/gradio/blocks.py\", line 1729, in call_function\n",
      "    prediction = await anyio.to_thread.run_sync(  # type: ignore\n",
      "                 ^^^^^^^^^^^^^^^^^^^^^^^^^^^^^^^^^^^^^^^^^^^^^^^\n",
      "  File \"/Users/AlexCorbin_1/anaconda3/envs/hcmle-env/lib/python3.11/site-packages/anyio/to_thread.py\", line 56, in run_sync\n",
      "    return await get_async_backend().run_sync_in_worker_thread(\n",
      "           ^^^^^^^^^^^^^^^^^^^^^^^^^^^^^^^^^^^^^^^^^^^^^^^^^^^^\n",
      "  File \"/Users/AlexCorbin_1/anaconda3/envs/hcmle-env/lib/python3.11/site-packages/anyio/_backends/_asyncio.py\", line 2364, in run_sync_in_worker_thread\n",
      "    return await future\n",
      "           ^^^^^^^^^^^^\n",
      "  File \"/Users/AlexCorbin_1/anaconda3/envs/hcmle-env/lib/python3.11/site-packages/anyio/_backends/_asyncio.py\", line 864, in run\n",
      "    result = context.run(func, *args)\n",
      "             ^^^^^^^^^^^^^^^^^^^^^^^^\n",
      "  File \"/Users/AlexCorbin_1/anaconda3/envs/hcmle-env/lib/python3.11/site-packages/gradio/utils.py\", line 894, in wrapper\n",
      "    response = f(*args, **kwargs)\n",
      "               ^^^^^^^^^^^^^^^^^^\n",
      "  File \"/var/folders/2_/t5zh1jl559582z1w527r_j_m0000gn/T/ipykernel_66724/884404809.py\", line 11, in classify_image\n",
      "    pred, pred_idx, probs = learn.predict(img)\n",
      "                            ^^^^^^^^^^^^^^^^^^\n",
      "  File \"/Users/AlexCorbin_1/anaconda3/envs/hcmle-env/lib/python3.11/site-packages/fastai/learner.py\", line 328, in predict\n",
      "    dl = self.dls.test_dl([item], rm_type_tfms=rm_type_tfms, num_workers=0)\n",
      "         ^^^^^^^^^^^^^^^^^^^^^^^^^^^^^^^^^^^^^^^^^^^^^^^^^^^^^^^^^^^^^^^^^^\n",
      "  File \"/Users/AlexCorbin_1/anaconda3/envs/hcmle-env/lib/python3.11/site-packages/fastai/data/core.py\", line 531, in test_dl\n",
      "    test_ds = test_set(self.valid_ds, test_items, rm_tfms=rm_type_tfms, with_labels=with_labels\n",
      "              ^^^^^^^^^^^^^^^^^^^^^^^^^^^^^^^^^^^^^^^^^^^^^^^^^^^^^^^^^^^^^^^^^^^^^^^^^^^^^^^^^\n",
      "  File \"/Users/AlexCorbin_1/anaconda3/envs/hcmle-env/lib/python3.11/site-packages/fastai/data/core.py\", line 510, in test_set\n",
      "    if rm_tfms is None: rm_tfms = [tl.infer_idx(get_first(test_items)) for tl in test_tls]\n",
      "                                  ^^^^^^^^^^^^^^^^^^^^^^^^^^^^^^^^^^^^^^^^^^^^^^^^^^^^^^^^\n",
      "  File \"/Users/AlexCorbin_1/anaconda3/envs/hcmle-env/lib/python3.11/site-packages/fastai/data/core.py\", line 510, in <listcomp>\n",
      "    if rm_tfms is None: rm_tfms = [tl.infer_idx(get_first(test_items)) for tl in test_tls]\n",
      "                                   ^^^^^^^^^^^^^^^^^^^^^^^^^^^^^^^^^^^\n",
      "  File \"/Users/AlexCorbin_1/anaconda3/envs/hcmle-env/lib/python3.11/site-packages/fastai/data/core.py\", line 404, in infer_idx\n",
      "    assert idx < len(self.types), f\"Expected an input of type in \\n{pretty_types}\\n but got {type(x)}\"\n",
      "           ^^^^^^^^^^^^^^^^^^^^^\n",
      "AssertionError: Expected an input of type in \n",
      "  - <class 'pathlib.PosixPath'>\n",
      "  - <class 'pathlib.Path'>\n",
      "  - <class 'str'>\n",
      "  - <class 'torch.Tensor'>\n",
      "  - <class 'numpy.ndarray'>\n",
      "  - <class 'bytes'>\n",
      "  - <class 'PIL.Image.Image'>\n",
      "  - <class 'fastai.vision.core.PILImage'>\n",
      " but got <class 'NoneType'>\n",
      "Traceback (most recent call last):\n",
      "  File \"/Users/AlexCorbin_1/anaconda3/envs/hcmle-env/lib/python3.11/site-packages/gradio/queueing.py\", line 625, in process_events\n",
      "    response = await route_utils.call_process_api(\n",
      "               ^^^^^^^^^^^^^^^^^^^^^^^^^^^^^^^^^^^\n",
      "  File \"/Users/AlexCorbin_1/anaconda3/envs/hcmle-env/lib/python3.11/site-packages/gradio/route_utils.py\", line 322, in call_process_api\n",
      "    output = await app.get_blocks().process_api(\n",
      "             ^^^^^^^^^^^^^^^^^^^^^^^^^^^^^^^^^^^\n",
      "  File \"/Users/AlexCorbin_1/anaconda3/envs/hcmle-env/lib/python3.11/site-packages/gradio/blocks.py\", line 2218, in process_api\n",
      "    result = await self.call_function(\n",
      "             ^^^^^^^^^^^^^^^^^^^^^^^^^\n",
      "  File \"/Users/AlexCorbin_1/anaconda3/envs/hcmle-env/lib/python3.11/site-packages/gradio/blocks.py\", line 1729, in call_function\n",
      "    prediction = await anyio.to_thread.run_sync(  # type: ignore\n",
      "                 ^^^^^^^^^^^^^^^^^^^^^^^^^^^^^^^^^^^^^^^^^^^^^^^\n",
      "  File \"/Users/AlexCorbin_1/anaconda3/envs/hcmle-env/lib/python3.11/site-packages/anyio/to_thread.py\", line 56, in run_sync\n",
      "    return await get_async_backend().run_sync_in_worker_thread(\n",
      "           ^^^^^^^^^^^^^^^^^^^^^^^^^^^^^^^^^^^^^^^^^^^^^^^^^^^^\n",
      "  File \"/Users/AlexCorbin_1/anaconda3/envs/hcmle-env/lib/python3.11/site-packages/anyio/_backends/_asyncio.py\", line 2364, in run_sync_in_worker_thread\n",
      "    return await future\n",
      "           ^^^^^^^^^^^^\n",
      "  File \"/Users/AlexCorbin_1/anaconda3/envs/hcmle-env/lib/python3.11/site-packages/anyio/_backends/_asyncio.py\", line 864, in run\n",
      "    result = context.run(func, *args)\n",
      "             ^^^^^^^^^^^^^^^^^^^^^^^^\n",
      "  File \"/Users/AlexCorbin_1/anaconda3/envs/hcmle-env/lib/python3.11/site-packages/gradio/utils.py\", line 894, in wrapper\n",
      "    response = f(*args, **kwargs)\n",
      "               ^^^^^^^^^^^^^^^^^^\n",
      "  File \"/var/folders/2_/t5zh1jl559582z1w527r_j_m0000gn/T/ipykernel_66724/884404809.py\", line 11, in classify_image\n",
      "    pred, pred_idx, probs = learn.predict(img)\n",
      "                            ^^^^^^^^^^^^^^^^^^\n",
      "  File \"/Users/AlexCorbin_1/anaconda3/envs/hcmle-env/lib/python3.11/site-packages/fastai/learner.py\", line 328, in predict\n",
      "    dl = self.dls.test_dl([item], rm_type_tfms=rm_type_tfms, num_workers=0)\n",
      "         ^^^^^^^^^^^^^^^^^^^^^^^^^^^^^^^^^^^^^^^^^^^^^^^^^^^^^^^^^^^^^^^^^^\n",
      "  File \"/Users/AlexCorbin_1/anaconda3/envs/hcmle-env/lib/python3.11/site-packages/fastai/data/core.py\", line 531, in test_dl\n",
      "    test_ds = test_set(self.valid_ds, test_items, rm_tfms=rm_type_tfms, with_labels=with_labels\n",
      "              ^^^^^^^^^^^^^^^^^^^^^^^^^^^^^^^^^^^^^^^^^^^^^^^^^^^^^^^^^^^^^^^^^^^^^^^^^^^^^^^^^\n",
      "  File \"/Users/AlexCorbin_1/anaconda3/envs/hcmle-env/lib/python3.11/site-packages/fastai/data/core.py\", line 510, in test_set\n",
      "    if rm_tfms is None: rm_tfms = [tl.infer_idx(get_first(test_items)) for tl in test_tls]\n",
      "                                  ^^^^^^^^^^^^^^^^^^^^^^^^^^^^^^^^^^^^^^^^^^^^^^^^^^^^^^^^\n",
      "  File \"/Users/AlexCorbin_1/anaconda3/envs/hcmle-env/lib/python3.11/site-packages/fastai/data/core.py\", line 510, in <listcomp>\n",
      "    if rm_tfms is None: rm_tfms = [tl.infer_idx(get_first(test_items)) for tl in test_tls]\n",
      "                                   ^^^^^^^^^^^^^^^^^^^^^^^^^^^^^^^^^^^\n",
      "  File \"/Users/AlexCorbin_1/anaconda3/envs/hcmle-env/lib/python3.11/site-packages/fastai/data/core.py\", line 404, in infer_idx\n",
      "    assert idx < len(self.types), f\"Expected an input of type in \\n{pretty_types}\\n but got {type(x)}\"\n",
      "           ^^^^^^^^^^^^^^^^^^^^^\n",
      "AssertionError: Expected an input of type in \n",
      "  - <class 'pathlib.PosixPath'>\n",
      "  - <class 'pathlib.Path'>\n",
      "  - <class 'str'>\n",
      "  - <class 'torch.Tensor'>\n",
      "  - <class 'numpy.ndarray'>\n",
      "  - <class 'bytes'>\n",
      "  - <class 'PIL.Image.Image'>\n",
      "  - <class 'fastai.vision.core.PILImage'>\n",
      " but got <class 'NoneType'>\n"
     ]
    }
   ],
   "source": [
    "import gradio as gr\n",
    "from fastai.vision.all import *\n",
    "\n",
    "# Load the exported model\n",
    "learn = load_learner('cat_dog_classifier.pkl')\n",
    "\n",
    "learn.dls.vocab = ['dog', 'cat']  # False → dog, True → cat\n",
    "\n",
    "# Define the prediction function\n",
    "def classify_image(img):\n",
    "    pred, pred_idx, probs = learn.predict(img)\n",
    "    return {learn.dls.vocab[i]: float(probs[i]) for i in range(len(probs))}\n",
    "\n",
    "# Build and launch the app\n",
    "gr.Interface(\n",
    "    fn=classify_image,\n",
    "    inputs=gr.Image(type=\"pil\"),\n",
    "    outputs=gr.Label(num_top_classes=2),\n",
    "    title=\"Cat vs Dog Classifier\",\n",
    "    description=\"Upload an image of a cat or dog. The model will predict the class with probabilities.\"\n",
    ").launch()"
   ]
  },
  {
   "cell_type": "code",
   "execution_count": 36,
   "id": "a0f9ba50",
   "metadata": {},
   "outputs": [
    {
     "name": "stdout",
     "output_type": "stream",
     "text": [
      "Found 2400 cat images.\n"
     ]
    },
    {
     "data": {
      "text/plain": [
       "'sample.jpg'"
      ]
     },
     "execution_count": 36,
     "metadata": {},
     "output_type": "execute_result"
    }
   ],
   "source": [
    "path = untar_data(URLs.PETS)\n",
    "path_img = path/'images'\n",
    "cat_files = [f for f in get_image_files(path_img) if Path(f).name[0].isupper()]\n",
    "print(f\"Found {len(cat_files)} cat images.\")\n",
    "shutil.copy(random.choice(cat_files), 'sample.jpg')"
   ]
  },
  {
   "cell_type": "code",
   "execution_count": null,
   "id": "a94ace71",
   "metadata": {},
   "outputs": [
    {
     "data": {
      "text/html": [
       "\n",
       "<style>\n",
       "    /* Turns off some styling */\n",
       "    progress {\n",
       "        /* gets rid of default border in Firefox and Opera. */\n",
       "        border: none;\n",
       "        /* Needs to be in here for Safari polyfill so background images work as expected. */\n",
       "        background-size: auto;\n",
       "    }\n",
       "    progress:not([value]), progress:not([value])::-webkit-progress-bar {\n",
       "        background: repeating-linear-gradient(45deg, #7e7e7e, #7e7e7e 10px, #5c5c5c 10px, #5c5c5c 20px);\n",
       "    }\n",
       "    .progress-bar-interrupted, .progress-bar-interrupted::-webkit-progress-bar {\n",
       "        background: #F44336;\n",
       "    }\n",
       "</style>\n"
      ],
      "text/plain": [
       "<IPython.core.display.HTML object>"
      ]
     },
     "metadata": {},
     "output_type": "display_data"
    },
    {
     "data": {
      "text/html": [
       "\n",
       "    <div>\n",
       "      <progress value='0' class='' max='1' style='width:300px; height:20px; vertical-align: middle;'></progress>\n",
       "      0.00% [0/1 00:00&lt;?]\n",
       "    </div>\n",
       "    "
      ],
      "text/plain": [
       "<IPython.core.display.HTML object>"
      ]
     },
     "metadata": {},
     "output_type": "display_data"
    },
    {
     "data": {
      "text/plain": [
       "('True', tensor(1), tensor([1.2690e-13, 1.0000e+00]))"
      ]
     },
     "execution_count": 37,
     "metadata": {},
     "output_type": "execute_result"
    },
    {
     "data": {
      "text/html": [
       "\n",
       "<style>\n",
       "    /* Turns off some styling */\n",
       "    progress {\n",
       "        /* gets rid of default border in Firefox and Opera. */\n",
       "        border: none;\n",
       "        /* Needs to be in here for Safari polyfill so background images work as expected. */\n",
       "        background-size: auto;\n",
       "    }\n",
       "    progress:not([value]), progress:not([value])::-webkit-progress-bar {\n",
       "        background: repeating-linear-gradient(45deg, #7e7e7e, #7e7e7e 10px, #5c5c5c 10px, #5c5c5c 20px);\n",
       "    }\n",
       "    .progress-bar-interrupted, .progress-bar-interrupted::-webkit-progress-bar {\n",
       "        background: #F44336;\n",
       "    }\n",
       "</style>\n"
      ],
      "text/plain": [
       "<IPython.core.display.HTML object>"
      ]
     },
     "metadata": {},
     "output_type": "display_data"
    },
    {
     "data": {
      "text/html": [],
      "text/plain": [
       "<IPython.core.display.HTML object>"
      ]
     },
     "metadata": {},
     "output_type": "display_data"
    },
    {
     "data": {
      "text/html": [
       "\n",
       "<style>\n",
       "    /* Turns off some styling */\n",
       "    progress {\n",
       "        /* gets rid of default border in Firefox and Opera. */\n",
       "        border: none;\n",
       "        /* Needs to be in here for Safari polyfill so background images work as expected. */\n",
       "        background-size: auto;\n",
       "    }\n",
       "    progress:not([value]), progress:not([value])::-webkit-progress-bar {\n",
       "        background: repeating-linear-gradient(45deg, #7e7e7e, #7e7e7e 10px, #5c5c5c 10px, #5c5c5c 20px);\n",
       "    }\n",
       "    .progress-bar-interrupted, .progress-bar-interrupted::-webkit-progress-bar {\n",
       "        background: #F44336;\n",
       "    }\n",
       "</style>\n"
      ],
      "text/plain": [
       "<IPython.core.display.HTML object>"
      ]
     },
     "metadata": {},
     "output_type": "display_data"
    },
    {
     "data": {
      "text/html": [],
      "text/plain": [
       "<IPython.core.display.HTML object>"
      ]
     },
     "metadata": {},
     "output_type": "display_data"
    },
    {
     "data": {
      "text/html": [
       "\n",
       "<style>\n",
       "    /* Turns off some styling */\n",
       "    progress {\n",
       "        /* gets rid of default border in Firefox and Opera. */\n",
       "        border: none;\n",
       "        /* Needs to be in here for Safari polyfill so background images work as expected. */\n",
       "        background-size: auto;\n",
       "    }\n",
       "    progress:not([value]), progress:not([value])::-webkit-progress-bar {\n",
       "        background: repeating-linear-gradient(45deg, #7e7e7e, #7e7e7e 10px, #5c5c5c 10px, #5c5c5c 20px);\n",
       "    }\n",
       "    .progress-bar-interrupted, .progress-bar-interrupted::-webkit-progress-bar {\n",
       "        background: #F44336;\n",
       "    }\n",
       "</style>\n"
      ],
      "text/plain": [
       "<IPython.core.display.HTML object>"
      ]
     },
     "metadata": {},
     "output_type": "display_data"
    },
    {
     "data": {
      "text/html": [],
      "text/plain": [
       "<IPython.core.display.HTML object>"
      ]
     },
     "metadata": {},
     "output_type": "display_data"
    }
   ],
   "source": [
    "img = PILImage.create('sample.jpg')\n",
    "learn.predict(img)"
   ]
  }
 ],
 "metadata": {
  "kernelspec": {
   "display_name": "Python (hcmle-env)",
   "language": "python",
   "name": "hcmle-env"
  },
  "language_info": {
   "codemirror_mode": {
    "name": "ipython",
    "version": 3
   },
   "file_extension": ".py",
   "mimetype": "text/x-python",
   "name": "python",
   "nbconvert_exporter": "python",
   "pygments_lexer": "ipython3",
   "version": "3.11.11"
  }
 },
 "nbformat": 4,
 "nbformat_minor": 5
}
