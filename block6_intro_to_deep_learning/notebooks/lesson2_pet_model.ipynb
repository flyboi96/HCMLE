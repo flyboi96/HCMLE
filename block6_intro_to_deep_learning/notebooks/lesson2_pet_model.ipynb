{
 "cells": [
  {
   "cell_type": "code",
   "execution_count": null,
   "id": "61db5e73",
   "metadata": {},
   "outputs": [],
   "source": [
    "from fastai.vision.all import *\n",
    "\n",
    "path = untar_data(URLs.PETS)\n",
    "path_img = path / \"images\"\n",
    "\n",
    "def is_cat(x): return Path(x).name[0].isupper()\n",
    "\n",
    "dls = ImageDataLoaders.from_name_func(\n",
    "    path_img,\n",
    "    get_image_files(path_img),\n",
    "    valid_pct=0.2,\n",
    "    seed=42,\n",
    "    label_func=is_cat,\n",
    "    item_tfms=Resize(224)\n",
    ")"
   ]
  },
  {
   "cell_type": "code",
   "execution_count": null,
   "id": "f7a40474",
   "metadata": {},
   "outputs": [],
   "source": [
    "learn = vision_learner(dls, resnet34, metrics=accuracy)\n",
    "learn.fine_tune(3)\n",
    "learn.export('cat_dog_classifier.pkl')"
   ]
  },
  {
   "cell_type": "code",
   "execution_count": null,
   "id": "c1d4b2a5",
   "metadata": {},
   "outputs": [],
   "source": [
    "learn.path = Path('.')  # Optional override\n",
    "learn.export('cat_dog_classifier.pkl')"
   ]
  },
  {
   "cell_type": "code",
   "execution_count": null,
   "id": "903a36cc",
   "metadata": {},
   "outputs": [],
   "source": [
    "learn = load_learner('cat_dog_classifier.pkl')"
   ]
  },
  {
   "cell_type": "code",
   "execution_count": null,
   "id": "29e4bb09",
   "metadata": {},
   "outputs": [],
   "source": [
    "import gradio as gr\n",
    "from fastai.vision.all import *\n",
    "\n",
    "# Load the exported model\n",
    "learn = load_learner('cat_dog_classifier.pkl')\n",
    "\n",
    "learn.dls.vocab = ['dog', 'cat']  # False → dog, True → cat\n",
    "\n",
    "# Define the prediction function\n",
    "def classify_image(img):\n",
    "    pred, pred_idx, probs = learn.predict(img)\n",
    "    return {learn.dls.vocab[i]: float(probs[i]) for i in range(len(probs))}\n",
    "\n",
    "# Build and launch the app\n",
    "gr.Interface(\n",
    "    fn=classify_image,\n",
    "    inputs=gr.Image(type=\"pil\"),\n",
    "    outputs=gr.Label(num_top_classes=2),\n",
    "    title=\"Cat vs Dog Classifier\",\n",
    "    description=\"Upload an image of a cat or dog. The model will predict the class with probabilities.\"\n",
    ").launch()"
   ]
  },
  {
   "cell_type": "code",
   "execution_count": null,
   "id": "a0f9ba50",
   "metadata": {},
   "outputs": [],
   "source": [
    "path = untar_data(URLs.PETS)\n",
    "path_img = path/'images'\n",
    "cat_files = [f for f in get_image_files(path_img) if Path(f).name[0].isupper()]\n",
    "print(f\"Found {len(cat_files)} cat images.\")\n",
    "shutil.copy(random.choice(cat_files), 'sample.jpg')"
   ]
  },
  {
   "cell_type": "code",
   "execution_count": null,
   "id": "a94ace71",
   "metadata": {},
   "outputs": [],
   "source": [
    "img = PILImage.create('sample.jpg')\n",
    "learn.predict(img)"
   ]
  }
 ],
 "metadata": {
  "kernelspec": {
   "display_name": "Python (hcmle-env)",
   "language": "python",
   "name": "hcmle-env"
  },
  "language_info": {
   "codemirror_mode": {
    "name": "ipython",
    "version": 3
   },
   "file_extension": ".py",
   "mimetype": "text/x-python",
   "name": "python",
   "nbconvert_exporter": "python",
   "pygments_lexer": "ipython3",
   "version": "3.11.11"
  }
 },
 "nbformat": 4,
 "nbformat_minor": 5
}
