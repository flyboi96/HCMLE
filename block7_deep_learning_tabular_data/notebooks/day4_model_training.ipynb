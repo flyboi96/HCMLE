{
 "cells": [
  {
   "cell_type": "markdown",
   "id": "7642fe1c",
   "metadata": {},
   "source": [
    "# Day 4: Model Training and Evaluation\n",
    "\n",
    "## 1. Objective\n",
    "Train the Rossmann tabular deep learning model on the training dataset and evaluate performance using training and validation loss.\n",
    "\n",
    "## 2. Key Steps\n",
    "- Reload Rossmann CSVs and merge/store features\n",
    "- Apply consistent preprocessing (date, categoricals, normalization)\n",
    "- Define features, target, and splits\n",
    "- Rebuild `TabularPandas` and `DataLoaders` objects"
   ]
  },
  {
   "cell_type": "code",
   "execution_count": null,
   "id": "9ea59ae1",
   "metadata": {},
   "outputs": [],
   "source": [
    "from fastai.tabular.all import *\n",
    "import warnings\n",
    "warnings.simplefilter(action='ignore', category=FutureWarning)\n",
    "\n",
    "# Load and merge raw CSVs\n",
    "path = Path('../data/rossmann')\n",
    "df = pd.read_csv(path/'train.csv', low_memory=False)\n",
    "store_df = pd.read_csv(path/'store.csv')\n",
    "df = pd.merge(df, store_df, how='left', on='Store')\n",
    "\n",
    "# Format date column\n",
    "df['Date'] = pd.to_datetime(df['Date'])\n",
    "add_datepart(df, 'Date', drop=True)\n",
    "\n",
    "# Define modeling components\n",
    "dep_var = 'Sales'\n",
    "cat_names = ['Store', 'DayOfWeek', 'StateHoliday', 'SchoolHoliday', 'StoreType', \n",
    "             'Assortment', 'Promo', 'Promo2', 'PromoInterval', 'Month', 'Day', 'Year', 'Week', 'Dayofweek']\n",
    "cont_names = ['Customers', 'Open', 'CompetitionDistance', 'CompetitionOpenSinceMonth',\n",
    "              'CompetitionOpenSinceYear', 'Promo2SinceWeek', 'Promo2SinceYear']\n",
    "procs = [Categorify, FillMissing, Normalize]\n",
    "splits = RandomSplitter(seed=42)(df)\n",
    "\n",
    "# Create loaders\n",
    "to = TabularPandas(df, procs, cat_names, cont_names, dep_var, splits=splits)\n",
    "dls = to.dataloaders(bs=64)"
   ]
  },
  {
   "cell_type": "markdown",
   "id": "d1a97f69",
   "metadata": {},
   "source": [
    "## 3. Model Training\n",
    "\n",
    "We use fastai's `tabular_learner` to define a neural network that takes embedded categorical features and normalized continuous variables as input. The model is trained to minimize RMSE on the `Sales` target using an 80/20 split."
   ]
  },
  {
   "cell_type": "code",
   "execution_count": null,
   "id": "ef6c0e1f",
   "metadata": {},
   "outputs": [],
   "source": [
    "# Define learner with RMSE metric and reasonable y_range\n",
    "learn = tabular_learner(\n",
    "    dls,\n",
    "    layers=[200, 100],\n",
    "    metrics=rmse,\n",
    "    y_range=(0, df['Sales'].max())\n",
    ")\n",
    "\n",
    "# Find optimal learning rate\n",
    "learn.lr_find(suggest_funcs=(minimum, steep, valley, slide))"
   ]
  },
  {
   "cell_type": "code",
   "execution_count": null,
   "id": "24fd16fa",
   "metadata": {},
   "outputs": [],
   "source": [
    "lr_max = 5e-3  # from valley"
   ]
  },
  {
   "cell_type": "markdown",
   "id": "3f5d4a0c",
   "metadata": {},
   "source": [
    "## Learning Rate Selection\n",
    "\n",
    "To select an optimal learning rate, we used `learn.lr_find()` which scanned a range of learning rates and recorded the loss at each point.\n",
    "\n",
    "The FastAI utility returned the following suggested learning rates:\n",
    "\n",
    "- **minimum**: `0.331` – where the loss reached its lowest point before instability\n",
    "- **steep**: `0.0398` – where the loss was decreasing most rapidly\n",
    "- **valley**: `0.0052` – the most stable region of low, flat loss\n",
    "- **slide**: `6.31e-7` – very slow learning, risk of underfitting\n",
    "\n",
    "We selected **`lr_max = 5e-3`** based on the **valley region**, which represents a safe and effective learning rate:\n",
    "- It avoids the instability of the steep region.\n",
    "- It maintains a low and consistent loss.\n",
    "- It balances speed and stability across multiple epochs.\n",
    "\n",
    "This choice helps ensure the model converges efficiently without overshooting or oscillating."
   ]
  },
  {
   "cell_type": "markdown",
   "id": "7cdee44e",
   "metadata": {},
   "source": [
    "## 4. Training and Saving Outputs\n",
    "\n",
    "With the learning rate chosen, we now fit the model using the `fit_one_cycle` schedule. We'll then plot the loss curves and save both the model and visualization."
   ]
  },
  {
   "cell_type": "code",
   "execution_count": null,
   "id": "3a3d5937",
   "metadata": {},
   "outputs": [],
   "source": [
    "# Train model with selected learning rate\n",
    "learn.fit_one_cycle(5, lr_max=lr_max)"
   ]
  },
  {
   "cell_type": "code",
   "execution_count": null,
   "id": "66fb5b8f",
   "metadata": {},
   "outputs": [],
   "source": [
    "# Save model\n",
    "learn.export('../models/block7_model.pkl')\n",
    "\n",
    "# Plot loss curves\n",
    "import matplotlib.pyplot as plt\n",
    "\n",
    "fig, ax = plt.subplots()\n",
    "learn.recorder.plot_loss(ax=ax)\n",
    "ax.set_title('Training and Validation Loss')\n",
    "fig.savefig('../plots/loss_curve_day4.png')"
   ]
  },
  {
   "cell_type": "code",
   "execution_count": null,
   "id": "fff1985c",
   "metadata": {},
   "outputs": [],
   "source": [
    "import matplotlib.pyplot as plt\n",
    "\n",
    "# Extract RMSE values from recorder\n",
    "rmse_vals = learn.recorder.values\n",
    "epochs = list(range(len(rmse_vals)))\n",
    "rmse = [v[2] for v in rmse_vals]  # assuming _rmse is the third value\n",
    "\n",
    "plt.plot(epochs, rmse, marker='o')\n",
    "plt.title('Epoch vs RMSE')\n",
    "plt.xlabel('Epoch')\n",
    "plt.ylabel('RMSE')\n",
    "plt.grid(True)\n",
    "plt.savefig('../plots/rmse_vs_epoch_day4.png')\n",
    "plt.show()"
   ]
  },
  {
   "cell_type": "code",
   "execution_count": null,
   "id": "ee905b16",
   "metadata": {},
   "outputs": [],
   "source": [
    "print(f\"{'Column':<20} {'Type':<15} {'Example'}\")\n",
    "print(\"-\" * 60)\n",
    "for col in df.columns:\n",
    "    dtype = df[col].dtype\n",
    "    example = df[col].dropna().iloc[0] if df[col].notna().any() else \"NaN\"\n",
    "    print(f\"{col:<20} {str(dtype):<15} {str(example)}\")"
   ]
  },
  {
   "cell_type": "markdown",
   "id": "a6522d11",
   "metadata": {},
   "source": [
    "## 7. Results\n",
    "\n",
    "After 5 epochs of training with a learning rate of `5e-3`, the model showed consistent improvements in performance:\n",
    "\n",
    "| Epoch | Train Loss     | Valid Loss     | RMSE        | Time  |\n",
    "|-------|----------------|----------------|-------------|-------|\n",
    "| 0     | 650,490.44     | 567,719.00     | 753.47      | 04:04 |\n",
    "| 1     | 386,130.78     | 577,993.13     | 760.26      | 03:58 |\n",
    "| 2     | 297,709.31     | 351,615.75     | 592.97      | 03:59 |\n",
    "| 3     | 265,234.78     | 321,215.47     | 566.76      | 03:56 |\n",
    "| 4     | 252,303.92     | 296,389.31     | **544.42**  | 04:02 |\n",
    "\n",
    "- RMSE improved from 753.47 to **544.42** over five epochs.\n",
    "- Validation and training losses both decreased in sync—indicating a stable learning process.\n",
    "- No signs of overfitting were observed during training.\n",
    "\n",
    "## 8. Summary\n",
    "\n",
    "- Built and trained a deep learning model using `fastai.tabular_learner`.\n",
    "- Chose `5e-3` as the learning rate based on `lr_find()` plot analysis.\n",
    "- Model performance improved steadily across epochs, achieving a final RMSE of **544.42**.\n",
    "- Model saved to `models/block7_model.pkl`.\n",
    "- Training and validation loss plot saved to `plots/loss_curve_day4.png`, showing effective convergence."
   ]
  }
 ],
 "metadata": {
  "kernelspec": {
   "display_name": "fastai-tabular",
   "language": "python",
   "name": "python3"
  },
  "language_info": {
   "codemirror_mode": {
    "name": "ipython",
    "version": 3
   },
   "file_extension": ".py",
   "mimetype": "text/x-python",
   "name": "python",
   "nbconvert_exporter": "python",
   "pygments_lexer": "ipython3",
   "version": "3.10.18"
  }
 },
 "nbformat": 4,
 "nbformat_minor": 5
}
