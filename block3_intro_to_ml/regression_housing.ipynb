{
 "cells": [
  {
   "cell_type": "markdown",
   "id": "849fad58",
   "metadata": {},
   "source": [
    "# Housing Prices: Regression Model Training\n",
    "\n",
    "## 1. Data Setup\n",
    "## 2. Feature Selection\n",
    "## 3. Train/Test Split\n",
    "## 4. Decision Tree Regressor\n",
    "## 5. Linear Regression\n",
    "## 6. Model Comparison\n",
    "## 7. Observations & Next Steps"
   ]
  },
  {
   "cell_type": "markdown",
   "id": "68b2827b",
   "metadata": {},
   "source": [
    "# Housing Prices Regression - Initial Model"
   ]
  },
  {
   "cell_type": "code",
   "execution_count": null,
   "id": "4542bb8f",
   "metadata": {},
   "outputs": [],
   "source": [
    "import pandas as pd\n",
    "from sklearn.tree import DecisionTreeRegressor\n",
    "from sklearn.linear_model import LinearRegression\n",
    "from sklearn.model_selection import train_test_split\n",
    "from sklearn.metrics import mean_absolute_error"
   ]
  },
  {
   "cell_type": "code",
   "execution_count": null,
   "id": "02719c7c",
   "metadata": {},
   "outputs": [],
   "source": [
    "# Load the housing dataset\n",
    "file_path = 'data/housing.csv'  # Adjust if your folder is different\n",
    "home_data = pd.read_csv(file_path)"
   ]
  },
  {
   "cell_type": "code",
   "execution_count": null,
   "id": "e191112c",
   "metadata": {},
   "outputs": [],
   "source": [
    "# Basic data review\n",
    "print(home_data.describe())\n",
    "print(home_data.head())\n",
    "\n",
    "# Display all column names\n",
    "print(home_data.columns)"
   ]
  },
  {
   "cell_type": "code",
   "execution_count": null,
   "id": "9530f46e",
   "metadata": {},
   "outputs": [],
   "source": [
    "# Select target\n",
    "y = home_data['Price']\n",
    "\n",
    "# Select features\n",
    "feature_names = ['Rooms', 'Bathroom', 'Landsize', 'BuildingArea', 'YearBuilt', 'Car']\n",
    "X = home_data[feature_names]"
   ]
  },
  {
   "cell_type": "markdown",
   "id": "0fc8c2d5",
   "metadata": {},
   "source": [
    "Selected features are numeric and likely to influence home price directly. Categorical features will be explored later."
   ]
  },
  {
   "cell_type": "code",
   "execution_count": null,
   "id": "a1081614",
   "metadata": {},
   "outputs": [],
   "source": [
    "# Split into training and validation sets\n",
    "train_X, val_X, train_y, val_y = train_test_split(X, y, random_state=1)\n",
    "print(train_X.shape, val_X.shape)\n",
    "\n",
    "# Create and train the model\n",
    "tree_model = DecisionTreeRegressor(random_state=1)\n",
    "tree_model.fit(train_X, train_y)"
   ]
  },
  {
   "cell_type": "code",
   "execution_count": null,
   "id": "dfa844de",
   "metadata": {},
   "outputs": [],
   "source": [
    "# Predict on validation data and calculate MAE\n",
    "tree_preds = tree_model.predict(val_X)\n",
    "tree_mae = mean_absolute_error(val_y, tree_preds)\n",
    "print(f\"Decision Tree MAE: {tree_mae}\")"
   ]
  },
  {
   "cell_type": "code",
   "execution_count": null,
   "id": "9a501e98",
   "metadata": {},
   "outputs": [],
   "source": [
    "# Create a comparison table\n",
    "comparison = pd.DataFrame({\n",
    "    'Predicted': tree_preds,\n",
    "    'Actual': val_y\n",
    "})\n",
    "\n",
    "# Show first few predictions\n",
    "print(comparison.head())"
   ]
  },
  {
   "cell_type": "code",
   "execution_count": null,
   "id": "c593afd7",
   "metadata": {},
   "outputs": [],
   "source": [
    "tree_comparison = pd.DataFrame({\n",
    "    'Predicted': tree_preds,\n",
    "    'Actual': val_y\n",
    "})\n",
    "print(tree_comparison.head())"
   ]
  },
  {
   "cell_type": "markdown",
   "id": "98327ac2",
   "metadata": {},
   "source": [
    "## Notes and Reflection\n",
    "\n",
    "- **Model:** DecisionTreeRegressor\n",
    "- **Features used:** Rooms, Bathroom, Landsize, BuildingArea, YearBuilt, Car\n",
    "- **Validation MAE:** 417,118\n",
    "- **Observations:**\n",
    "  - The model generally predicts house prices within about $400k on average.\n",
    "  - Some predictions are close (e.g., $2.3M predicted vs $2.7M actual), but others are more noticeably off.\n",
    "  - There may be missing important factors like location (Suburb, Distance, etc.) that influence house price heavily.\n",
    "- **Next steps:**\n",
    "  - Try more features (e.g., Distance, Lattitude/Longtitude).\n",
    "  - Try more powerful models like Random Forests.\n",
    "  - Improve data cleaning (handle missing values, remove outliers)."
   ]
  },
  {
   "cell_type": "code",
   "execution_count": null,
   "id": "e7180f8a",
   "metadata": {},
   "outputs": [],
   "source": [
    "# Drop rows with missing values\n",
    "train_X = train_X.dropna()\n",
    "train_y = train_y.loc[train_X.index]\n",
    "\n",
    "val_X = val_X.dropna()\n",
    "val_y = val_y.loc[val_X.index]\n",
    "\n",
    "# Create and train a Linear Regression model\n",
    "linreg_model = LinearRegression()\n",
    "linreg_model.fit(train_X, train_y)\n",
    "\n",
    "# Make predictions with Linear Regression\n",
    "linreg_preds = linreg_model.predict(val_X)\n",
    "\n",
    "# Evaluate the Linear Regression model\n",
    "linreg_mae = mean_absolute_error(val_y, linreg_preds)\n",
    "print(f\"Linear Regression MAE: {linreg_mae}\")"
   ]
  },
  {
   "cell_type": "code",
   "execution_count": null,
   "id": "bd205710",
   "metadata": {},
   "outputs": [],
   "source": [
    "# %%\n",
    "# # This is a code cell\n",
    "\n",
    "import matplotlib.pyplot as plt\n",
    "\n",
    "# Bar chart comparing model performance\n",
    "mae_values = [tree_mae, linreg_mae]\n",
    "models = ['Decision Tree', 'Linear Regression']\n",
    "\n",
    "plt.figure(figsize=(6, 4))\n",
    "plt.bar(models, mae_values, color='skyblue')\n",
    "plt.ylabel('Mean Absolute Error')\n",
    "plt.title('Model Comparison: Validation MAE')\n",
    "plt.grid(axis='y')\n",
    "plt.tight_layout()\n",
    "plt.show()"
   ]
  },
  {
   "cell_type": "markdown",
   "id": "e9b44db0",
   "metadata": {},
   "source": [
    "## Model Comparison\n",
    "\n",
    "| Model             | MAE         |\n",
    "|------------------|-------------|\n",
    "| Decision Tree     | 417,118     |\n",
    "| Linear Regression | 319,812     |\n",
    "\n",
    "Linear Regression outperformed the Decision Tree on this feature set, likely due to its lower variance and linear data relationships."
   ]
  },
  {
   "cell_type": "markdown",
   "id": "115d1e86",
   "metadata": {},
   "source": [
    "## Notes on Linear Regression\n",
    "\n",
    "- After dropping rows with missing feature values, trained a Linear Regression model.\n",
    "- Validation MAE for Linear Regression: 319,812\n",
    "- Compared to Decision Tree model (MAE: 417,118), Linear Regression performed better.\n",
    "- Likely reasons:\n",
    "  - Relationship between features and price may be fairly linear.\n",
    "  - Decision Tree may have overfitted to noise in small datasets.\n",
    "- Future ideas:\n",
    "  - Add more features (e.g., Distance, Lattitude, Longtitude).\n",
    "  - Try data imputation instead of dropping missing values to preserve data."
   ]
  },
  {
   "cell_type": "markdown",
   "id": "03792d40",
   "metadata": {},
   "source": [
    "- The Decision Tree appears to overfit slightly with this small feature set.\n",
    "- Linear Regression handled the numerical features better.\n",
    "- Next: Try more features, categorical encoding, or switch to Random Forest for better generalization."
   ]
  },
  {
   "cell_type": "markdown",
   "id": "b7728649",
   "metadata": {},
   "source": [
    "## 6. Model Refinement and Evaluation"
   ]
  },
  {
   "cell_type": "markdown",
   "id": "106f1d5f",
   "metadata": {},
   "source": [
    "### Baseline Recap\n",
    "\n",
    "- Decision Tree MAE: ~417,000  \n",
    "- Linear Regression MAE: ~320,000  \n",
    "- Decision Tree showed signs of overfitting (high train accuracy, poor generalization)"
   ]
  },
  {
   "cell_type": "markdown",
   "id": "e836f611",
   "metadata": {},
   "source": [
    "## 6.1 Feature Set Comparison"
   ]
  },
  {
   "cell_type": "code",
   "execution_count": null,
   "id": "7f5bf152",
   "metadata": {},
   "outputs": [],
   "source": [
    "from sklearn.model_selection import train_test_split\n",
    "from sklearn.tree import DecisionTreeRegressor\n",
    "from sklearn.metrics import mean_absolute_error\n",
    "\n",
    "# Store MAEs to compare later\n",
    "mae_results = {}\n",
    "\n",
    "# Define multiple feature sets\n",
    "feature_sets = {\n",
    "    \"Basic\": ['Rooms', 'Bathroom', 'Landsize'],\n",
    "    \"No Landsize\": ['Rooms', 'Bathroom', 'BuildingArea'],\n",
    "    \"With Car + YearBuilt\": ['Rooms', 'Bathroom', 'Car', 'YearBuilt'],\n",
    "    \"All Available\": ['Rooms', 'Bathroom', 'Landsize', 'BuildingArea', 'YearBuilt', 'Car']\n",
    "}\n",
    "\n",
    "for name, features in feature_sets.items():\n",
    "    X = home_data[features]\n",
    "    y = home_data['Price']\n",
    "\n",
    "    # Drop rows with missing values\n",
    "    X = X.dropna()\n",
    "    y = y.loc[X.index]\n",
    "\n",
    "    train_X, val_X, train_y, val_y = train_test_split(X, y, random_state=1)\n",
    "\n",
    "    model = DecisionTreeRegressor(random_state=1)\n",
    "    model.fit(train_X, train_y)\n",
    "\n",
    "    preds = model.predict(val_X)\n",
    "    mae = mean_absolute_error(val_y, preds)\n",
    "    \n",
    "    print(f\"{name} MAE: {mae:.0f}\")\n",
    "    mae_results[name] = mae\n",
    "\n",
    "    import matplotlib.pyplot as plt\n",
    "\n",
    "plt.figure(figsize=(8, 5))\n",
    "plt.bar(mae_results.keys(), mae_results.values(), color='skyblue')\n",
    "plt.ylabel(\"Validation MAE\")\n",
    "plt.title(\"Feature Set Comparison – Housing Regression\")\n",
    "plt.xticks(rotation=15)\n",
    "plt.tight_layout()\n",
    "plt.show()"
   ]
  },
  {
   "cell_type": "markdown",
   "id": "5755f80a",
   "metadata": {},
   "source": [
    "### 6.1 Feature Impact Summary – Housing Regression\n",
    "\n",
    "| Feature Set              | Validation MAE |\n",
    "|--------------------------|----------------|\n",
    "| Basic                    | 444,666        |\n",
    "| No Landsize              | 398,598        |\n",
    "| With Car + YearBuilt     | 339,981        |\n",
    "| All Available            | 372,995        |\n",
    "\n",
    "#### Observations\n",
    "\n",
    "- The **\"With Car + YearBuilt\"** set produced the best performance, reducing MAE by over 100K versus the basic feature set.\n",
    "- The **\"No Landsize\"** model outperformed the **\"Basic\"** model, suggesting that Landsize may introduce **noise or missing value problems**.\n",
    "- The **\"All Available\"** set performed worse than the optimal subset, reinforcing that **more features ≠ better results** — some may hurt generalization.\n",
    "- Feature selection had a significant impact. Simpler models with well-chosen inputs generalized better, while larger sets occasionally overfit."
   ]
  },
  {
   "cell_type": "code",
   "execution_count": null,
   "id": "ce968ef1",
   "metadata": {},
   "outputs": [],
   "source": [
    "from sklearn.ensemble import RandomForestRegressor\n",
    "\n",
    "rf_model = RandomForestRegressor(random_state=1)\n",
    "rf_model.fit(train_X, train_y)\n",
    "\n",
    "rf_preds = rf_model.predict(val_X)\n",
    "rf_mae = mean_absolute_error(val_y, rf_preds)\n",
    "print(f\"Random Forest MAE: {rf_mae:.0f}\")"
   ]
  },
  {
   "cell_type": "markdown",
   "id": "d5812a76",
   "metadata": {},
   "source": [
    "### Regression Refinement Summary\n",
    "\n",
    "- Reducing features improved generalization slightly.\n",
    "- Random Forest MAE: 277,538 — lowest so far.\n",
    "- Random Forest reduces overfitting by averaging multiple trees."
   ]
  }
 ],
 "metadata": {
  "kernelspec": {
   "display_name": "hcmle-env",
   "language": "python",
   "name": "python3"
  },
  "language_info": {
   "codemirror_mode": {
    "name": "ipython",
    "version": 3
   },
   "file_extension": ".py",
   "mimetype": "text/x-python",
   "name": "python",
   "nbconvert_exporter": "python",
   "pygments_lexer": "ipython3",
   "version": "3.11.11"
  }
 },
 "nbformat": 4,
 "nbformat_minor": 5
}
