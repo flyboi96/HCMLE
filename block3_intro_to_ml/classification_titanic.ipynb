{
 "cells": [
  {
   "cell_type": "markdown",
   "id": "c0908e18",
   "metadata": {},
   "source": [
    "# Titanic Survival Classification – Data Preparation\n",
    "\n",
    "## 1. Setup and Data Load\n",
    "## 2. Initial Exploration\n",
    "## 3. Preprocessing\n",
    "## 4. Feature and Target Selection\n",
    "## 5. Save Cleaned Data (Optional)"
   ]
  },
  {
   "cell_type": "code",
   "execution_count": null,
   "id": "9c71a8e9",
   "metadata": {},
   "outputs": [],
   "source": [
    "import pandas as pd\n",
    "\n",
    "# Load Titanic dataset\n",
    "file_path = 'data/titanic.csv'  # adjust if needed\n",
    "titanic_data = pd.read_csv(file_path)"
   ]
  },
  {
   "cell_type": "code",
   "execution_count": null,
   "id": "175e392c",
   "metadata": {},
   "outputs": [],
   "source": [
    "# View basic dataset shape\n",
    "print(\"Shape:\", titanic_data.shape)\n",
    "\n",
    "# Preview column names\n",
    "print(\"\\nColumns:\")\n",
    "print(titanic_data.columns.tolist())\n",
    "\n",
    "# Show first few rows\n",
    "print(\"\\nTop rows:\")\n",
    "print(titanic_data.head())\n",
    "\n",
    "# Summary statistics\n",
    "print(\"\\nSummary statistics:\")\n",
    "print(titanic_data.describe(include='all'))\n",
    "\n",
    "# Check for missing values\n",
    "print(\"\\nMissing values per column:\")\n",
    "print(titanic_data.isnull().sum())"
   ]
  },
  {
   "cell_type": "markdown",
   "id": "a819ef9c",
   "metadata": {},
   "source": [
    "Initial inspection shows several columns with missing values (e.g., Age, Cabin). We'll decide how to handle them based on model needs."
   ]
  },
  {
   "cell_type": "code",
   "execution_count": null,
   "id": "2fa7d488",
   "metadata": {},
   "outputs": [],
   "source": [
    "# Drop columns unlikely to help with classification or too incomplete\n",
    "titanic_data = titanic_data.drop(columns=['Cabin', 'Ticket', 'Name'])\n",
    "\n",
    "# Drop rows with missing target ('Survived') or critical features\n",
    "titanic_data = titanic_data.dropna(subset=['Survived', 'Embarked'])\n",
    "\n",
    "# Fill missing Age with median\n",
    "titanic_data['Age'] = titanic_data['Age'].fillna(titanic_data['Age'].median())\n",
    "\n",
    "# Encode 'Sex' and 'Embarked'\n",
    "titanic_data['Sex'] = titanic_data['Sex'].map({'male': 0, 'female': 1})\n",
    "titanic_data['Embarked'] = titanic_data['Embarked'].map({'S': 0, 'C': 1, 'Q': 2})"
   ]
  },
  {
   "cell_type": "code",
   "execution_count": null,
   "id": "2dbe9903",
   "metadata": {},
   "outputs": [],
   "source": [
    "# Define target and features\n",
    "y = titanic_data['Survived']\n",
    "\n",
    "feature_names = ['Pclass', 'Sex', 'Age', 'SibSp', 'Parch', 'Fare', 'Embarked']\n",
    "X = titanic_data[feature_names]\n",
    "\n",
    "print(X.head())\n",
    "print(y.head())"
   ]
  },
  {
   "cell_type": "code",
   "execution_count": null,
   "id": "a0ab1fcc",
   "metadata": {},
   "outputs": [],
   "source": [
    "# Save cleaned data\n",
    "titanic_data.to_csv('data/titanic_cleaned.csv', index=False)"
   ]
  },
  {
   "cell_type": "markdown",
   "id": "bcc2a4f5",
   "metadata": {},
   "source": [
    "## Notes – Day 4\n",
    "\n",
    "- Loaded Titanic dataset and explored structure and missing values.\n",
    "- Dropped irrelevant columns (Name, Ticket, Cabin).\n",
    "- Filled missing Age values with median, dropped missing Embarked rows.\n",
    "- Encoded 'Sex' and 'Embarked' for modeling.\n",
    "- Selected 7 features to use in classification modeling tomorrow.\n",
    "- Dataset is clean and ready for training."
   ]
  },
  {
   "cell_type": "markdown",
   "id": "3d60349d",
   "metadata": {},
   "source": [
    "## Day 5 – Train/Test Split and Decision Tree Classification\n",
    "\n",
    "Today’s goal is to train a DecisionTreeClassifier to predict Titanic survival.  \n",
    "We'll evaluate its accuracy and interpret the model using a confusion matrix, precision, and recall."
   ]
  },
  {
   "cell_type": "code",
   "execution_count": null,
   "id": "2e030823",
   "metadata": {},
   "outputs": [],
   "source": [
    "import pandas as pd\n",
    "from sklearn.model_selection import train_test_split\n",
    "from sklearn.tree import DecisionTreeClassifier\n",
    "from sklearn.metrics import accuracy_score, confusion_matrix, precision_score, recall_score"
   ]
  },
  {
   "cell_type": "code",
   "execution_count": null,
   "id": "329b07e5",
   "metadata": {},
   "outputs": [],
   "source": [
    "titanic_data = pd.read_csv('data/titanic_cleaned.csv')\n",
    "\n",
    "y = titanic_data['Survived']\n",
    "feature_names = ['Pclass', 'Sex', 'Age', 'SibSp', 'Parch', 'Fare', 'Embarked']\n",
    "X = titanic_data[feature_names]"
   ]
  },
  {
   "cell_type": "code",
   "execution_count": null,
   "id": "157e49ce",
   "metadata": {},
   "outputs": [],
   "source": [
    "train_X, val_X, train_y, val_y = train_test_split(X, y, random_state=1)"
   ]
  },
  {
   "cell_type": "code",
   "execution_count": null,
   "id": "6030f9f9",
   "metadata": {},
   "outputs": [],
   "source": [
    "model = DecisionTreeClassifier(random_state=1)\n",
    "model.fit(train_X, train_y)"
   ]
  },
  {
   "cell_type": "code",
   "execution_count": null,
   "id": "d0041976",
   "metadata": {},
   "outputs": [],
   "source": [
    "val_predictions = model.predict(val_X)\n",
    "accuracy = accuracy_score(val_y, val_predictions)\n",
    "print(f\"Validation Accuracy: {accuracy:.3f}\")"
   ]
  },
  {
   "cell_type": "code",
   "execution_count": null,
   "id": "1fd66d83",
   "metadata": {},
   "outputs": [],
   "source": [
    "cm = confusion_matrix(val_y, val_predictions)\n",
    "precision = precision_score(val_y, val_predictions)\n",
    "recall = recall_score(val_y, val_predictions)\n",
    "\n",
    "print(\"Confusion Matrix:\\n\", cm)\n",
    "print(f\"Precision: {precision:.3f}\")\n",
    "print(f\"Recall: {recall:.3f}\")"
   ]
  },
  {
   "cell_type": "markdown",
   "id": "7da8375e",
   "metadata": {},
   "source": [
    "## Day 5 Results – Titanic Classification\n",
    "\n",
    "- **Model:** DecisionTreeClassifier\n",
    "- **Validation Accuracy:** 80.3%\n",
    "- **Confusion Matrix:**\n",
    "\n",
    "| Actual \\ Predicted | 0 (Did Not Survive) | 1 (Survived) |\n",
    "|--------------------|---------------------|--------------|\n",
    "| **0 (Did Not Survive)** | 113                 | 25           |\n",
    "| **1 (Survived)**         | 19                  | 66           |\n",
    "\n",
    "- **Precision:** 72.5% – Of the predicted survivors, 72.5% actually survived.\n",
    "- **Recall:** 77.6% – The model correctly identified 77.6% of the actual survivors.\n",
    "\n",
    "### Interpretation\n",
    "\n",
    "- The model performs reasonably well out of the box.\n",
    "- Slight bias toward predicting non-survivors (class 0), but catches most real survivors.\n",
    "- Future improvements could include:\n",
    "  - Trying a `max_depth` limit to reduce overfitting.\n",
    "  - Testing a RandomForestClassifier for better generalization.\n",
    "  - Exploring class imbalance solutions (e.g. balanced weights)."
   ]
  }
 ],
 "metadata": {
  "kernelspec": {
   "display_name": "hcmle-env",
   "language": "python",
   "name": "python3"
  },
  "language_info": {
   "codemirror_mode": {
    "name": "ipython",
    "version": 3
   },
   "file_extension": ".py",
   "mimetype": "text/x-python",
   "name": "python",
   "nbconvert_exporter": "python",
   "pygments_lexer": "ipython3",
   "version": "3.11.11"
  }
 },
 "nbformat": 4,
 "nbformat_minor": 5
}
