{
 "cells": [
  {
   "cell_type": "markdown",
   "id": "d4ce2018",
   "metadata": {},
   "source": [
    "# Day 1 – Define Block 10 Goals and Schedule\n",
    "\n",
    "## 1. Objective\n",
    "Kick off Block 10 by identifying resources, initializing project files, and clarifying deliverables.\n",
    "\n",
    "## 2. Key Steps\n",
    "- Reviewed scope and timeline\n",
    "- Located updated Guidebook resources\n",
    "- Created file/folder structure\n",
    "- Stubbed README.md\n",
    "\n",
    "## 3. Results\n",
    "- `block10_schedule.csv` created and uploaded to Notion\n",
    "- Project folder initialized in GitHub/VS Code\n",
    "- Verified Guidebook and codelab links\n",
    "\n",
    "## 4. Summary\n",
    "- Ready to start Chapter 1: User Needs & Defining Success on Day 2"
   ]
  }
 ],
 "metadata": {
  "language_info": {
   "name": "python"
  }
 },
 "nbformat": 4,
 "nbformat_minor": 5
}
