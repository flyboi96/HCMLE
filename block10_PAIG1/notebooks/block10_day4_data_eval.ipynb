{
 "cells": [
  {
   "cell_type": "markdown",
   "id": "6457f244",
   "metadata": {},
   "source": [
    "# Day 4 – Data + Model Evolution (Part 1)\n",
    "\n",
    "## Chapter Notes – Data Collection + Evaluation (Guidebook v2)\n",
    "\n",
    "[Read the chapter here](https://pair.withgoogle.com/guidebook-v2/chapter/data-collection)\n",
    "\n",
    "###  Chapter Overview\n",
    "\n",
    "This chapter poses critical questions for building human-centered AI:\n",
    "\n",
    "- Does our dataset have the right features and diversity to meet user needs?\n",
    "- Should we use existing data or collect anew?\n",
    "- How do we ensure data quality?\n",
    "- How do we mitigate bias in labeling?\n",
    "- Are data workers treated fairly?\n",
    "\n",
    "###  Key Takeaways\n",
    "\n",
    "- Training data directly shapes model behavior—ensure it's aligned with real-world user needs.\n",
    "- Plan for human-centered **labeling workflows**:\n",
    "  - Offer clear, example-based instructions\n",
    "  - Allow labelers to flag uncertainty\n",
    "  - Pilot labeler workflows and update based on feedback\n",
    "  - Respect labeler insights and disagreements to reduce bias \n",
    "- Evaluate whether to source existing data or build new datasets, depending on coverage and use case quality.\n",
    "\n",
    "###  Chapter Summary\n",
    "\n",
    "- Data must be **purpose-built** to align with user goals and experience.\n",
    "- Labeling is not a black box—design for clarity, fairness, and feedback.\n",
    "- Don’t overlook the people behind the labels; treat their work as part of human-centered design."
   ]
  },
  {
   "cell_type": "markdown",
   "id": "aff57e4f",
   "metadata": {},
   "source": [
    "## Data Sourcing + Risk Assessment for Tangent\n",
    "\n",
    "| Question | Answer |\n",
    "|----------|--------|\n",
    "| What data will train the model? | e.g., Open educational datasets, student Q&A logs, math forums |\n",
    "| What user types are represented? | e.g., College students, high school students, some ESL learners |\n",
    "| Who is underrepresented or missing? | e.g., Students with learning disabilities, non-English speakers |\n",
    "| How are labels defined? | e.g., \"Correct answer\" from key, not verified by tutor clarity or context |\n",
    "| Potential biases? | Overfitting to textbook-style problems, missing multimodal explanation data |\n",
    "| How will data evolve? | Add logs from real use sessions, segment by user background over time |"
   ]
  },
  {
   "cell_type": "markdown",
   "id": "9c503c09",
   "metadata": {},
   "source": [
    "## Early Evaluation Plan (User-Centered)\n",
    "\n",
    "- **Accuracy metrics** (baseline): correct answer given\n",
    "- **User trust/feedback signals**: ratings, thumbs, open-text\n",
    "- **Efficiency**: Time to resolution\n",
    "- **Failure detection**: Drop-off rate, re-asked questions, escalations\n",
    "- **Fairness audits**: Breakdowns by user group (e.g., novice vs advanced)\n",
    "\n",
    "We'll evaluate *across user types* and *across time* to ensure the system evolves fairly and remains helpful."
   ]
  },
  {
   "cell_type": "markdown",
   "id": "ab2e9477",
   "metadata": {},
   "source": [
    "## Summary\n",
    "\n",
    "- Mapped current and future data sources for Tangent\n",
    "- Identified key risks: bias, label oversimplification, population gaps\n",
    "- Outlined metrics for real-world success: trust, efficiency, fairness"
   ]
  }
 ],
 "metadata": {
  "language_info": {
   "name": "python"
  }
 },
 "nbformat": 4,
 "nbformat_minor": 5
}
