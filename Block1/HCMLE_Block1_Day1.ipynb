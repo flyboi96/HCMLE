{
 "cells": [
  {
   "cell_type": "code",
   "execution_count": 1,
   "id": "e9b30e1d",
   "metadata": {},
   "outputs": [
    {
     "name": "stdout",
     "output_type": "stream",
     "text": [
      "Hello, world!\n"
     ]
    }
   ],
   "source": [
    "print('Hello, world!')"
   ]
  },
  {
   "cell_type": "code",
   "execution_count": 2,
   "id": "5e679539",
   "metadata": {},
   "outputs": [],
   "source": [
    "agents = [\n",
    "    {\"first_name\": \"Alice\", \"last_name\": \"Bennett\", \"level\": 4},\n",
    "    {\"first_name\": \"Carlos\", \"last_name\": \"Rivera\", \"level\": 2},\n",
    "    {\"first_name\": \"Mei\", \"last_name\": \"Zhao\", \"level\": 5},\n",
    "    {\"first_name\": \"Liam\", \"last_name\": \"Nguyen\", \"level\": 3},\n",
    "    {\"first_name\": \"Zara\", \"last_name\": \"Khan\", \"level\": 1},\n",
    "]"
   ]
  },
  {
   "cell_type": "code",
   "execution_count": 6,
   "id": "0be757b6",
   "metadata": {},
   "outputs": [],
   "source": [
    "def generate_codename(agent):\n",
    "    if agent[\"level\"] >= 4:\n",
    "        suffix = 'X'\n",
    "    elif agent[\"level\"] == 3:\n",
    "        suffix = 'Z'\n",
    "    else:\n",
    "        suffix = 'Y'\n",
    "        \n",
    "    return agent[\"first_name\"][0] + agent[\"last_name\"][-3:] + suffix"
   ]
  },
  {
   "cell_type": "code",
   "execution_count": 7,
   "id": "241cb473",
   "metadata": {},
   "outputs": [
    {
     "data": {
      "text/plain": [
       "'AettX'"
      ]
     },
     "execution_count": 7,
     "metadata": {},
     "output_type": "execute_result"
    }
   ],
   "source": [
    "generate_codename({\"first_name\": \"Alice\", \"last_name\": \"Bennett\", \"level\": 4}) "
   ]
  },
  {
   "cell_type": "code",
   "execution_count": 8,
   "id": "807bba9d",
   "metadata": {},
   "outputs": [],
   "source": [
    "codename_dict = {f\"{a['first_name']} {a['last_name']}\": generate_codename(a) for a in agents}"
   ]
  },
  {
   "cell_type": "code",
   "execution_count": 9,
   "id": "c1f229a6",
   "metadata": {},
   "outputs": [
    {
     "data": {
      "text/plain": [
       "{'Alice Bennett': 'AettX',\n",
       " 'Carlos Rivera': 'CeraY',\n",
       " 'Mei Zhao': 'MhaoX',\n",
       " 'Liam Nguyen': 'LyenZ',\n",
       " 'Zara Khan': 'ZhanY'}"
      ]
     },
     "execution_count": 9,
     "metadata": {},
     "output_type": "execute_result"
    }
   ],
   "source": [
    "codename_dict"
   ]
  },
  {
   "cell_type": "code",
   "execution_count": 13,
   "id": "e536ec05",
   "metadata": {},
   "outputs": [
    {
     "data": {
      "text/plain": [
       "5.0"
      ]
     },
     "execution_count": 13,
     "metadata": {},
     "output_type": "execute_result"
    }
   ],
   "source": [
    "codenames = list(codename_dict.values())\n",
    "def average_codename_length(codenames_list):\n",
    "    total = 0\n",
    "    for codename in codenames_list:\n",
    "        total += len(codename)\n",
    "    avg = total / len(codenames_list)\n",
    "    return avg\n",
    "average_codename_length(codenames)"
   ]
  },
  {
   "cell_type": "code",
   "execution_count": 18,
   "id": "04d4cbba",
   "metadata": {},
   "outputs": [
    {
     "name": "stdout",
     "output_type": "stream",
     "text": [
      "{'c', 'e', 'm', 'l', 'h', 'o', 't', 'r', 'y', 'n', 'x', 'a', 'z'}\n"
     ]
    }
   ],
   "source": [
    "def unique_letters(codenames_list):\n",
    "    unique_letters_set = set()\n",
    "    for codename in codenames_list:\n",
    "        for letter in codename:\n",
    "            unique_letters_set.add(letter.lower())\n",
    "    return unique_letters_set\n",
    "test_set = unique_letters(codenames)\n",
    "print(test_set)"
   ]
  },
  {
   "cell_type": "code",
   "execution_count": 19,
   "id": "21bdc912",
   "metadata": {},
   "outputs": [
    {
     "name": "stdout",
     "output_type": "stream",
     "text": [
      "{'A': 1, 'C': 1, 'M': 1, 'L': 1, 'Z': 1}\n"
     ]
    }
   ],
   "source": [
    "def codename_frequency_by_letter(codenames_list):\n",
    "    frequency_dict = {}\n",
    "    for codename in codenames_list:\n",
    "        letter = codename[0]\n",
    "        if letter in frequency_dict:\n",
    "            frequency_dict[letter] = frequency_dict[letter] + 1\n",
    "        else:\n",
    "            frequency_dict[letter] = 1\n",
    "    return frequency_dict\n",
    "test_dict = codename_frequency_by_letter(codenames)\n",
    "print(test_dict)"
   ]
  },
  {
   "cell_type": "code",
   "execution_count": 29,
   "id": "648a5214",
   "metadata": {},
   "outputs": [
    {
     "name": "stdout",
     "output_type": "stream",
     "text": [
      "Number of Agents: 5\n",
      "\n",
      "Average codename length: 5.00\n",
      "\n",
      "All unique letters used in all codenames:  {'c', 'e', 'm', 'l', 'h', 'o', 't', 'r', 'y', 'n', 'x', 'a', 'z'} \n",
      "\n",
      "Codenames grouped by first letter (sorted):  ['AettX', 'CeraY', 'LyenZ', 'MhaoX', 'ZhanY'] \n",
      "\n"
     ]
    }
   ],
   "source": [
    "def print_summary(agents):\n",
    "    codename_dict = {f\"{a['first_name']} {a['last_name']}\": generate_codename(a) for a in agents}\n",
    "    codenames = list(codename_dict.values())\n",
    "    print(f'Number of Agents: {len(codenames):d}\\n')\n",
    "    print(f'Average codename length: {average_codename_length(codenames):.2f}\\n')\n",
    "    print('All unique letters used in all codenames: ', unique_letters(codenames), '\\n')\n",
    "    print('Codenames grouped by first letter (sorted): ', sorted(codenames), '\\n')\n",
    "print_summary(agents)"
   ]
  },
  {
   "cell_type": "code",
   "execution_count": 33,
   "id": "d92c41a4",
   "metadata": {},
   "outputs": [
    {
     "name": "stdout",
     "output_type": "stream",
     "text": [
      "Guess a codename (or press exit to end): maybe\n",
      "Guess again\n",
      "Guess a codename (or press exit to end): ceray\n",
      "You guessed a correct codename\n"
     ]
    }
   ],
   "source": [
    "def guess_codename():\n",
    "    codenames_lower = [item.lower() for item in codenames]\n",
    "    guessed = False\n",
    "    while not guessed:\n",
    "        guess = input('Guess a codename (or press exit to end): ')\n",
    "        if guess.lower() == 'exit':\n",
    "            guessed = True\n",
    "            print('Exiting guessing game')\n",
    "            break\n",
    "        elif guess.lower() in codenames_lower:\n",
    "            print('You guessed a correct codename')\n",
    "            guessed = True\n",
    "            break\n",
    "        else:\n",
    "            print('Guess again')\n",
    "guess_codename()"
   ]
  },
  {
   "cell_type": "code",
   "execution_count": null,
   "id": "1902b8b7",
   "metadata": {},
   "outputs": [],
   "source": []
  }
 ],
 "metadata": {
  "kernelspec": {
   "display_name": "Python [conda env:base] *",
   "language": "python",
   "name": "conda-base-py"
  },
  "language_info": {
   "codemirror_mode": {
    "name": "ipython",
    "version": 3
   },
   "file_extension": ".py",
   "mimetype": "text/x-python",
   "name": "python",
   "nbconvert_exporter": "python",
   "pygments_lexer": "ipython3",
   "version": "3.11.10"
  }
 },
 "nbformat": 4,
 "nbformat_minor": 5
}
