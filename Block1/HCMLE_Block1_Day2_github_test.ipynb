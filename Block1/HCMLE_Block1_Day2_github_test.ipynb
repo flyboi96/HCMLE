{
 "cells": [
  {
   "cell_type": "code",
   "execution_count": 4,
   "id": "c60263d8",
   "metadata": {},
   "outputs": [
    {
     "name": "stdout",
     "output_type": "stream",
     "text": [
      "This is a test of github\n",
      "this is 1\n"
     ]
    }
   ],
   "source": [
    "print('This is a test of github')\n",
    "\n",
    "x = 3\n",
    "y = 2\n",
    "z = x%y\n",
    "print(f'this is {z:d}')\n",
    "\n",
    "my_dict = {'a':1, 'b':2}"
   ]
  },
  {
   "cell_type": "markdown",
   "id": "c0c6d5c5",
   "metadata": {},
   "source": []
  }
 ],
 "metadata": {
  "kernelspec": {
   "display_name": "base",
   "language": "python",
   "name": "python3"
  },
  "language_info": {
   "codemirror_mode": {
    "name": "ipython",
    "version": 3
   },
   "file_extension": ".py",
   "mimetype": "text/x-python",
   "name": "python",
   "nbconvert_exporter": "python",
   "pygments_lexer": "ipython3",
   "version": "3.11.10"
  }
 },
 "nbformat": 4,
 "nbformat_minor": 5
}
