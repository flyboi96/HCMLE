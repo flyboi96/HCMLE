{
 "cells": [
  {
   "cell_type": "code",
   "execution_count": 13,
   "id": "9e0f139e",
   "metadata": {},
   "outputs": [
    {
     "name": "stdout",
     "output_type": "stream",
     "text": [
      "<class 'pandas.core.frame.DataFrame'>\n",
      "RangeIndex: 344 entries, 0 to 343\n",
      "Data columns (total 7 columns):\n",
      " #   Column             Non-Null Count  Dtype  \n",
      "---  ------             --------------  -----  \n",
      " 0   species            344 non-null    object \n",
      " 1   island             344 non-null    object \n",
      " 2   bill_length_mm     342 non-null    float64\n",
      " 3   bill_depth_mm      342 non-null    float64\n",
      " 4   flipper_length_mm  342 non-null    float64\n",
      " 5   body_mass_g        342 non-null    float64\n",
      " 6   sex                333 non-null    object \n",
      "dtypes: float64(4), object(3)\n",
      "memory usage: 18.9+ KB\n"
     ]
    },
    {
     "data": {
      "text/html": [
       "<div>\n",
       "<style scoped>\n",
       "    .dataframe tbody tr th:only-of-type {\n",
       "        vertical-align: middle;\n",
       "    }\n",
       "\n",
       "    .dataframe tbody tr th {\n",
       "        vertical-align: top;\n",
       "    }\n",
       "\n",
       "    .dataframe thead th {\n",
       "        text-align: right;\n",
       "    }\n",
       "</style>\n",
       "<table border=\"1\" class=\"dataframe\">\n",
       "  <thead>\n",
       "    <tr style=\"text-align: right;\">\n",
       "      <th></th>\n",
       "      <th>bill_length_mm</th>\n",
       "      <th>bill_depth_mm</th>\n",
       "      <th>flipper_length_mm</th>\n",
       "      <th>body_mass_g</th>\n",
       "    </tr>\n",
       "  </thead>\n",
       "  <tbody>\n",
       "    <tr>\n",
       "      <th>count</th>\n",
       "      <td>342.000000</td>\n",
       "      <td>342.000000</td>\n",
       "      <td>342.000000</td>\n",
       "      <td>342.000000</td>\n",
       "    </tr>\n",
       "    <tr>\n",
       "      <th>mean</th>\n",
       "      <td>43.921930</td>\n",
       "      <td>17.151170</td>\n",
       "      <td>200.915205</td>\n",
       "      <td>4201.754386</td>\n",
       "    </tr>\n",
       "    <tr>\n",
       "      <th>std</th>\n",
       "      <td>5.459584</td>\n",
       "      <td>1.974793</td>\n",
       "      <td>14.061714</td>\n",
       "      <td>801.954536</td>\n",
       "    </tr>\n",
       "    <tr>\n",
       "      <th>min</th>\n",
       "      <td>32.100000</td>\n",
       "      <td>13.100000</td>\n",
       "      <td>172.000000</td>\n",
       "      <td>2700.000000</td>\n",
       "    </tr>\n",
       "    <tr>\n",
       "      <th>25%</th>\n",
       "      <td>39.225000</td>\n",
       "      <td>15.600000</td>\n",
       "      <td>190.000000</td>\n",
       "      <td>3550.000000</td>\n",
       "    </tr>\n",
       "    <tr>\n",
       "      <th>50%</th>\n",
       "      <td>44.450000</td>\n",
       "      <td>17.300000</td>\n",
       "      <td>197.000000</td>\n",
       "      <td>4050.000000</td>\n",
       "    </tr>\n",
       "    <tr>\n",
       "      <th>75%</th>\n",
       "      <td>48.500000</td>\n",
       "      <td>18.700000</td>\n",
       "      <td>213.000000</td>\n",
       "      <td>4750.000000</td>\n",
       "    </tr>\n",
       "    <tr>\n",
       "      <th>max</th>\n",
       "      <td>59.600000</td>\n",
       "      <td>21.500000</td>\n",
       "      <td>231.000000</td>\n",
       "      <td>6300.000000</td>\n",
       "    </tr>\n",
       "  </tbody>\n",
       "</table>\n",
       "</div>"
      ],
      "text/plain": [
       "       bill_length_mm  bill_depth_mm  flipper_length_mm  body_mass_g\n",
       "count      342.000000     342.000000         342.000000   342.000000\n",
       "mean        43.921930      17.151170         200.915205  4201.754386\n",
       "std          5.459584       1.974793          14.061714   801.954536\n",
       "min         32.100000      13.100000         172.000000  2700.000000\n",
       "25%         39.225000      15.600000         190.000000  3550.000000\n",
       "50%         44.450000      17.300000         197.000000  4050.000000\n",
       "75%         48.500000      18.700000         213.000000  4750.000000\n",
       "max         59.600000      21.500000         231.000000  6300.000000"
      ]
     },
     "execution_count": 13,
     "metadata": {},
     "output_type": "execute_result"
    }
   ],
   "source": [
    "'''\n",
    "1.\tLoad the Dataset\n",
    "\t•\tUse seaborn.load_dataset('penguins')\n",
    "\t•\tAssign it to a DataFrame called penguins_df\n",
    "2.\tBasic Exploration\n",
    "\t•\tDisplay:\n",
    "\t•\t.head()\n",
    "\t•\t.info()\n",
    "\t•\t.describe()\n",
    "'''\n",
    "import seaborn as sns\n",
    "import pandas as pd\n",
    "\n",
    "penguins_df = sns.load_dataset(\"penguins\")\n",
    "penguins_df.head()\n",
    "# Display the first few rows of the DataFrame\n",
    "\n",
    "penguins_df.info()\n",
    "# Display information about the DataFrame, including data types and non-null counts\n",
    "\n",
    "penguins_df.describe()\n",
    "# Display summary statistics of the DataFrame"
   ]
  },
  {
   "cell_type": "code",
   "execution_count": 12,
   "id": "8025bf31",
   "metadata": {},
   "outputs": [],
   "source": [
    "'''\n",
    "3.\tWrite Custom Summary Functions\n",
    "\t•\tA function get_column_stats(df, column_name) that returns a dictionary with:\n",
    "\t•\tMin\n",
    "\t•\tMax\n",
    "\t•\tMean\n",
    "\t•\tCount of missing values\n",
    "'''\n",
    "\n",
    "def get_column_stats(df, column_name):\n",
    "    \"\"\"\n",
    "    Returns a dictionary with statistics for a specified column in the DataFrame.\n",
    "    \n",
    "    Parameters:\n",
    "        df (pd.DataFrame): The DataFrame containing the data.\n",
    "        column_name (str): The name of the column to analyze.\n",
    "    \n",
    "    Returns:\n",
    "        dict: A dictionary with Min, Max, Mean, and Count of missing values.\n",
    "    \"\"\"\n",
    "    stats = {\n",
    "        \"Min\": df[column_name].min(),\n",
    "        \"Max\": df[column_name].max(),\n",
    "        \"Mean\": df[column_name].mean(),\n",
    "        \"Missing Values\": df[column_name].isnull().sum()\n",
    "    }\n",
    "    return stats"
   ]
  },
  {
   "cell_type": "code",
   "execution_count": 10,
   "id": "fd7fdeee",
   "metadata": {
    "vscode": {
     "languageId": "ruby"
    }
   },
   "outputs": [
    {
     "name": "stdout",
     "output_type": "stream",
     "text": [
      "Heaviest Penguin: Species - Gentoo, Island - Biscoe\n",
      "Average Body Mass by Species and Sex:\n",
      "species    sex   \n",
      "Adelie     Female    3368.835616\n",
      "           Male      4043.493151\n",
      "Chinstrap  Female    3527.205882\n",
      "           Male      3938.970588\n",
      "Gentoo     Female    4679.741379\n",
      "           Male      5484.836066\n",
      "Name: body_mass_g, dtype: float64\n"
     ]
    }
   ],
   "source": [
    "# 4. Investigate a Pattern\n",
    "#\t• Find the heaviest penguin and print its species and island.\n",
    "#\t• Compare average body mass between different species and sex.\n",
    "\n",
    "# Find the heaviest penguin\n",
    "heaviest_penguin = penguins_df.loc[penguins_df['body_mass_g'].idxmax()]\n",
    "print(f\"Heaviest Penguin: Species - {heaviest_penguin['species']}, Island - {heaviest_penguin['island']}\")\n",
    "\n",
    "# Compare average body mass between different species and sex\n",
    "average_body_mass = penguins_df.groupby(['species', 'sex'])['body_mass_g'].mean()\n",
    "print(\"Average Body Mass by Species and Sex:\")\n",
    "print(average_body_mass)"
   ]
  },
  {
   "cell_type": "markdown",
   "id": "b3e6b0fc",
   "metadata": {
    "vscode": {
     "languageId": "markdown"
    }
   },
   "source": [
    "### Observations\n",
    "\n",
    "- The heaviest penguin belongs to the Gentoo species, found on Biscoe Island, with a body mass of 6300 grams. This indicates that Gentoo penguins tend to have a higher body mass compared to other species.\n",
    "- The average body mass varies significantly between species and sexes. For example, Gentoo males have the highest average body mass (5484.84 grams), while Adelie females have the lowest (3368.84 grams).\n",
    "- There are missing values in the dataset, particularly in columns like `bill_length_mm`, `bill_depth_mm`, `flipper_length_mm`, `body_mass_g`, and `sex`. This could affect the analysis and may require data cleaning or imputation."
   ]
  }
 ],
 "metadata": {
  "kernelspec": {
   "display_name": "base",
   "language": "python",
   "name": "python3"
  },
  "language_info": {
   "codemirror_mode": {
    "name": "ipython",
    "version": 3
   },
   "file_extension": ".py",
   "mimetype": "text/x-python",
   "name": "python",
   "nbconvert_exporter": "python",
   "pygments_lexer": "ipython3",
   "version": "3.11.10"
  }
 },
 "nbformat": 4,
 "nbformat_minor": 5
}
