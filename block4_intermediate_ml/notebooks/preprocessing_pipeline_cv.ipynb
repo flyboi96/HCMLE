{
 "cells": [
  {
   "cell_type": "markdown",
   "id": "0a4f2aa6",
   "metadata": {},
   "source": [
    "# 🧪 Cross-Validated Pipeline for Housing Price Prediction\n",
    "\n",
    "This notebook builds a modular pipeline for preprocessing and model training using `ColumnTransformer` and `Pipeline`. It uses cross-validation to provide robust estimates of model performance."
   ]
  },
  {
   "cell_type": "code",
   "execution_count": null,
   "id": "e7afc4b9",
   "metadata": {},
   "outputs": [],
   "source": [
    "import pandas as pd\n",
    "import numpy as np\n",
    "from sklearn.model_selection import cross_val_score, KFold\n",
    "from sklearn.pipeline import Pipeline\n",
    "from sklearn.compose import ColumnTransformer\n",
    "from sklearn.impute import SimpleImputer\n",
    "from sklearn.preprocessing import OneHotEncoder\n",
    "from sklearn.ensemble import RandomForestRegressor\n",
    "from sklearn.metrics import mean_absolute_error\n",
    "import matplotlib.pyplot as plt"
   ]
  },
  {
   "cell_type": "code",
   "execution_count": null,
   "id": "ae53659c",
   "metadata": {},
   "outputs": [],
   "source": [
    "df = pd.read_csv(\"../data/housing.csv\")\n",
    "X = df.drop(\"Price\", axis=1)\n",
    "y = df[\"Price\"]"
   ]
  },
  {
   "cell_type": "code",
   "execution_count": null,
   "id": "a0696fd6",
   "metadata": {},
   "outputs": [],
   "source": [
    "numeric_cols = X.select_dtypes(include=[\"int64\", \"float64\"]).columns.tolist()\n",
    "categorical_cols = X.select_dtypes(include=[\"object\"]).columns.tolist()"
   ]
  },
  {
   "cell_type": "code",
   "execution_count": null,
   "id": "856dbd88",
   "metadata": {},
   "outputs": [],
   "source": [
    "numeric_transformer = Pipeline(steps=[\n",
    "    ('imputer', SimpleImputer(strategy='median'))\n",
    "])\n",
    "\n",
    "categorical_transformer = Pipeline(steps=[\n",
    "    ('imputer', SimpleImputer(strategy='most_frequent')),\n",
    "    ('encoder', OneHotEncoder(handle_unknown='ignore', sparse_output=False))\n",
    "])"
   ]
  },
  {
   "cell_type": "code",
   "execution_count": null,
   "id": "ef13c8c7",
   "metadata": {},
   "outputs": [],
   "source": [
    "preprocessor = ColumnTransformer(\n",
    "    transformers=[\n",
    "        ('num', numeric_transformer, numeric_cols),\n",
    "        ('cat', categorical_transformer, categorical_cols)\n",
    "    ])"
   ]
  },
  {
   "cell_type": "code",
   "execution_count": null,
   "id": "fca5a815",
   "metadata": {},
   "outputs": [],
   "source": [
    "model_pipeline = Pipeline(steps=[\n",
    "    ('preprocessor', preprocessor),\n",
    "    ('model', RandomForestRegressor(n_estimators=100, random_state=42))\n",
    "])"
   ]
  },
  {
   "cell_type": "code",
   "execution_count": null,
   "id": "4f3c3b08",
   "metadata": {},
   "outputs": [],
   "source": [
    "cv = KFold(n_splits=5, shuffle=True, random_state=42)\n",
    "\n",
    "cv_scores = cross_val_score(\n",
    "    model_pipeline,\n",
    "    X,\n",
    "    y,\n",
    "    scoring='neg_mean_absolute_error',\n",
    "    cv=cv,\n",
    "    n_jobs=-1\n",
    ")\n",
    "\n",
    "# Convert to positive MAE\n",
    "mae_scores = -cv_scores"
   ]
  },
  {
   "cell_type": "code",
   "execution_count": null,
   "id": "01b23be2",
   "metadata": {},
   "outputs": [],
   "source": [
    "print(f\"MAE scores: {mae_scores}\")\n",
    "print(f\"Mean MAE: {mae_scores.mean():,.0f}\")\n",
    "print(f\"Standard deviation: {mae_scores.std():,.0f}\")"
   ]
  },
  {
   "cell_type": "code",
   "execution_count": null,
   "id": "06a7d664",
   "metadata": {},
   "outputs": [],
   "source": [
    "plt.figure(figsize=(8, 4))\n",
    "plt.plot(mae_scores, marker='o', linestyle='--')\n",
    "plt.title(\"Cross-Validation MAE Scores\")\n",
    "plt.xlabel(\"Fold\")\n",
    "plt.ylabel(\"MAE\")\n",
    "plt.grid(True)\n",
    "plt.show()"
   ]
  },
  {
   "cell_type": "markdown",
   "id": "9a285311",
   "metadata": {},
   "source": [
    "## 📊 Evaluation Commentary: Cross-Validated Model Performance\n",
    "\n",
    "This model was evaluated using 5-fold cross-validation to obtain a robust estimate of out-of-sample performance. The pipeline includes imputation, categorical encoding, and modeling via a `RandomForestRegressor`.\n",
    "\n",
    "**Key Results:**\n",
    "- **Mean MAE:** \\$162,391 AUD\n",
    "- **Standard Deviation:** \\$3,236 AUD\n",
    "- **MAE Range Across Folds:** \\$156,284 – \\$165,667 AUD\n",
    "\n",
    "The relatively narrow standard deviation and visual smoothness in the error curve suggest that the model generalizes well and exhibits consistent performance across data splits. This adds confidence in its predictive stability.\n",
    "\n",
    "Compared to the single-split MAE from Block 3 (~\\$162,179 AUD), the cross-validated approach provides a more reliable performance estimate and mitigates risks of data leakage or favorable partitioning.\n",
    "\n",
    "### 🔍 Observations:\n",
    "- Fold 2 yielded the lowest MAE, potentially due to favorable sample distribution (e.g., fewer outliers).\n",
    "- Fold 1 produced the highest error, possibly due to skewed pricing outliers or underrepresentation of some categorical values (e.g., rare suburbs).\n",
    "- The pipeline structure now ensures reproducibility and will support further tuning in future sessions.\n",
    "\n",
    "This cross-validated MAE sets a new benchmark for subsequent model enhancements (feature engineering, hyperparameter tuning, boosting models)."
   ]
  }
 ],
 "metadata": {
  "kernelspec": {
   "display_name": "hcmle-env",
   "language": "python",
   "name": "python3"
  },
  "language_info": {
   "codemirror_mode": {
    "name": "ipython",
    "version": 3
   },
   "file_extension": ".py",
   "mimetype": "text/x-python",
   "name": "python",
   "nbconvert_exporter": "python",
   "pygments_lexer": "ipython3",
   "version": "3.11.11"
  }
 },
 "nbformat": 4,
 "nbformat_minor": 5
}
