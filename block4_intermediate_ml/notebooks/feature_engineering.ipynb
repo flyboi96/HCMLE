{
 "cells": [
  {
   "cell_type": "markdown",
   "id": "b07e4498",
   "metadata": {},
   "source": [
    "# 🧱 Feature Engineering for Housing Price Prediction\n",
    "\n",
    "This notebook explores the impact of custom-engineered features on model performance. We'll derive new features from existing columns, re-train the model pipeline, and compare results against our baseline."
   ]
  },
  {
   "cell_type": "code",
   "execution_count": null,
   "id": "34879655",
   "metadata": {},
   "outputs": [],
   "source": [
    "import pandas as pd\n",
    "df = pd.read_csv(\"../data/housing.csv\")\n",
    "\n",
    "X = df.drop(\"Price\", axis=1)\n",
    "y = df[\"Price\"]"
   ]
  },
  {
   "cell_type": "code",
   "execution_count": null,
   "id": "e5e93be2",
   "metadata": {},
   "outputs": [],
   "source": [
    "# Make a copy to avoid mutation warnings\n",
    "X = X.copy()\n",
    "\n",
    "# Feature 1: Total rooms (Bedroom2 + Bathroom + Rooms)\n",
    "X[\"TotalRooms\"] = X[\"Bedroom2\"] + X[\"Bathroom\"] + X[\"Rooms\"]\n",
    "\n",
    "# Feature 2: House Age (assumes dataset is pre-2025)\n",
    "X[\"HouseAge\"] = 2025 - X[\"YearBuilt\"]\n",
    "\n",
    "# Feature 3: Price per m² (building area only)\n",
    "X[\"PricePerSqm\"] = df[\"Price\"] / (X[\"BuildingArea\"] + 1)  # Avoid div/0"
   ]
  },
  {
   "cell_type": "markdown",
   "id": "7fc62d90",
   "metadata": {},
   "source": [
    "**New Features Introduced:**\n",
    "- `TotalRooms`: better captures total livable space\n",
    "- `HouseAge`: newer homes may command higher prices\n",
    "- `PricePerSqm`: context-aware feature for potential outlier analysis (used only for visualization or retained conditionally)"
   ]
  },
  {
   "cell_type": "code",
   "execution_count": null,
   "id": "ddc33ea9",
   "metadata": {},
   "outputs": [],
   "source": [
    "from sklearn.impute import SimpleImputer\n",
    "from sklearn.preprocessing import OneHotEncoder\n",
    "from sklearn.compose import ColumnTransformer\n",
    "from sklearn.pipeline import Pipeline\n",
    "\n",
    "numeric_cols = X.select_dtypes(include=[\"int64\", \"float64\"]).columns.tolist()\n",
    "categorical_cols = X.select_dtypes(include=[\"object\"]).columns.tolist()\n",
    "\n",
    "numeric_transformer = Pipeline(steps=[\n",
    "    (\"imputer\", SimpleImputer(strategy=\"median\"))\n",
    "])\n",
    "\n",
    "categorical_transformer = Pipeline(steps=[\n",
    "    (\"imputer\", SimpleImputer(strategy=\"most_frequent\")),\n",
    "    (\"encoder\", OneHotEncoder(handle_unknown=\"ignore\", sparse_output=False))\n",
    "])\n",
    "\n",
    "preprocessor = ColumnTransformer(\n",
    "    transformers=[\n",
    "        (\"num\", numeric_transformer, numeric_cols),\n",
    "        (\"cat\", categorical_transformer, categorical_cols)\n",
    "    ])"
   ]
  },
  {
   "cell_type": "code",
   "execution_count": null,
   "id": "623fb241",
   "metadata": {},
   "outputs": [],
   "source": [
    "from sklearn.ensemble import RandomForestRegressor\n",
    "from sklearn.model_selection import cross_val_score\n",
    "\n",
    "pipeline = Pipeline(steps=[\n",
    "    (\"preprocessor\", preprocessor),\n",
    "    (\"model\", RandomForestRegressor(n_estimators=100, random_state=42))\n",
    "])\n",
    "\n",
    "# Evaluate with 5-fold CV\n",
    "cv_scores = cross_val_score(pipeline, X, y, scoring=\"neg_mean_absolute_error\", cv=5)\n",
    "mae_scores = -cv_scores\n",
    "\n",
    "print(f\"Mean MAE with engineered features: ${mae_scores.mean():,.0f} AUD\")\n",
    "print(f\"Standard deviation: ${mae_scores.std():,.0f} AUD\")"
   ]
  },
  {
   "cell_type": "code",
   "execution_count": null,
   "id": "52e6bd38",
   "metadata": {},
   "outputs": [],
   "source": [
    "import matplotlib.pyplot as plt\n",
    "\n",
    "plt.figure(figsize=(8, 4))\n",
    "plt.plot(mae_scores, marker='o', linestyle='--', label=\"With Feature Engineering\")\n",
    "plt.axhline(y=162391, color='gray', linestyle=':', label=\"Baseline (Day 3)\")\n",
    "plt.title(\"MAE Comparison with Feature Engineering\")\n",
    "plt.xlabel(\"Fold\")\n",
    "plt.ylabel(\"MAE\")\n",
    "plt.legend()\n",
    "plt.grid(True)\n",
    "plt.show()"
   ]
  },
  {
   "cell_type": "markdown",
   "id": "11aa9cd7",
   "metadata": {},
   "source": [
    "## 📊 Evaluation Summary: Feature Engineering Impact\n",
    "\n",
    "After incorporating three derived features—`TotalRooms`, `HouseAge`, and `PricePerSqm`—into the model pipeline, we re-evaluated performance using 5-fold cross-validation.\n",
    "\n",
    "### 🔢 Performance Metrics\n",
    "\n",
    "- **Mean MAE (with engineered features):** \\$146,557 AUD  \n",
    "- **Standard Deviation:** \\$12,689 AUD  \n",
    "- **Previous Baseline (Day 3):** \\$162,391 AUD  \n",
    "- **Improvement:** ~9.8% reduction in average MAE\n",
    "\n",
    "---\n",
    "\n",
    "### 📈 Interpretation\n",
    "\n",
    "The updated model consistently outperformed the baseline across all folds, with the steepest gains seen in folds 2–5. The lower variance in error suggests increased robustness to data partitioning, an expected benefit of better-structured input features.\n",
    "\n",
    "---\n",
    "\n",
    "### 🧠 Feature-Level Insights\n",
    "\n",
    "- **`TotalRooms`** (combined `Rooms`, `Bedroom2`, and `Bathroom`) helped reduce redundancy while preserving meaningful granularity around home size.\n",
    "- **`HouseAge`** captured depreciation effects and modernization trends—newer homes may command premium prices.\n",
    "- **`PricePerSqm`** was informative for exploratory insight but should be used cautiously to avoid data leakage if `Price` is the target (here used only for exploratory plots, not as a model input).\n",
    "\n",
    "This exercise highlights how domain-informed features can materially improve performance, even in tree-based models that are robust to raw feature distributions. Feature engineering remains a critical skill for practitioners seeking interpretable and performant models."
   ]
  }
 ],
 "metadata": {
  "kernelspec": {
   "display_name": "hcmle-env",
   "language": "python",
   "name": "python3"
  },
  "language_info": {
   "codemirror_mode": {
    "name": "ipython",
    "version": 3
   },
   "file_extension": ".py",
   "mimetype": "text/x-python",
   "name": "python",
   "nbconvert_exporter": "python",
   "pygments_lexer": "ipython3",
   "version": "3.11.11"
  }
 },
 "nbformat": 4,
 "nbformat_minor": 5
}
