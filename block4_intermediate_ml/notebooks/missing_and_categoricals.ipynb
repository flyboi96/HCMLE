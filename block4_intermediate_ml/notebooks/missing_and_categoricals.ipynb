{
 "cells": [
  {
   "cell_type": "markdown",
   "id": "a762cc49",
   "metadata": {},
   "source": [
    "# 🧼 Handling Missing Values and Encoding Categorical Variables\n",
    "\n",
    "This notebook focuses on robust preprocessing using `SimpleImputer` and encoding with `OneHotEncoder`. All steps will feed into a scikit-learn `Pipeline` or `ColumnTransformer` for scalable modeling."
   ]
  },
  {
   "cell_type": "markdown",
   "id": "88334c50",
   "metadata": {},
   "source": [
    "## 📊 Data Overview"
   ]
  },
  {
   "cell_type": "code",
   "execution_count": null,
   "id": "8f33a6bd",
   "metadata": {},
   "outputs": [],
   "source": [
    "import pandas as pd\n",
    "import numpy as np\n",
    "\n",
    "# Load dataset\n",
    "df = pd.read_csv(\"../data/housing.csv\")\n",
    "\n",
    "# Quick shape check\n",
    "print(f\"Dataset shape: {df.shape}\")\n",
    "df.head()"
   ]
  },
  {
   "cell_type": "code",
   "execution_count": null,
   "id": "727cfbf0",
   "metadata": {},
   "outputs": [],
   "source": [
    "# Define target and feature matrix\n",
    "y = df['Price']\n",
    "X = df.drop('Price', axis=1)"
   ]
  },
  {
   "cell_type": "code",
   "execution_count": null,
   "id": "bf30a703",
   "metadata": {},
   "outputs": [],
   "source": [
    "# Separate column types\n",
    "numeric_cols = X.select_dtypes(include=['int64', 'float64']).columns.tolist()\n",
    "categorical_cols = X.select_dtypes(include=['object']).columns.tolist()\n",
    "\n",
    "print(f\"Numeric columns: {numeric_cols}\")\n",
    "print(f\"Categorical columns: {categorical_cols}\")"
   ]
  },
  {
   "cell_type": "markdown",
   "id": "9e9f9188",
   "metadata": {},
   "source": [
    "## 🔍 Missing Data Handling"
   ]
  },
  {
   "cell_type": "code",
   "execution_count": null,
   "id": "e1d1a110",
   "metadata": {},
   "outputs": [],
   "source": [
    "# Count missing values\n",
    "print(\"Missing values in numeric features:\")\n",
    "display(X[numeric_cols].isnull().sum().sort_values(ascending=False))\n",
    "\n",
    "print(\"Missing values in categorical features:\")\n",
    "display(X[categorical_cols].isnull().sum().sort_values(ascending=False))"
   ]
  },
  {
   "cell_type": "markdown",
   "id": "70e709b1",
   "metadata": {},
   "source": [
    "## 🏗️ Pipeline Construction"
   ]
  },
  {
   "cell_type": "code",
   "execution_count": null,
   "id": "94b6d730",
   "metadata": {},
   "outputs": [],
   "source": [
    "from sklearn.impute import SimpleImputer\n",
    "from sklearn.preprocessing import OneHotEncoder\n",
    "from sklearn.compose import ColumnTransformer\n",
    "from sklearn.pipeline import Pipeline"
   ]
  },
  {
   "cell_type": "code",
   "execution_count": null,
   "id": "699cc517",
   "metadata": {},
   "outputs": [],
   "source": [
    "# Median for numerics, most_frequent for categoricals\n",
    "numeric_transformer = Pipeline(steps=[\n",
    "    ('imputer', SimpleImputer(strategy='median'))\n",
    "])\n",
    "\n",
    "categorical_transformer = Pipeline(steps=[\n",
    "    ('imputer', SimpleImputer(strategy='most_frequent')),\n",
    "    ('encoder', OneHotEncoder(handle_unknown='ignore', sparse_output=False))\n",
    "])"
   ]
  },
  {
   "cell_type": "code",
   "execution_count": null,
   "id": "6048eb00",
   "metadata": {},
   "outputs": [],
   "source": [
    "# Combine numerical and categorical transformers\n",
    "preprocessor = ColumnTransformer(\n",
    "    transformers=[\n",
    "        ('num', numeric_transformer, numeric_cols),\n",
    "        ('cat', categorical_transformer, categorical_cols)\n",
    "    ])"
   ]
  },
  {
   "cell_type": "code",
   "execution_count": null,
   "id": "c1bdddc3",
   "metadata": {},
   "outputs": [],
   "source": [
    "from sklearn.ensemble import RandomForestRegressor\n",
    "from sklearn.model_selection import train_test_split\n",
    "\n",
    "# Split data\n",
    "X_train, X_test, y_train, y_test = train_test_split(X, y, test_size=0.2, random_state=42)\n",
    "\n",
    "# Full pipeline\n",
    "model_pipeline = Pipeline(steps=[\n",
    "    ('preprocessor', preprocessor),\n",
    "    ('model', RandomForestRegressor(n_estimators=50, random_state=42))\n",
    "])\n",
    "\n",
    "# Fit model\n",
    "model_pipeline.fit(X_train, y_train)"
   ]
  },
  {
   "cell_type": "markdown",
   "id": "c457a60a",
   "metadata": {},
   "source": [
    "## 🧪 Model Evaluation"
   ]
  },
  {
   "cell_type": "code",
   "execution_count": null,
   "id": "56431c11",
   "metadata": {},
   "outputs": [],
   "source": [
    "# Score model on validation data\n",
    "from sklearn.metrics import mean_absolute_error\n",
    "\n",
    "preds = model_pipeline.predict(X_test)\n",
    "mae = mean_absolute_error(y_test, preds)\n",
    "\n",
    "print(f\"Validation MAE with pipeline: ${mae:,.0f} AUD\")"
   ]
  },
  {
   "cell_type": "markdown",
   "id": "edbf3eca",
   "metadata": {},
   "source": [
    "## Summary of Preprocessing Strategy\n",
    "\n",
    "- Imputed numerical columns using `median` strategy.\n",
    "- Imputed categorical columns using `most_frequent` strategy.\n",
    "- Encoded categoricals using `OneHotEncoder(handle_unknown='ignore')`.\n",
    "- Combined preprocessing and model into a single scikit-learn `Pipeline`.\n",
    "- Achieved MAE of $162,798 AUD on hold-out validation data.\n",
    "\n",
    "### Next Steps\n",
    "- Consider handling high-cardinality features like `Suburb` with frequency or target encoding.\n",
    "- Integrate cross-validation for more robust evaluation (Day 3)."
   ]
  }
 ],
 "metadata": {
  "kernelspec": {
   "display_name": "hcmle-env",
   "language": "python",
   "name": "python3"
  },
  "language_info": {
   "codemirror_mode": {
    "name": "ipython",
    "version": 3
   },
   "file_extension": ".py",
   "mimetype": "text/x-python",
   "name": "python",
   "nbconvert_exporter": "python",
   "pygments_lexer": "ipython3",
   "version": "3.11.11"
  }
 },
 "nbformat": 4,
 "nbformat_minor": 5
}
