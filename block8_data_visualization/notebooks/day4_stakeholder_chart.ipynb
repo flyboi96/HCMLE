{
 "cells": [
  {
   "cell_type": "markdown",
   "id": "77c731cc",
   "metadata": {},
   "source": [
    "# Day 4: Simplified Stakeholder Chart\n",
    "\n",
    "## 1. Objective\n",
    "Create a clear, stakeholder-friendly chart that communicates a key insight from the model without technical jargon.\n",
    "\n",
    "## 2. Key Steps\n",
    "- Select insight: Model correctly identifies 23 of 32 gallstone cases (72%)\n",
    "- Design bar chart with clear annotation\n",
    "- Write plain-language caption\n",
    "\n",
    "## 3. Results\n",
    "- See below\n",
    "\n",
    "## 4. Summary\n",
    "- Used horizontal bar chart to visualize model’s ability to detect gallstone cases.\n",
    "- Highlighted correct predictions vs. total cases.\n",
    "- Caption written for a clinical decision-maker audience without machine learning terms."
   ]
  },
  {
   "cell_type": "code",
   "execution_count": null,
   "id": "eec4cefa",
   "metadata": {},
   "outputs": [],
   "source": [
    "import matplotlib.pyplot as plt\n",
    "\n",
    "# Data\n",
    "labels = ['Correctly Identified', 'Total Gallstone Cases']\n",
    "values = [23, 32]\n",
    "colors = ['steelblue', 'lightgray']\n",
    "\n",
    "# Plot\n",
    "fig, ax = plt.subplots(figsize=(6, 2.5))\n",
    "bars = ax.barh(labels, values, color=colors)\n",
    "\n",
    "# Add text labels\n",
    "for bar in bars:\n",
    "    width = bar.get_width()\n",
    "    ax.text(width + 1, bar.get_y() + bar.get_height()/2,\n",
    "            f'{int(width)} patients', va='center', fontsize=10)\n",
    "\n",
    "# Titles and layout\n",
    "ax.set_xlim(0, 35)\n",
    "ax.set_title(\"Model Caught 72% of Gallstone Cases\", fontsize=12)\n",
    "ax.set_xlabel(\"Number of Patients\")\n",
    "ax.invert_yaxis()  # highest bar on top\n",
    "ax.spines[['top', 'right', 'left']].set_visible(False)\n",
    "ax.grid(False)\n",
    "ax.tick_params(left=False, bottom=False)\n",
    "\n",
    "plt.tight_layout()\n",
    "plt.show()\n",
    "\n",
    "# Save to summary plots folder\n",
    "fig.savefig(\"../plots/stakeholder_gallstone_detection.png\", dpi=300)"
   ]
  },
  {
   "cell_type": "markdown",
   "id": "c8c49f00",
   "metadata": {},
   "source": [
    "### Stakeholder Insight – Gallstone Detection\n",
    "\n",
    "This chart shows how well the model identified patients who actually had gallstones.\n",
    "\n",
    "- **Out of 32 patients with gallstones, the model correctly identified 23**.\n",
    "- This means the model caught about **72%** of the real cases.\n",
    "- While not perfect, this could be a helpful tool to flag higher-risk patients for follow-up testing.\n",
    "\n",
    "We can continue improving this performance by adjusting thresholds or combining it with other clinical data, but this is a strong start."
   ]
  }
 ],
 "metadata": {
  "kernelspec": {
   "display_name": "hcmle-env",
   "language": "python",
   "name": "python3"
  },
  "language_info": {
   "codemirror_mode": {
    "name": "ipython",
    "version": 3
   },
   "file_extension": ".py",
   "mimetype": "text/x-python",
   "name": "python",
   "nbconvert_exporter": "python",
   "pygments_lexer": "ipython3",
   "version": "3.11.11"
  }
 },
 "nbformat": 4,
 "nbformat_minor": 5
}
