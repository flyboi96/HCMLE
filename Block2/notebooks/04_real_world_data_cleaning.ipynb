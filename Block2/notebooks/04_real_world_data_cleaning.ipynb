{
 "cells": [
  {
   "cell_type": "code",
   "execution_count": 3,
   "id": "edc1110b",
   "metadata": {},
   "outputs": [],
   "source": [
    "import pandas as pd\n",
    "import seaborn as sns\n",
    "import numpy as np\n",
    "\n",
    "titanic = sns.load_dataset(\"titanic\")\n",
    "iris = sns.load_dataset(\"iris\")"
   ]
  },
  {
   "cell_type": "code",
   "execution_count": 4,
   "id": "4f220295",
   "metadata": {},
   "outputs": [
    {
     "name": "stdout",
     "output_type": "stream",
     "text": [
      "<class 'pandas.core.frame.DataFrame'>\n",
      "RangeIndex: 891 entries, 0 to 890\n",
      "Data columns (total 15 columns):\n",
      " #   Column       Non-Null Count  Dtype   \n",
      "---  ------       --------------  -----   \n",
      " 0   survived     891 non-null    int64   \n",
      " 1   pclass       891 non-null    int64   \n",
      " 2   sex          891 non-null    object  \n",
      " 3   age          714 non-null    float64 \n",
      " 4   sibsp        891 non-null    int64   \n",
      " 5   parch        891 non-null    int64   \n",
      " 6   fare         891 non-null    float64 \n",
      " 7   embarked     889 non-null    object  \n",
      " 8   class        891 non-null    category\n",
      " 9   who          891 non-null    object  \n",
      " 10  adult_male   891 non-null    bool    \n",
      " 11  deck         203 non-null    category\n",
      " 12  embark_town  889 non-null    object  \n",
      " 13  alive        891 non-null    object  \n",
      " 14  alone        891 non-null    bool    \n",
      "dtypes: bool(2), category(2), float64(2), int64(4), object(5)\n",
      "memory usage: 80.7+ KB\n"
     ]
    }
   ],
   "source": [
    "# Look at basic structure\n",
    "titanic.info()"
   ]
  },
  {
   "cell_type": "code",
   "execution_count": 5,
   "id": "ff0f4946",
   "metadata": {},
   "outputs": [
    {
     "name": "stdout",
     "output_type": "stream",
     "text": [
      "<class 'pandas.core.frame.DataFrame'>\n",
      "RangeIndex: 150 entries, 0 to 149\n",
      "Data columns (total 5 columns):\n",
      " #   Column        Non-Null Count  Dtype  \n",
      "---  ------        --------------  -----  \n",
      " 0   sepal_length  150 non-null    float64\n",
      " 1   sepal_width   150 non-null    float64\n",
      " 2   petal_length  150 non-null    float64\n",
      " 3   petal_width   150 non-null    float64\n",
      " 4   species       150 non-null    object \n",
      "dtypes: float64(4), object(1)\n",
      "memory usage: 6.0+ KB\n"
     ]
    }
   ],
   "source": [
    "# Look at basic structure\n",
    "iris.info()"
   ]
  },
  {
   "cell_type": "code",
   "execution_count": 6,
   "id": "fd477086",
   "metadata": {},
   "outputs": [
    {
     "name": "stdout",
     "output_type": "stream",
     "text": [
      "Missing in Titanic:\n",
      "survived         0\n",
      "pclass           0\n",
      "sex              0\n",
      "age            177\n",
      "sibsp            0\n",
      "parch            0\n",
      "fare             0\n",
      "embarked         2\n",
      "class            0\n",
      "who              0\n",
      "adult_male       0\n",
      "deck           688\n",
      "embark_town      2\n",
      "alive            0\n",
      "alone            0\n",
      "dtype: int64\n",
      "\n",
      "Missing in Iris:\n",
      "sepal_length    0\n",
      "sepal_width     0\n",
      "petal_length    0\n",
      "petal_width     0\n",
      "species         0\n",
      "dtype: int64\n",
      "Titanic duplicates: 107\n",
      "Iris duplicates: 1\n"
     ]
    }
   ],
   "source": [
    "# Count missing values\n",
    "print(\"Missing in Titanic:\")\n",
    "print(titanic.isnull().sum())\n",
    "\n",
    "print(\"\\nMissing in Iris:\")\n",
    "print(iris.isnull().sum())\n",
    "\n",
    "# Check for duplicate rows\n",
    "print(\"Titanic duplicates:\", titanic.duplicated().sum())\n",
    "print(\"Iris duplicates:\", iris.duplicated().sum())"
   ]
  },
  {
   "cell_type": "markdown",
   "id": "5bb646c2",
   "metadata": {},
   "source": [
    "# Initial Data Quality Overview\n",
    "\n",
    "A quick scan for missing and duplicated entries reveals the following insights:\n",
    "\n",
    "## Titanic Dataset\n",
    "\n",
    "| Column        | Missing Values |\n",
    "|---------------|----------------|\n",
    "| age           | 177            |\n",
    "| deck          | 688            |\n",
    "| embarked      | 2              |\n",
    "| embark_town   | 2              |\n",
    "| All others    | 0              |\n",
    "\n",
    "- **Age** is missing for ~20% of passengers. This is a significant feature for survival analysis and will need thoughtful imputation (e.g., median age by class).\n",
    "- **Deck** is missing in the majority of records, making it largely unreliable for modeling unless used as a categorical indicator (e.g., \"known vs unknown\").\n",
    "- **Embarked** and **embark_town** each have 2 missing values. These can be safely filled using the mode (most common value).\n",
    "- **107 duplicate rows** exist and will be removed to avoid skewing results.\n",
    "\n",
    "---\n",
    "\n",
    "## Iris Dataset\n",
    "\n",
    "- No missing values in any feature.\n",
    "- **1 duplicate row** detected — minimal, but it will be dropped for cleanliness.\n",
    "\n",
    "## Action Plan\n",
    "\n",
    "| Task                                | Action                        |\n",
    "|-------------------------------------|-------------------------------|\n",
    "| Titanic age missing                 | Fill by median per `pclass`  |\n",
    "| Titanic deck missing                | Consider dropping or binning |\n",
    "| Titanic embarked / embark_town      | Fill with most common value  |\n",
    "| Titanic duplicates                  | Drop duplicates              |\n",
    "| Iris duplicates                     | Drop duplicate row           |\n",
    "\n",
    "Cleaning these issues ensures the data is structured, consistent, and ready for trustworthy analysis."
   ]
  },
  {
   "cell_type": "code",
   "execution_count": 9,
   "id": "aae13512",
   "metadata": {},
   "outputs": [],
   "source": [
    "titanic[\"age\"] = titanic.groupby(\"pclass\")[\"age\"].transform(\n",
    "    lambda x: x.fillna(x.median())\n",
    ")\n",
    "\n",
    "titanic[\"embarked\"] = titanic[\"embarked\"].fillna(titanic[\"embarked\"].mode()[0])\n",
    "\n",
    "titanic.drop_duplicates(inplace=True)\n",
    "\n",
    "titanic[\"embarked\"] = titanic[\"embarked\"].str.upper()"
   ]
  },
  {
   "cell_type": "code",
   "execution_count": 12,
   "id": "99dee15b",
   "metadata": {},
   "outputs": [],
   "source": [
    "iris.iloc[3, 1] = np.nan\n",
    "\n",
    "iris.dropna(inplace=True)\n",
    "\n",
    "iris.drop_duplicates(inplace=True)"
   ]
  },
  {
   "cell_type": "code",
   "execution_count": 13,
   "id": "c183995d",
   "metadata": {},
   "outputs": [],
   "source": [
    "titanic.to_csv(\"cleaned_titanic.csv\", index=False)\n",
    "iris.to_csv(\"iris_clean.csv\", index=False)"
   ]
  },
  {
   "cell_type": "markdown",
   "id": "cfc45897",
   "metadata": {},
   "source": [
    "## Titanic Insight\n",
    "\n",
    "Filling missing age using median by passenger class preserves structure while keeping age distributions class-specific. It avoids skewing with global averages and keeps rows intact for modeling.\n",
    "\n",
    "## Iris Insight\n",
    "\n",
    "After simulating a missing value and dropping it, the dataset remains nearly identical but is now ready for clean training with no NaNs or duplicates."
   ]
  }
 ],
 "metadata": {
  "kernelspec": {
   "display_name": "hcmle-env",
   "language": "python",
   "name": "python3"
  },
  "language_info": {
   "codemirror_mode": {
    "name": "ipython",
    "version": 3
   },
   "file_extension": ".py",
   "mimetype": "text/x-python",
   "name": "python",
   "nbconvert_exporter": "python",
   "pygments_lexer": "ipython3",
   "version": "3.11.11"
  }
 },
 "nbformat": 4,
 "nbformat_minor": 5
}
