{
 "cells": [
  {
   "cell_type": "code",
   "execution_count": 3,
   "id": "767f8a5d",
   "metadata": {},
   "outputs": [
    {
     "data": {
      "application/vnd.microsoft.datawrangler.viewer.v0+json": {
       "columns": [
        {
         "name": "index",
         "rawType": "int64",
         "type": "integer"
        },
        {
         "name": "survived",
         "rawType": "int64",
         "type": "integer"
        },
        {
         "name": "pclass",
         "rawType": "int64",
         "type": "integer"
        },
        {
         "name": "sex",
         "rawType": "object",
         "type": "string"
        },
        {
         "name": "age",
         "rawType": "float64",
         "type": "float"
        },
        {
         "name": "sibsp",
         "rawType": "int64",
         "type": "integer"
        },
        {
         "name": "parch",
         "rawType": "int64",
         "type": "integer"
        },
        {
         "name": "fare",
         "rawType": "float64",
         "type": "float"
        },
        {
         "name": "embarked",
         "rawType": "object",
         "type": "string"
        },
        {
         "name": "class",
         "rawType": "category",
         "type": "unknown"
        },
        {
         "name": "who",
         "rawType": "object",
         "type": "string"
        },
        {
         "name": "adult_male",
         "rawType": "bool",
         "type": "boolean"
        },
        {
         "name": "deck",
         "rawType": "category",
         "type": "unknown"
        },
        {
         "name": "embark_town",
         "rawType": "object",
         "type": "string"
        },
        {
         "name": "alive",
         "rawType": "object",
         "type": "string"
        },
        {
         "name": "alone",
         "rawType": "bool",
         "type": "boolean"
        }
       ],
       "conversionMethod": "pd.DataFrame",
       "ref": "7a8ae31f-38cd-4725-95ee-c6621db4327c",
       "rows": [
        [
         "0",
         "0",
         "3",
         "male",
         "22.0",
         "1",
         "0",
         "7.25",
         "S",
         "Third",
         "man",
         "True",
         null,
         "Southampton",
         "no",
         "False"
        ],
        [
         "1",
         "1",
         "1",
         "female",
         "38.0",
         "1",
         "0",
         "71.2833",
         "C",
         "First",
         "woman",
         "False",
         "C",
         "Cherbourg",
         "yes",
         "False"
        ],
        [
         "2",
         "1",
         "3",
         "female",
         "26.0",
         "0",
         "0",
         "7.925",
         "S",
         "Third",
         "woman",
         "False",
         null,
         "Southampton",
         "yes",
         "True"
        ],
        [
         "3",
         "1",
         "1",
         "female",
         "35.0",
         "1",
         "0",
         "53.1",
         "S",
         "First",
         "woman",
         "False",
         "C",
         "Southampton",
         "yes",
         "False"
        ],
        [
         "4",
         "0",
         "3",
         "male",
         "35.0",
         "0",
         "0",
         "8.05",
         "S",
         "Third",
         "man",
         "True",
         null,
         "Southampton",
         "no",
         "True"
        ]
       ],
       "shape": {
        "columns": 15,
        "rows": 5
       }
      },
      "text/html": [
       "<div>\n",
       "<style scoped>\n",
       "    .dataframe tbody tr th:only-of-type {\n",
       "        vertical-align: middle;\n",
       "    }\n",
       "\n",
       "    .dataframe tbody tr th {\n",
       "        vertical-align: top;\n",
       "    }\n",
       "\n",
       "    .dataframe thead th {\n",
       "        text-align: right;\n",
       "    }\n",
       "</style>\n",
       "<table border=\"1\" class=\"dataframe\">\n",
       "  <thead>\n",
       "    <tr style=\"text-align: right;\">\n",
       "      <th></th>\n",
       "      <th>survived</th>\n",
       "      <th>pclass</th>\n",
       "      <th>sex</th>\n",
       "      <th>age</th>\n",
       "      <th>sibsp</th>\n",
       "      <th>parch</th>\n",
       "      <th>fare</th>\n",
       "      <th>embarked</th>\n",
       "      <th>class</th>\n",
       "      <th>who</th>\n",
       "      <th>adult_male</th>\n",
       "      <th>deck</th>\n",
       "      <th>embark_town</th>\n",
       "      <th>alive</th>\n",
       "      <th>alone</th>\n",
       "    </tr>\n",
       "  </thead>\n",
       "  <tbody>\n",
       "    <tr>\n",
       "      <th>0</th>\n",
       "      <td>0</td>\n",
       "      <td>3</td>\n",
       "      <td>male</td>\n",
       "      <td>22.0</td>\n",
       "      <td>1</td>\n",
       "      <td>0</td>\n",
       "      <td>7.2500</td>\n",
       "      <td>S</td>\n",
       "      <td>Third</td>\n",
       "      <td>man</td>\n",
       "      <td>True</td>\n",
       "      <td>NaN</td>\n",
       "      <td>Southampton</td>\n",
       "      <td>no</td>\n",
       "      <td>False</td>\n",
       "    </tr>\n",
       "    <tr>\n",
       "      <th>1</th>\n",
       "      <td>1</td>\n",
       "      <td>1</td>\n",
       "      <td>female</td>\n",
       "      <td>38.0</td>\n",
       "      <td>1</td>\n",
       "      <td>0</td>\n",
       "      <td>71.2833</td>\n",
       "      <td>C</td>\n",
       "      <td>First</td>\n",
       "      <td>woman</td>\n",
       "      <td>False</td>\n",
       "      <td>C</td>\n",
       "      <td>Cherbourg</td>\n",
       "      <td>yes</td>\n",
       "      <td>False</td>\n",
       "    </tr>\n",
       "    <tr>\n",
       "      <th>2</th>\n",
       "      <td>1</td>\n",
       "      <td>3</td>\n",
       "      <td>female</td>\n",
       "      <td>26.0</td>\n",
       "      <td>0</td>\n",
       "      <td>0</td>\n",
       "      <td>7.9250</td>\n",
       "      <td>S</td>\n",
       "      <td>Third</td>\n",
       "      <td>woman</td>\n",
       "      <td>False</td>\n",
       "      <td>NaN</td>\n",
       "      <td>Southampton</td>\n",
       "      <td>yes</td>\n",
       "      <td>True</td>\n",
       "    </tr>\n",
       "    <tr>\n",
       "      <th>3</th>\n",
       "      <td>1</td>\n",
       "      <td>1</td>\n",
       "      <td>female</td>\n",
       "      <td>35.0</td>\n",
       "      <td>1</td>\n",
       "      <td>0</td>\n",
       "      <td>53.1000</td>\n",
       "      <td>S</td>\n",
       "      <td>First</td>\n",
       "      <td>woman</td>\n",
       "      <td>False</td>\n",
       "      <td>C</td>\n",
       "      <td>Southampton</td>\n",
       "      <td>yes</td>\n",
       "      <td>False</td>\n",
       "    </tr>\n",
       "    <tr>\n",
       "      <th>4</th>\n",
       "      <td>0</td>\n",
       "      <td>3</td>\n",
       "      <td>male</td>\n",
       "      <td>35.0</td>\n",
       "      <td>0</td>\n",
       "      <td>0</td>\n",
       "      <td>8.0500</td>\n",
       "      <td>S</td>\n",
       "      <td>Third</td>\n",
       "      <td>man</td>\n",
       "      <td>True</td>\n",
       "      <td>NaN</td>\n",
       "      <td>Southampton</td>\n",
       "      <td>no</td>\n",
       "      <td>True</td>\n",
       "    </tr>\n",
       "  </tbody>\n",
       "</table>\n",
       "</div>"
      ],
      "text/plain": [
       "   survived  pclass     sex   age  sibsp  parch     fare embarked  class  \\\n",
       "0         0       3    male  22.0      1      0   7.2500        S  Third   \n",
       "1         1       1  female  38.0      1      0  71.2833        C  First   \n",
       "2         1       3  female  26.0      0      0   7.9250        S  Third   \n",
       "3         1       1  female  35.0      1      0  53.1000        S  First   \n",
       "4         0       3    male  35.0      0      0   8.0500        S  Third   \n",
       "\n",
       "     who  adult_male deck  embark_town alive  alone  \n",
       "0    man        True  NaN  Southampton    no  False  \n",
       "1  woman       False    C    Cherbourg   yes  False  \n",
       "2  woman       False  NaN  Southampton   yes   True  \n",
       "3  woman       False    C  Southampton   yes  False  \n",
       "4    man        True  NaN  Southampton    no   True  "
      ]
     },
     "execution_count": 3,
     "metadata": {},
     "output_type": "execute_result"
    }
   ],
   "source": [
    "import pandas as pd\n",
    "import seaborn as sns\n",
    "\n",
    "titanic = sns.load_dataset(\"titanic\")\n",
    "iris = sns.load_dataset(\"iris\")\n",
    "\n",
    "titanic.head()\n"
   ]
  },
  {
   "cell_type": "code",
   "execution_count": 4,
   "id": "c9144fef",
   "metadata": {},
   "outputs": [
    {
     "data": {
      "application/vnd.microsoft.datawrangler.viewer.v0+json": {
       "columns": [
        {
         "name": "index",
         "rawType": "int64",
         "type": "integer"
        },
        {
         "name": "sepal_length",
         "rawType": "float64",
         "type": "float"
        },
        {
         "name": "sepal_width",
         "rawType": "float64",
         "type": "float"
        },
        {
         "name": "petal_length",
         "rawType": "float64",
         "type": "float"
        },
        {
         "name": "petal_width",
         "rawType": "float64",
         "type": "float"
        },
        {
         "name": "species",
         "rawType": "object",
         "type": "string"
        }
       ],
       "conversionMethod": "pd.DataFrame",
       "ref": "493b5203-c3fb-4725-ba14-f7515a8c3ba1",
       "rows": [
        [
         "0",
         "5.1",
         "3.5",
         "1.4",
         "0.2",
         "setosa"
        ],
        [
         "1",
         "4.9",
         "3.0",
         "1.4",
         "0.2",
         "setosa"
        ],
        [
         "2",
         "4.7",
         "3.2",
         "1.3",
         "0.2",
         "setosa"
        ],
        [
         "3",
         "4.6",
         "3.1",
         "1.5",
         "0.2",
         "setosa"
        ],
        [
         "4",
         "5.0",
         "3.6",
         "1.4",
         "0.2",
         "setosa"
        ]
       ],
       "shape": {
        "columns": 5,
        "rows": 5
       }
      },
      "text/html": [
       "<div>\n",
       "<style scoped>\n",
       "    .dataframe tbody tr th:only-of-type {\n",
       "        vertical-align: middle;\n",
       "    }\n",
       "\n",
       "    .dataframe tbody tr th {\n",
       "        vertical-align: top;\n",
       "    }\n",
       "\n",
       "    .dataframe thead th {\n",
       "        text-align: right;\n",
       "    }\n",
       "</style>\n",
       "<table border=\"1\" class=\"dataframe\">\n",
       "  <thead>\n",
       "    <tr style=\"text-align: right;\">\n",
       "      <th></th>\n",
       "      <th>sepal_length</th>\n",
       "      <th>sepal_width</th>\n",
       "      <th>petal_length</th>\n",
       "      <th>petal_width</th>\n",
       "      <th>species</th>\n",
       "    </tr>\n",
       "  </thead>\n",
       "  <tbody>\n",
       "    <tr>\n",
       "      <th>0</th>\n",
       "      <td>5.1</td>\n",
       "      <td>3.5</td>\n",
       "      <td>1.4</td>\n",
       "      <td>0.2</td>\n",
       "      <td>setosa</td>\n",
       "    </tr>\n",
       "    <tr>\n",
       "      <th>1</th>\n",
       "      <td>4.9</td>\n",
       "      <td>3.0</td>\n",
       "      <td>1.4</td>\n",
       "      <td>0.2</td>\n",
       "      <td>setosa</td>\n",
       "    </tr>\n",
       "    <tr>\n",
       "      <th>2</th>\n",
       "      <td>4.7</td>\n",
       "      <td>3.2</td>\n",
       "      <td>1.3</td>\n",
       "      <td>0.2</td>\n",
       "      <td>setosa</td>\n",
       "    </tr>\n",
       "    <tr>\n",
       "      <th>3</th>\n",
       "      <td>4.6</td>\n",
       "      <td>3.1</td>\n",
       "      <td>1.5</td>\n",
       "      <td>0.2</td>\n",
       "      <td>setosa</td>\n",
       "    </tr>\n",
       "    <tr>\n",
       "      <th>4</th>\n",
       "      <td>5.0</td>\n",
       "      <td>3.6</td>\n",
       "      <td>1.4</td>\n",
       "      <td>0.2</td>\n",
       "      <td>setosa</td>\n",
       "    </tr>\n",
       "  </tbody>\n",
       "</table>\n",
       "</div>"
      ],
      "text/plain": [
       "   sepal_length  sepal_width  petal_length  petal_width species\n",
       "0           5.1          3.5           1.4          0.2  setosa\n",
       "1           4.9          3.0           1.4          0.2  setosa\n",
       "2           4.7          3.2           1.3          0.2  setosa\n",
       "3           4.6          3.1           1.5          0.2  setosa\n",
       "4           5.0          3.6           1.4          0.2  setosa"
      ]
     },
     "execution_count": 4,
     "metadata": {},
     "output_type": "execute_result"
    }
   ],
   "source": [
    "# Preview your ingredients\n",
    "iris.head()"
   ]
  },
  {
   "cell_type": "code",
   "execution_count": 5,
   "id": "0c877341",
   "metadata": {},
   "outputs": [
    {
     "data": {
      "application/vnd.microsoft.datawrangler.viewer.v0+json": {
       "columns": [
        {
         "name": "sex",
         "rawType": "object",
         "type": "string"
        },
        {
         "name": "1",
         "rawType": "float64",
         "type": "float"
        },
        {
         "name": "2",
         "rawType": "float64",
         "type": "float"
        },
        {
         "name": "3",
         "rawType": "float64",
         "type": "float"
        }
       ],
       "conversionMethod": "pd.DataFrame",
       "ref": "d7e792b6-23f2-4a49-9ee3-ba435043b077",
       "rows": [
        [
         "female",
         "0.9680851063829787",
         "0.9210526315789473",
         "0.5"
        ],
        [
         "male",
         "0.36885245901639346",
         "0.1574074074074074",
         "0.13544668587896252"
        ]
       ],
       "shape": {
        "columns": 3,
        "rows": 2
       }
      },
      "text/html": [
       "<div>\n",
       "<style scoped>\n",
       "    .dataframe tbody tr th:only-of-type {\n",
       "        vertical-align: middle;\n",
       "    }\n",
       "\n",
       "    .dataframe tbody tr th {\n",
       "        vertical-align: top;\n",
       "    }\n",
       "\n",
       "    .dataframe thead th {\n",
       "        text-align: right;\n",
       "    }\n",
       "</style>\n",
       "<table border=\"1\" class=\"dataframe\">\n",
       "  <thead>\n",
       "    <tr style=\"text-align: right;\">\n",
       "      <th>pclass</th>\n",
       "      <th>1</th>\n",
       "      <th>2</th>\n",
       "      <th>3</th>\n",
       "    </tr>\n",
       "    <tr>\n",
       "      <th>sex</th>\n",
       "      <th></th>\n",
       "      <th></th>\n",
       "      <th></th>\n",
       "    </tr>\n",
       "  </thead>\n",
       "  <tbody>\n",
       "    <tr>\n",
       "      <th>female</th>\n",
       "      <td>0.968085</td>\n",
       "      <td>0.921053</td>\n",
       "      <td>0.500000</td>\n",
       "    </tr>\n",
       "    <tr>\n",
       "      <th>male</th>\n",
       "      <td>0.368852</td>\n",
       "      <td>0.157407</td>\n",
       "      <td>0.135447</td>\n",
       "    </tr>\n",
       "  </tbody>\n",
       "</table>\n",
       "</div>"
      ],
      "text/plain": [
       "pclass         1         2         3\n",
       "sex                                 \n",
       "female  0.968085  0.921053  0.500000\n",
       "male    0.368852  0.157407  0.135447"
      ]
     },
     "execution_count": 5,
     "metadata": {},
     "output_type": "execute_result"
    }
   ],
   "source": [
    "titanic_summary = titanic.groupby([\"sex\", \"pclass\"])[\"survived\"].mean().unstack()\n",
    "titanic_summary"
   ]
  },
  {
   "cell_type": "markdown",
   "id": "cff5e2a6",
   "metadata": {},
   "source": [
    "## Survival Analysis by Sex and Passenger Class\n",
    "\n",
    "This summary table reveals strong interaction effects between gender, socioeconomic class (as proxied by ticket class), and survival rates on the Titanic.\n",
    "\n",
    "| Class | Female Survival Rate | Male Survival Rate |\n",
    "|-------|----------------------|--------------------|\n",
    "| 1st   | ~96.8%               | ~36.9%             |\n",
    "| 2nd   | ~92.1%               | ~15.7%             |\n",
    "| 3rd   | 50.0%                | ~13.5%             |\n",
    "\n",
    "### Key Observations:\n",
    "\n",
    "- **Gender Disparity**: Survival rates were significantly higher for females in all classes, aligning with historical reports of a “women and children first” policy.\n",
    "- **Class Effect**: First-class passengers had the highest survival rates for both genders. Notably, the survival advantage diminishes in second class and nearly vanishes in third.\n",
    "- **Compounded Risk**: Third-class males had the **lowest survival probability (13.5%)**, suggesting structural disadvantages such as physical cabin location, delayed evacuation access, or lower social priority.\n",
    "\n",
    "### Implications:\n",
    "\n",
    "This pattern illustrates how multiple demographic variables (e.g., gender and class) can interact multiplicatively to influence survival likelihood — a classic example of **intersectional risk** in human-centered data. It also highlights the importance of multi-dimensional grouping in exploratory data analysis (EDA)."
   ]
  },
  {
   "cell_type": "code",
   "execution_count": 6,
   "id": "467d3d1b",
   "metadata": {},
   "outputs": [
    {
     "data": {
      "text/plain": [
       "species\n",
       "setosa        0.246\n",
       "versicolor    1.326\n",
       "virginica     2.026\n",
       "Name: petal_width, dtype: float64"
      ]
     },
     "execution_count": 6,
     "metadata": {},
     "output_type": "execute_result"
    }
   ],
   "source": [
    "iris_summary = iris.groupby(\"species\")[\"petal_width\"].mean()\n",
    "iris_summary"
   ]
  },
  {
   "cell_type": "markdown",
   "id": "b7e210ae",
   "metadata": {},
   "source": [
    "## Iris Petal Width Analysis by Species\n",
    "\n",
    "This summary presents the **mean petal width** for each of the three Iris species in the dataset:\n",
    "\n",
    "| Species     | Avg. Petal Width (cm) |\n",
    "|-------------|------------------------|\n",
    "| Setosa      | 0.246                  |\n",
    "| Versicolor  | 1.326                  |\n",
    "| Virginica   | 2.026                  |\n",
    "\n",
    "### Key Observations:\n",
    "\n",
    "- **Setosa** has **notably narrower petals** than the other two species, suggesting clear morphological differentiation.\n",
    "- **Virginica**, on the other hand, shows the **widest petals on average**, which may contribute to its separation in clustering and classification models.\n",
    "- The progression from Setosa → Versicolor → Virginica aligns with a **natural gradient in petal size**, useful for species classification using simple statistical or machine learning models.\n",
    "\n",
    "### Analytical Note:\n",
    "\n",
    "The substantial variance in petal width across species highlights it as a **highly discriminative feature**. In practice, this kind of group-by analysis forms the backbone of **feature exploration** and **dimensionality assessment** in early-stage data science workflows."
   ]
  },
  {
   "cell_type": "code",
   "execution_count": 10,
   "id": "9aba116d",
   "metadata": {},
   "outputs": [
    {
     "data": {
      "text/html": [
       "<style type=\"text/css\">\n",
       "#T_5bf15_row0_col0, #T_5bf15_row0_col1, #T_5bf15_row0_col2, #T_5bf15_row0_col5, #T_5bf15_row1_col3, #T_5bf15_row1_col4 {\n",
       "  background-color: #f7fbff;\n",
       "  color: #000000;\n",
       "}\n",
       "#T_5bf15_row0_col3, #T_5bf15_row0_col4, #T_5bf15_row1_col0, #T_5bf15_row1_col1, #T_5bf15_row1_col2, #T_5bf15_row1_col5 {\n",
       "  background-color: #08306b;\n",
       "  color: #f1f1f1;\n",
       "}\n",
       "</style>\n",
       "<table id=\"T_5bf15\">\n",
       "  <thead>\n",
       "    <tr>\n",
       "      <th class=\"blank level0\" >&nbsp;</th>\n",
       "      <th id=\"T_5bf15_level0_col0\" class=\"col_heading level0 col0\" colspan=\"3\">age</th>\n",
       "      <th id=\"T_5bf15_level0_col3\" class=\"col_heading level0 col3\" colspan=\"3\">fare</th>\n",
       "    </tr>\n",
       "    <tr>\n",
       "      <th class=\"blank level1\" >&nbsp;</th>\n",
       "      <th id=\"T_5bf15_level1_col0\" class=\"col_heading level1 col0\" >mean</th>\n",
       "      <th id=\"T_5bf15_level1_col1\" class=\"col_heading level1 col1\" >median</th>\n",
       "      <th id=\"T_5bf15_level1_col2\" class=\"col_heading level1 col2\" >count</th>\n",
       "      <th id=\"T_5bf15_level1_col3\" class=\"col_heading level1 col3\" >mean</th>\n",
       "      <th id=\"T_5bf15_level1_col4\" class=\"col_heading level1 col4\" >median</th>\n",
       "      <th id=\"T_5bf15_level1_col5\" class=\"col_heading level1 col5\" >count</th>\n",
       "    </tr>\n",
       "    <tr>\n",
       "      <th class=\"index_name level0\" >sex</th>\n",
       "      <th class=\"blank col0\" >&nbsp;</th>\n",
       "      <th class=\"blank col1\" >&nbsp;</th>\n",
       "      <th class=\"blank col2\" >&nbsp;</th>\n",
       "      <th class=\"blank col3\" >&nbsp;</th>\n",
       "      <th class=\"blank col4\" >&nbsp;</th>\n",
       "      <th class=\"blank col5\" >&nbsp;</th>\n",
       "    </tr>\n",
       "  </thead>\n",
       "  <tbody>\n",
       "    <tr>\n",
       "      <th id=\"T_5bf15_level0_row0\" class=\"row_heading level0 row0\" >female</th>\n",
       "      <td id=\"T_5bf15_row0_col0\" class=\"data row0 col0\" >27.915709</td>\n",
       "      <td id=\"T_5bf15_row0_col1\" class=\"data row0 col1\" >27.000000</td>\n",
       "      <td id=\"T_5bf15_row0_col2\" class=\"data row0 col2\" >261</td>\n",
       "      <td id=\"T_5bf15_row0_col3\" class=\"data row0 col3\" >44.479818</td>\n",
       "      <td id=\"T_5bf15_row0_col4\" class=\"data row0 col4\" >23.000000</td>\n",
       "      <td id=\"T_5bf15_row0_col5\" class=\"data row0 col5\" >314</td>\n",
       "    </tr>\n",
       "    <tr>\n",
       "      <th id=\"T_5bf15_level0_row1\" class=\"row_heading level0 row1\" >male</th>\n",
       "      <td id=\"T_5bf15_row1_col0\" class=\"data row1 col0\" >30.726645</td>\n",
       "      <td id=\"T_5bf15_row1_col1\" class=\"data row1 col1\" >29.000000</td>\n",
       "      <td id=\"T_5bf15_row1_col2\" class=\"data row1 col2\" >453</td>\n",
       "      <td id=\"T_5bf15_row1_col3\" class=\"data row1 col3\" >25.523893</td>\n",
       "      <td id=\"T_5bf15_row1_col4\" class=\"data row1 col4\" >10.500000</td>\n",
       "      <td id=\"T_5bf15_row1_col5\" class=\"data row1 col5\" >577</td>\n",
       "    </tr>\n",
       "  </tbody>\n",
       "</table>\n"
      ],
      "text/plain": [
       "<pandas.io.formats.style.Styler at 0x13104ce10>"
      ]
     },
     "execution_count": 10,
     "metadata": {},
     "output_type": "execute_result"
    }
   ],
   "source": [
    "titanic_age_fare_summary = titanic.groupby(\"sex\")[[\"age\", \"fare\"]].agg([\"mean\", \"median\", \"count\"])\\\n",
    "    .style.background_gradient(cmap=\"Blues\")\n",
    "titanic_age_fare_summary"
   ]
  },
  {
   "cell_type": "markdown",
   "id": "c477a6a6",
   "metadata": {},
   "source": [
    "## Summary Statistics by Passenger Sex\n",
    "\n",
    "This multi-metric aggregation compares key demographic and ticketing information by gender:\n",
    "\n",
    "| Metric            | Female           | Male             |\n",
    "|-------------------|------------------|------------------|\n",
    "| Age (mean)        | 27.92            | 30.73            |\n",
    "| Age (median)      | 27.00            | 29.00            |\n",
    "| Age (count)       | 261              | 453              |\n",
    "| Fare (mean)       | 44.48            | 25.52            |\n",
    "| Fare (median)     | 23.00            | 10.50            |\n",
    "| Fare (count)      | 314              | 577              |\n",
    "\n",
    "### Observations:\n",
    "\n",
    "- **Age Distributions**:\n",
    "  - Female and male passengers had **similar median ages** (~27–29), though males were slightly older on average.\n",
    "  - The slightly higher mean age for males may be influenced by outliers (e.g., older high-fare male passengers).\n",
    "\n",
    "- **Fare Disparities**:\n",
    "  - **Females paid significantly higher fares** on average (~75% more than males).\n",
    "  - The median fares reflect this as well — suggesting the pattern isn’t just driven by outliers, but a general skew toward females being booked into **higher fare classes**.\n",
    "  - This aligns with previous survival analysis where **females were overrepresented in first and second class**, especially among survivors.\n",
    "\n",
    "- **Passenger Counts**:\n",
    "  - More male passengers overall, but more missing values in their fare and age fields (as seen from the difference in counts).\n",
    "\n",
    "### Takeaway:\n",
    "\n",
    "This grouped summary strengthens earlier evidence that **gender correlated strongly with both class and cost of travel** aboard the Titanic. In a modeling context, these features might act as important predictors — but likely also introduce **confounding effects** due to social prioritization (e.g., women more likely to be placed in higher classes and survive)."
   ]
  },
  {
   "cell_type": "code",
   "execution_count": null,
   "id": "d238808e",
   "metadata": {},
   "outputs": [
    {
     "data": {
      "text/plain": [
       "0     -0.251342\n",
       "1     -0.015770\n",
       "2      0.068776\n",
       "3     -0.218434\n",
       "4      0.789041\n",
       "         ...   \n",
       "886   -0.205529\n",
       "887   -1.299306\n",
       "888         NaN\n",
       "889   -0.826424\n",
       "890    0.548953\n",
       "Name: age_zscore, Length: 891, dtype: float64"
      ]
     },
     "execution_count": 13,
     "metadata": {},
     "output_type": "execute_result"
    }
   ],
   "source": [
    "# Group by sex and class, then summarize survival\n",
    "titanic.groupby([\"sex\", \"pclass\"])[\"survived\"].agg([\"mean\", \"count\"])\n",
    "\n",
    "# Transform to normalize age within each group\n",
    "titanic[\"age_zscore\"] = titanic.groupby(\"pclass\")[\"age\"].transform(\n",
    "    lambda x: (x - x.mean()) / x.std() )"
   ]
  }
 ],
 "metadata": {
  "kernelspec": {
   "display_name": "hcmle-env",
   "language": "python",
   "name": "python3"
  },
  "language_info": {
   "codemirror_mode": {
    "name": "ipython",
    "version": 3
   },
   "file_extension": ".py",
   "mimetype": "text/x-python",
   "name": "python",
   "nbconvert_exporter": "python",
   "pygments_lexer": "ipython3",
   "version": "3.11.11"
  }
 },
 "nbformat": 4,
 "nbformat_minor": 5
}
