{
 "cells": [
  {
   "cell_type": "markdown",
   "id": "9d46491e",
   "metadata": {},
   "source": [
    "# Day 2: Data Cleaning & Exploration\n",
    "\n",
    "## Objective\n",
    "Ensure the dataset is fully prepared for modeling. This includes checking and fixing structure, column names, data types, distributions, potential label leakage, and fairness risks.\n",
    "\n",
    "## Key Steps\n",
    "- Load and inspect data\n",
    "- Standardize column names and formats\n",
    "- Assess and correct data types\n",
    "- Confirm completeness and consistency\n",
    "- Review class balance\n",
    "- Flag or drop low-variance and irrelevant features\n",
    "- Add notes on human-centered relevance\n",
    "- Save cleaned dataset"
   ]
  },
  {
   "cell_type": "markdown",
   "id": "677feb09",
   "metadata": {},
   "source": [
    "## Loading and inspecting the dataset"
   ]
  },
  {
   "cell_type": "code",
   "execution_count": null,
   "id": "16492b08",
   "metadata": {},
   "outputs": [],
   "source": [
    "import pandas as pd\n",
    "import numpy as np\n",
    "\n",
    "df = pd.read_excel(\"../data/gallstone.xlsx\")"
   ]
  },
  {
   "cell_type": "code",
   "execution_count": null,
   "id": "d8547723",
   "metadata": {},
   "outputs": [],
   "source": [
    "df.shape"
   ]
  },
  {
   "cell_type": "code",
   "execution_count": null,
   "id": "95bc5c06",
   "metadata": {},
   "outputs": [],
   "source": [
    "df.head()"
   ]
  },
  {
   "cell_type": "code",
   "execution_count": null,
   "id": "a2450d9a",
   "metadata": {},
   "outputs": [],
   "source": [
    "df.info()"
   ]
  },
  {
   "cell_type": "code",
   "execution_count": null,
   "id": "229ab897",
   "metadata": {},
   "outputs": [],
   "source": [
    "df.describe()"
   ]
  },
  {
   "cell_type": "markdown",
   "id": "a9cfbdb2",
   "metadata": {},
   "source": [
    "### Initial Data Snapshot\n",
    "\n",
    "The dataset contains 319 rows and 38 columns. It includes demographic, lab, and bioimpedance measurements. No missing values were found. The target variable (`gallstone_status`) is well balanced: 161 cases, 158 controls."
   ]
  },
  {
   "cell_type": "markdown",
   "id": "0480c257",
   "metadata": {},
   "source": [
    "## Standardizing Column Names\n",
    "\n",
    "We standardized column names to lowercase snake_case for readability and consistency. For example:\n",
    "- `Total Body Water (TBW)` → `total_body_water_tbw`\n",
    "- `C-reactive protein (CRP)` → `crp`"
   ]
  },
  {
   "cell_type": "code",
   "execution_count": null,
   "id": "3f29d778",
   "metadata": {},
   "outputs": [],
   "source": [
    "import re\n",
    "\n",
    "def clean_column_name(col):\n",
    "    col = col.lower()\n",
    "    col = re.sub(r\"[^\\w\\s]\", \"\", col)          # Remove special characters like ()%,$\n",
    "    col = re.sub(r\"\\s+\", \"_\", col)             # Replace spaces/tabs with underscores\n",
    "    col = re.sub(r\"_+\", \"_\", col)              # Collapse multiple underscores\n",
    "    col = col.strip(\"_\")                       # Remove leading/trailing underscores\n",
    "    return col\n",
    "\n",
    "df.columns = [clean_column_name(col) for col in df.columns]"
   ]
  },
  {
   "cell_type": "code",
   "execution_count": null,
   "id": "3a6e827a",
   "metadata": {},
   "outputs": [],
   "source": [
    "rename_map = {\n",
    "    \"coronary_artery_disease_cad\": \"cad\",\n",
    "    \"diabetes_mellitus_dm\": \"diabetes\",\n",
    "    \"height\": \"height_cm\",\n",
    "    \"weight\": \"weight_kg\",\n",
    "    \"body_mass_index_bmi\": \"bmi\",\n",
    "    \"total_body_water_tbw\": \"tbw_kg\",\n",
    "    \"extracellular_water_ecw\": \"ecw_kg\",\n",
    "    \"intracellular_water_icw\": \"icw_kg\",\n",
    "    \"extracellular_fluidtotal_body_water_ecftbw\": \"ecf_tbw_ratio\",\n",
    "    \"total_body_fat_ratio_tbfr\": \"fat_ratio_percent\",\n",
    "    \"lean_mass_lm\": \"lean_mass_percent\",\n",
    "    \"body_protein_content_protein\": \"protein_percent\",\n",
    "    \"visceral_fat_rating_vfr\": \"vfr\",\n",
    "    \"bone_mass_bm\": \"bone_mass_kg\",\n",
    "    \"muscle_mass_mm\": \"muscle_mass_kg\",\n",
    "    \"obesity\": \"obesity_percent\",\n",
    "    \"total_fat_content_tfc\": \"fat_mass_kg\",\n",
    "    \"visceral_fat_area_vfa\": \"visceral_fat_area_cm2\",\n",
    "    \"visceral_muscle_area_vma_kg\": \"visceral_muscle_mass_kg\",\n",
    "    \"hepatic_fat_accumulation_hfa\": \"hepatic_fat\",\n",
    "    \"glucose\": \"glucose_mg_dl\",\n",
    "    \"total_cholesterol_tc\": \"cholesterol_total_mg_dl\",\n",
    "    \"low_density_lipoprotein_ldl\": \"ldl_mg_dl\",\n",
    "    \"high_density_lipoprotein_hdl\": \"hdl_mg_dl\",\n",
    "    \"triglyceride\": \"triglyceride_mg_dl\",\n",
    "    \"aspartat_aminotransferaz_ast\": \"ast_u_l\",\n",
    "    \"alanin_aminotransferaz_alt\": \"alt_u_l\",\n",
    "    \"alkaline_phosphatase_alp\": \"alp_u_l\",\n",
    "    \"creatinine\": \"creatinine_mg_dl\",\n",
    "    \"glomerular_filtration_rate_gfr\": \"gfr_ml_min\",\n",
    "    \"creactive_protein_crp\": \"crp_mg_l\",\n",
    "    \"hemoglobin_hgb\": \"hemoglobin_g_dl\",\n",
    "    \"vitamin_d\": \"vitamin_d_ng_ml\"\n",
    "}\n",
    "\n",
    "df.rename(columns=rename_map, inplace=True)"
   ]
  },
  {
   "cell_type": "code",
   "execution_count": null,
   "id": "71a7f8e9",
   "metadata": {},
   "outputs": [],
   "source": [
    "df.rename(columns={\"gallstone_status\": \"has_gallstones\"}, inplace=True)"
   ]
  },
  {
   "cell_type": "code",
   "execution_count": null,
   "id": "32ed81c4",
   "metadata": {},
   "outputs": [],
   "source": [
    "df.rename(columns={\n",
    "    \"vfr\": \"vfr_score\",\n",
    "    \"ecf_tbw_ratio\": \"ecf_tbw_ratio_index\"\n",
    "}, inplace=True)"
   ]
  },
  {
   "cell_type": "code",
   "execution_count": null,
   "id": "d3b0813d",
   "metadata": {},
   "outputs": [],
   "source": [
    "df.columns.to_list()"
   ]
  },
  {
   "cell_type": "markdown",
   "id": "5d956811",
   "metadata": {},
   "source": [
    "## Handling Missing Values\n",
    "\n",
    "We found missing values."
   ]
  },
  {
   "cell_type": "code",
   "execution_count": null,
   "id": "c4deda2c",
   "metadata": {},
   "outputs": [],
   "source": [
    "missing_summary = df.isnull().sum().sort_values(ascending=False)\n",
    "missing_summary[missing_summary > 0]\n",
    "df.isnull().sum().sum()"
   ]
  },
  {
   "cell_type": "markdown",
   "id": "6bb05175",
   "metadata": {},
   "source": [
    "## Data type correction\n",
    "\n",
    "Several binary clinical indicators (e.g., `diabetes_mellitus_dm`, `hypothyroidism`) were stored as numeric. We cast them to categorical for clarity and to prevent incorrect modeling treatment as continuous features.\n",
    "\n",
    "The following columns were treated as categorical:\n",
    "\n",
    "- `gender`\n",
    "- `comorbidity`\n",
    "- `cad`\n",
    "- `hypothyroidism`\n",
    "- `hyperlipidemia`\n",
    "- `diabetes`\n",
    "- `hepatic_fat`\n",
    "- `has_gallstones`\n",
    "\n",
    "These are discrete features important to clinical understanding."
   ]
  },
  {
   "cell_type": "code",
   "execution_count": null,
   "id": "87bbc445",
   "metadata": {},
   "outputs": [],
   "source": [
    "# Example for known binary or categorical fields\n",
    "categorical_cols = [\n",
    "    \"gender\",\n",
    "    \"comorbidity\",\n",
    "    \"cad\",\n",
    "    \"hypothyroidism\",\n",
    "    \"hyperlipidemia\",\n",
    "    \"diabetes\",\n",
    "    \"hepatic_fat\",\n",
    "    \"has_gallstones\"\n",
    "]\n",
    "\n",
    "for col in categorical_cols:\n",
    "    if col in df.columns:\n",
    "        df[col] = df[col].astype(\"category\")"
   ]
  },
  {
   "cell_type": "code",
   "execution_count": null,
   "id": "ce03aff7",
   "metadata": {},
   "outputs": [],
   "source": [
    "df.dtypes.value_counts()"
   ]
  },
  {
   "cell_type": "markdown",
   "id": "18504a62",
   "metadata": {},
   "source": [
    "## Class balance check\n",
    "\n",
    "We need to verify whether the dataset has a balanced distribution of the target variable (`has_gallstones`). A balanced target avoids biasing the model toward the majority class. Since this is a binary classification task, a roughly 50/50 split is ideal."
   ]
  },
  {
   "cell_type": "code",
   "execution_count": null,
   "id": "f86867f4",
   "metadata": {},
   "outputs": [],
   "source": [
    "# Raw counts\n",
    "df[\"has_gallstones\"].value_counts()"
   ]
  },
  {
   "cell_type": "code",
   "execution_count": null,
   "id": "fe7b629d",
   "metadata": {},
   "outputs": [],
   "source": [
    "# Proportions\n",
    "df[\"has_gallstones\"].value_counts(normalize=True)"
   ]
  },
  {
   "cell_type": "code",
   "execution_count": null,
   "id": "95c05ca2",
   "metadata": {},
   "outputs": [],
   "source": [
    "# Rename for readability\n",
    "df[\"has_gallstones\"] = df[\"has_gallstones\"].cat.rename_categories({0: \"No Gallstones\", 1: \"Gallstones\"})"
   ]
  },
  {
   "cell_type": "code",
   "execution_count": null,
   "id": "07c5f564",
   "metadata": {},
   "outputs": [],
   "source": [
    "# Bar plot (1 output per cell – show plot only)\n",
    "import matplotlib.pyplot as plt\n",
    "\n",
    "df[\"has_gallstones\"].value_counts().plot(kind=\"bar\", color=[\"skyblue\", \"salmon\"])\n",
    "plt.title(\"Class Balance: Gallstone Presence\")\n",
    "plt.ylabel(\"Number of Patients\")\n",
    "plt.xlabel(\"Gallstone Status\")\n",
    "plt.grid(True)\n",
    "plt.tight_layout()\n",
    "plt.show()"
   ]
  },
  {
   "cell_type": "markdown",
   "id": "b3314794",
   "metadata": {},
   "source": [
    "The dataset includes 161 patients with gallstones and 158 without. The distribution is:\n",
    "- Gallstones: 50.5%\n",
    "- No Gallstones: 49.5%\n",
    "\n",
    "This class balance is excellent. It allows us to:\n",
    "- Use standard accuracy and ROC-AUC as reliable evaluation metrics\n",
    "- Avoid applying class weighting or resampling\n",
    "- Expect fair learning behavior from most classification models"
   ]
  },
  {
   "cell_type": "markdown",
   "id": "b5b16e67",
   "metadata": {},
   "source": [
    "## Dropping Constant or Near-Constant Columns\n",
    "\n",
    "We remove columns that contain the same value in nearly all rows. These features add no predictive power and can distort feature selection, particularly for tree-based models.\n",
    "\n",
    "We define near-constant as having the same value in over 99% of rows."
   ]
  },
  {
   "cell_type": "code",
   "execution_count": null,
   "id": "b18d5020",
   "metadata": {},
   "outputs": [],
   "source": [
    "# Threshold: 99% of the same value across all rows\n",
    "threshold = 0.99\n",
    "constant_like_cols = []\n",
    "\n",
    "for col in df.columns:\n",
    "    top_freq = df[col].value_counts(normalize=True).max()\n",
    "    if top_freq >= threshold:\n",
    "        constant_like_cols.append(col)\n",
    "\n",
    "constant_like_cols"
   ]
  },
  {
   "cell_type": "code",
   "execution_count": null,
   "id": "ba2131e4",
   "metadata": {},
   "outputs": [],
   "source": [
    "df.drop(columns=constant_like_cols, inplace=True)"
   ]
  },
  {
   "cell_type": "markdown",
   "id": "1a856af4",
   "metadata": {},
   "source": [
    "No columns were dropped because they were constant or nearly constant in over 99% of the dataset:\n",
    "\n",
    "Removing them:\n",
    "- Improves model performance by eliminating noise\n",
    "- Speeds up training\n",
    "- Prevents misleading feature importance metrics"
   ]
  },
  {
   "cell_type": "markdown",
   "id": "6515aa65",
   "metadata": {},
   "source": [
    "## Checking for Duplicate Rows\n",
    "\n",
    "Duplicate rows in a clinical dataset can result from redundant data entry, exports from merged systems, or preprocessing artifacts. We check for exact duplicates across all columns and remove them if found.\n",
    "\n",
    "Removing duplicates ensures:\n",
    "- Each observation contributes equally to training\n",
    "- Our model doesn’t overfit to repeated patterns"
   ]
  },
  {
   "cell_type": "code",
   "execution_count": null,
   "id": "7a90113c",
   "metadata": {},
   "outputs": [],
   "source": [
    "# Count total duplicate rows\n",
    "duplicate_count = df.duplicated().sum()\n",
    "duplicate_count"
   ]
  },
  {
   "cell_type": "code",
   "execution_count": null,
   "id": "13a33ef4",
   "metadata": {},
   "outputs": [],
   "source": [
    "# Preview the first few duplicates\n",
    "df[df.duplicated()].head()"
   ]
  },
  {
   "cell_type": "code",
   "execution_count": null,
   "id": "951fa06c",
   "metadata": {},
   "outputs": [],
   "source": [
    "print(f\"Original: {df.shape[0] + duplicate_count}, After deduplication: {df.shape[0]}\")"
   ]
  },
  {
   "cell_type": "code",
   "execution_count": null,
   "id": "edc4ea86",
   "metadata": {},
   "outputs": [],
   "source": [
    "df = df.drop_duplicates()"
   ]
  },
  {
   "cell_type": "markdown",
   "id": "46cfb694",
   "metadata": {},
   "source": [
    "We found and removed 0 duplicate rows.\n",
    "\n",
    "Duplicates can occur in clinical studies due to repeated patient evaluations, export errors, or data merges. Their removal improves model generalization by ensuring each patient record is unique."
   ]
  },
  {
   "cell_type": "markdown",
   "id": "b0944072",
   "metadata": {},
   "source": [
    "## Reviewing Numerical Feature Ranges\n",
    "\n",
    "We check the distribution of all continuous variables to ensure:\n",
    "- They lie within clinically plausible bounds\n",
    "- There are no outliers due to entry errors or unit mismatches\n",
    "- The model doesn’t learn from nonsensical or biologically impossible values\n",
    "\n",
    "This step also helps us identify candidates for later transformation (e.g., log-scaling, normalization)."
   ]
  },
  {
   "cell_type": "code",
   "execution_count": null,
   "id": "0fbe02fd",
   "metadata": {},
   "outputs": [],
   "source": [
    "# Identify numeric columns\n",
    "numeric_cols = df.select_dtypes(include=[\"float64\", \"int64\"]).columns\n",
    "\n",
    "# Summarize them\n",
    "df[numeric_cols].describe().T"
   ]
  },
  {
   "cell_type": "code",
   "execution_count": null,
   "id": "be76d870",
   "metadata": {},
   "outputs": [],
   "source": [
    "suspicious_rows = df[\n",
    "    (df[\"vitamin_d_ng_ml\"] < 4) | (df[\"vitamin_d_ng_ml\"] > 100) |\n",
    "    (df[\"glucose_mg_dl\"] < 40) | (df[\"glucose_mg_dl\"] > 400) |\n",
    "    (df[\"bmi\"] < 10) | (df[\"bmi\"] > 70) |\n",
    "    (df[\"lean_mass_percent\"] < 20) | (df[\"lean_mass_percent\"] > 95) |\n",
    "    (df[\"fat_ratio_percent\"] < 5) | (df[\"fat_ratio_percent\"] > 80) |\n",
    "    (df[\"visceral_fat_area_cm2\"] < 0.5) | (df[\"visceral_fat_area_cm2\"] > 45)\n",
    "]"
   ]
  },
  {
   "cell_type": "code",
   "execution_count": null,
   "id": "40371045",
   "metadata": {},
   "outputs": [],
   "source": [
    "print(f\"Number of suspicious rows: {suspicious_rows.shape[0]}\")\n",
    "suspicious_rows.head()"
   ]
  },
  {
   "cell_type": "code",
   "execution_count": null,
   "id": "98e3d998",
   "metadata": {},
   "outputs": [],
   "source": [
    "import numpy as np\n",
    "\n",
    "flagged_columns = []\n",
    "\n",
    "# Define bounds\n",
    "bounds = {\n",
    "    \"vitamin_d_ng_ml\": (4, 100),\n",
    "    \"glucose_mg_dl\": (40, 400),\n",
    "    \"bmi\": (10, 70),\n",
    "    \"lean_mass_percent\": (20, 95),\n",
    "    \"fat_ratio_percent\": (5, 80),\n",
    "    \"visceral_fat_area_cm2\": (0.5, 45)\n",
    "}\n",
    "\n",
    "# Count violations per column\n",
    "for col, (low, high) in bounds.items():\n",
    "    count = ((df[col] < low) | (df[col] > high)).sum()\n",
    "    flagged_columns.append((col, count))\n",
    "\n",
    "flagged_columns = sorted(flagged_columns, key=lambda x: x[1], reverse=True)\n",
    "for col, count in flagged_columns:\n",
    "    print(f\"{col}: {count} flagged rows\")"
   ]
  },
  {
   "cell_type": "code",
   "execution_count": null,
   "id": "c1d0e2c6",
   "metadata": {},
   "outputs": [],
   "source": [
    "# Cap extreme glucose values at 400 mg/dL and flag them to reduce outlier influence while retaining the row.\n",
    "df[\"glucose_outlier_flag\"] = df[\"glucose_mg_dl\"] > 400\n",
    "df.loc[df[\"glucose_outlier_flag\"], \"glucose_mg_dl\"] = 400"
   ]
  },
  {
   "cell_type": "markdown",
   "id": "1a3546b2",
   "metadata": {},
   "source": [
    "We examined continuous numeric features for biologically implausible values, using conservative yet clinically-informed thresholds. This process helps ensure our dataset is free from data entry errors or measurement artifacts that could distort model behavior.\n",
    "\n",
    "### Threshold Summary\n",
    "\n",
    "| Feature                   | Range Checked       | Justification |\n",
    "|---------------------------|---------------------|----------------|\n",
    "| `vitamin_d_ng_ml`         | <4 or >150          | <4 = severe deficiency, >150 = toxic/suspicious |\n",
    "| `glucose_mg_dl`           | <40 or >400         | <40 = hypoglycemia, >400 = implausible hyperglycemia |\n",
    "| `bmi`                     | <10 or >70          | Reflects extreme underweight or error |\n",
    "| `lean_mass_percent`       | <20 or >95          | Normal physiological range |\n",
    "| `fat_ratio_percent`       | <5 or >80           | Low and high extremes for body fat % |\n",
    "| `visceral_fat_area_cm2`   | <0.5 or >45         | Adjusted based on observed distribution; likely device-scaled |\n",
    "\n",
    "### Results\n",
    "\n",
    "- **Two rows** were flagged across all checks:\n",
    "  - One with `vitamin_d_ng_ml = 3.5`: retained as a valid case of extreme deficiency\n",
    "  - One with `glucose_mg_dl = 575`: value was capped at 400 and flagged as an outlier\n",
    "\n",
    "- `visceral_fat_area_cm2` initially triggered 120 flags using generic cm²-based thresholds. After reviewing the observed range (0.9–41), we revised bounds to <0.5 and >45. This resolved all false positives while preserving important physiologic variance.\n",
    "\n",
    "### Conclusion\n",
    "\n",
    "The dataset now contains only values within clinically realistic ranges. We retained edge-case records that reflect meaningful physiological extremes, and capped one implausible glucose value while preserving the associated row. No rows were dropped."
   ]
  },
  {
   "cell_type": "markdown",
   "id": "623587aa",
   "metadata": {},
   "source": [
    "## Renaming Key Binary and Class Columns for Clarity\n",
    "\n",
    "To enhance readability, consistency, and ease of reference throughout modeling and interpretation, we renamed several categorical and binary variables using short, lowercase, and descriptive identifiers.\n",
    "\n",
    "This also aligns with clinical naming conventions and keeps features concise when used in plots, feature importances, and model documentation (e.g., model cards).\n",
    "\n",
    "Below is a summary of renamed columns."
   ]
  },
  {
   "cell_type": "markdown",
   "id": "1ce2ac12",
   "metadata": {},
   "source": [
    "| Original Column                        | New Name                  | Reason for Rename |\n",
    "|----------------------------------------|----------------------------|--------------------|\n",
    "| `gallstone_status`                     | `has_gallstones`           | Target variable; renamed to reflect binary yes/no meaning clearly |\n",
    "| `coronary_artery_disease_cad`          | `cad`                      | Shortens repetitive phrase, keeps common acronym |\n",
    "| `diabetes_mellitus_dm`                 | `diabetes`                | Simplifies medical term, avoids acronym stacking |\n",
    "| `hepatic_fat_accumulation_hfa`         | `hepatic_fat`             | Matches domain term: hepatic fat (liver fat) |\n",
    "| `visceral_muscle_area_vma_kg`          | `visceral_muscle_mass_kg` | Clarifies value represents mass, not area |\n",
    "| `visceral_fat_area_vfa`                | `visceral_fat_area_cm2`   | Clarifies unit and context |\n",
    "| `total_fat_content_tfc`                | `fat_mass_kg`             | Defines quantity explicitly |\n",
    "| `total_body_fat_ratio_tbfr`            | `fat_ratio_percent`       | Adds unit for clarity |\n",
    "| `lean_mass_lm`                         | `lean_mass_percent`       | Adds unit and removes abbreviation |\n",
    "| `body_protein_content_protein`         | `protein_percent`         | Adds unit, simplifies |\n",
    "| `muscle_mass_mm`                       | `muscle_mass_kg`          | Defines unit and removes abbreviation |\n",
    "| `bone_mass_bm`                         | `bone_mass_kg`            | Standardizes naming for consistency |"
   ]
  },
  {
   "cell_type": "markdown",
   "id": "b71b1180",
   "metadata": {},
   "source": [
    "## Human-Centered Relevance Notes\n",
    "\n",
    "This dataset was collected in a clinical setting using non-invasive tools such as bioimpedance analysis and routine laboratory blood tests. Our preprocessing and cleaning steps were informed by real-world usability and interpretability concerns.\n",
    "\n",
    "### 1. Features are Non-Invasive and Accessible\n",
    "- All inputs are derived from standard outpatient data (demographics, labs, body composition).\n",
    "- No imaging, genomics, or protected identifiers were included.\n",
    "- This ensures the model can be used in primary care or telehealth environments without requiring specialized equipment.\n",
    "\n",
    "### 2. Features Align with Real Clinical Judgment\n",
    "- Key predictors such as `vitamin_d_ng_ml`, `bmi`, `fat_ratio_percent`, and `hepatic_fat` reflect known risk factors for gallstone disease.\n",
    "- Clinicians can interpret these features without needing ML expertise, which increases model explainability and trust.\n",
    "\n",
    "### 3. Data Types Support Interpretability\n",
    "- Categorical variables like `gender`, `comorbidity`, and `cad` were explicitly cast as category types for modeling clarity.\n",
    "- Continuous variables are standardized and unit-annotated in column names (e.g., `_mg_dl`, `_kg`, `_percent`), making it easier to understand scale and risk implications.\n",
    "\n",
    "### 4. No Target Leakage Detected\n",
    "- We reviewed all features and confirmed that none reveal the outcome directly.\n",
    "- The target variable `has_gallstones` is not derived from any included feature (e.g., no imaging reports or diagnostic codes were used as predictors).\n",
    "\n",
    "### 5. Balanced Target Distribution\n",
    "- The dataset is nearly evenly split between positive and negative cases.\n",
    "- This supports fair and stable model training without synthetic sampling or reweighting.\n",
    "\n",
    "### 6. Outliers Handled with Care\n",
    "- Rare values were flagged, visually inspected, and resolved with domain-informed decisions (e.g., flagging and capping glucose at 400 mg/dL).\n",
    "- This protects against biased model behavior without erasing physiologically meaningful cases.\n",
    "\n",
    "### 7. Feature Names Are Human-Readable\n",
    "- Long or machine-exported feature names were renamed for clarity (e.g., `diabetes_mellitus_dm` → `diabetes`, `gallstone_status` → `has_gallstones`).\n",
    "- Units were added where appropriate to support safe interpretation (e.g., `glucose_mg_dl`).\n",
    "\n",
    "Together, these actions support the development of a model that is not only accurate, but also responsible, understandable, and ready for real-world use."
   ]
  },
  {
   "cell_type": "markdown",
   "id": "f5b22795",
   "metadata": {},
   "source": [
    "## Saving Cleaned Dataset\n",
    "\n",
    "After completing column standardization, data type correction, outlier handling, and human-centered review, we save the cleaned dataset to a structured location for use in downstream tasks such as exploratory data analysis (EDA), modeling, and evaluation.\n",
    "\n",
    "This ensures:\n",
    "- **Reproducibility**: All preprocessing is preserved in version-controlled form\n",
    "- **Efficiency**: Clean data is loaded directly in later notebooks, avoiding repeated processing\n",
    "- **Portability**: The file can be shared with collaborators or passed to pipelines without rerunning upstream cells\n",
    "\n",
    "We save the dataset in CSV format using UTF-8 encoding, without an index column, and store it in the `data/` directory under the project root."
   ]
  },
  {
   "cell_type": "code",
   "execution_count": null,
   "id": "79f18387",
   "metadata": {},
   "outputs": [],
   "source": [
    "df.to_csv(\"../data/cleaned.csv\", index=False)"
   ]
  },
  {
   "cell_type": "code",
   "execution_count": null,
   "id": "cf789e9f",
   "metadata": {},
   "outputs": [],
   "source": [
    "# Confirm successful save\n",
    "pd.read_csv(\"../data/cleaned.csv\").shape"
   ]
  },
  {
   "cell_type": "code",
   "execution_count": null,
   "id": "85310219",
   "metadata": {},
   "outputs": [],
   "source": [
    "df.dtypes.to_csv(\"../data/cleaned_dtypes.csv\")\n",
    "df.describe().T.to_csv(\"../data/cleaned_summary.csv\")"
   ]
  },
  {
   "cell_type": "markdown",
   "id": "6c8af51c",
   "metadata": {},
   "source": [
    "The cleaned dataset is now saved as `cleaned.csv` and ready for use in:\n",
    "\n",
    "- Day 3: Exploratory Data Analysis (EDA)\n",
    "- Day 4: Baseline and advanced model training\n",
    "- Day 6–7: Model interpretation and reporting\n",
    "\n",
    "The dataset includes:\n",
    "- 319 patients\n",
    "- 40 features (32 numeric, 8 categorical)\n",
    "- 50.5% gallstone-positive cases\n",
    "- Key features include `bmi`, `vitamin_d_ng_ml`, `fat_ratio_percent`, and `hepatic_fat`"
   ]
  },
  {
   "cell_type": "markdown",
   "id": "ddd57646",
   "metadata": {},
   "source": [
    "## PAIR: Mental Models – Key Takeaways\n",
    "\n",
    "- Clinicians already have expectations (mental models) about how diagnostic tools behave—for example, they expect higher vitamin D or fat levels to correlate with certain conditions.\n",
    "- When a model’s outputs and explanations align with these expectations, it feels more trustworthy and intuitive to use.\n",
    "- In healthcare, mismatches between user intuition and system behavior can erode confidence or lead to dangerous misinterpretation.\n",
    "- Therefore, we aim to design models where both **inputs** (e.g., interpretable lab values) and **outputs** (e.g., binary risk predictions) reinforce the clinician’s understanding and workflow—not challenge it."
   ]
  }
 ],
 "metadata": {
  "kernelspec": {
   "display_name": "hcmle-env",
   "language": "python",
   "name": "python3"
  },
  "language_info": {
   "codemirror_mode": {
    "name": "ipython",
    "version": 3
   },
   "file_extension": ".py",
   "mimetype": "text/x-python",
   "name": "python",
   "nbconvert_exporter": "python",
   "pygments_lexer": "ipython3",
   "version": "3.11.11"
  }
 },
 "nbformat": 4,
 "nbformat_minor": 5
}
