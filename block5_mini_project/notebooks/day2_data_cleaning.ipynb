{
 "cells": [
  {
   "cell_type": "markdown",
   "id": "9d46491e",
   "metadata": {},
   "source": [
    "# Day 2: Data Cleaning & Exploration\n",
    "\n",
    "## Objective\n",
    "Ensure the dataset is fully prepared for modeling. This includes checking and fixing structure, column names, data types, distributions, potential label leakage, and fairness risks.\n",
    "\n",
    "## Key Steps\n",
    "- Load and inspect data\n",
    "- Standardize column names and formats\n",
    "- Assess and correct data types\n",
    "- Confirm completeness and consistency\n",
    "- Review class balance\n",
    "- Flag or drop low-variance and irrelevant features\n",
    "- Add notes on human-centered relevance\n",
    "- Save cleaned dataset"
   ]
  },
  {
   "cell_type": "markdown",
   "id": "677feb09",
   "metadata": {},
   "source": [
    "## Loading and inspecting the dataset"
   ]
  },
  {
   "cell_type": "code",
   "execution_count": 130,
   "id": "16492b08",
   "metadata": {},
   "outputs": [],
   "source": [
    "import pandas as pd\n",
    "import numpy as np\n",
    "\n",
    "df = pd.read_excel(\"../data/gallstone.xlsx\")"
   ]
  },
  {
   "cell_type": "code",
   "execution_count": 131,
   "id": "d8547723",
   "metadata": {},
   "outputs": [
    {
     "data": {
      "text/plain": [
       "(319, 39)"
      ]
     },
     "execution_count": 131,
     "metadata": {},
     "output_type": "execute_result"
    }
   ],
   "source": [
    "df.shape"
   ]
  },
  {
   "cell_type": "code",
   "execution_count": 132,
   "id": "95bc5c06",
   "metadata": {},
   "outputs": [
    {
     "data": {
      "application/vnd.microsoft.datawrangler.viewer.v0+json": {
       "columns": [
        {
         "name": "index",
         "rawType": "int64",
         "type": "integer"
        },
        {
         "name": "Gallstone Status",
         "rawType": "int64",
         "type": "integer"
        },
        {
         "name": "Age",
         "rawType": "int64",
         "type": "integer"
        },
        {
         "name": "Gender",
         "rawType": "int64",
         "type": "integer"
        },
        {
         "name": "Comorbidity",
         "rawType": "int64",
         "type": "integer"
        },
        {
         "name": "Coronary Artery Disease (CAD)",
         "rawType": "int64",
         "type": "integer"
        },
        {
         "name": "Hypothyroidism",
         "rawType": "int64",
         "type": "integer"
        },
        {
         "name": "Hyperlipidemia",
         "rawType": "int64",
         "type": "integer"
        },
        {
         "name": "Diabetes Mellitus (DM)",
         "rawType": "int64",
         "type": "integer"
        },
        {
         "name": "Height",
         "rawType": "int64",
         "type": "integer"
        },
        {
         "name": "Weight",
         "rawType": "float64",
         "type": "float"
        },
        {
         "name": "Body Mass Index (BMI)",
         "rawType": "float64",
         "type": "float"
        },
        {
         "name": "Total Body Water (TBW)",
         "rawType": "float64",
         "type": "float"
        },
        {
         "name": "Extracellular Water (ECW)",
         "rawType": "float64",
         "type": "float"
        },
        {
         "name": "Intracellular Water (ICW)",
         "rawType": "float64",
         "type": "float"
        },
        {
         "name": "Extracellular Fluid/Total Body Water (ECF/TBW)",
         "rawType": "float64",
         "type": "float"
        },
        {
         "name": "Total Body Fat Ratio (TBFR) (%)",
         "rawType": "float64",
         "type": "float"
        },
        {
         "name": "Lean Mass (LM) (%)",
         "rawType": "float64",
         "type": "float"
        },
        {
         "name": "Body Protein Content (Protein) (%)",
         "rawType": "float64",
         "type": "float"
        },
        {
         "name": "Visceral Fat Rating (VFR)",
         "rawType": "int64",
         "type": "integer"
        },
        {
         "name": "Bone Mass (BM)",
         "rawType": "float64",
         "type": "float"
        },
        {
         "name": "Muscle Mass (MM)",
         "rawType": "float64",
         "type": "float"
        },
        {
         "name": "Obesity (%)",
         "rawType": "float64",
         "type": "float"
        },
        {
         "name": "Total Fat Content (TFC)",
         "rawType": "float64",
         "type": "float"
        },
        {
         "name": "Visceral Fat Area (VFA)",
         "rawType": "float64",
         "type": "float"
        },
        {
         "name": "Visceral Muscle Area (VMA) (Kg)",
         "rawType": "float64",
         "type": "float"
        },
        {
         "name": "Hepatic Fat Accumulation (HFA)",
         "rawType": "int64",
         "type": "integer"
        },
        {
         "name": "Glucose",
         "rawType": "float64",
         "type": "float"
        },
        {
         "name": "Total Cholesterol (TC)",
         "rawType": "float64",
         "type": "float"
        },
        {
         "name": "Low Density Lipoprotein (LDL)",
         "rawType": "float64",
         "type": "float"
        },
        {
         "name": "High Density Lipoprotein (HDL)",
         "rawType": "float64",
         "type": "float"
        },
        {
         "name": "Triglyceride",
         "rawType": "float64",
         "type": "float"
        },
        {
         "name": "Aspartat Aminotransferaz (AST)",
         "rawType": "float64",
         "type": "float"
        },
        {
         "name": "Alanin Aminotransferaz (ALT)",
         "rawType": "float64",
         "type": "float"
        },
        {
         "name": "Alkaline Phosphatase (ALP)",
         "rawType": "float64",
         "type": "float"
        },
        {
         "name": "Creatinine",
         "rawType": "float64",
         "type": "float"
        },
        {
         "name": "Glomerular Filtration Rate (GFR)",
         "rawType": "float64",
         "type": "float"
        },
        {
         "name": "C-Reactive Protein (CRP)",
         "rawType": "float64",
         "type": "float"
        },
        {
         "name": "Hemoglobin (HGB)",
         "rawType": "float64",
         "type": "float"
        },
        {
         "name": "Vitamin D",
         "rawType": "float64",
         "type": "float"
        }
       ],
       "ref": "3fe119a6-36cf-4d5c-96f1-130eb08a805b",
       "rows": [
        [
         "0",
         "0",
         "50",
         "0",
         "0",
         "0",
         "0",
         "0",
         "0",
         "185",
         "92.8",
         "27.1",
         "52.9",
         "21.2",
         "31.7",
         "40.0",
         "19.2",
         "80.84",
         "18.88",
         "9",
         "3.7",
         "71.4",
         "23.4",
         "17.8",
         "10.6",
         "39.7",
         "0",
         "102.0",
         "250.0",
         "175.0",
         "40.0",
         "134.0",
         "20.0",
         "22.0",
         "87.0",
         "0.82",
         "112.47",
         "0.0",
         "16.0",
         "33.0"
        ],
        [
         "1",
         "0",
         "47",
         "0",
         "1",
         "0",
         "0",
         "0",
         "0",
         "176",
         "94.5",
         "30.5",
         "43.1",
         "19.5",
         "23.6",
         "45.0",
         "32.8",
         "67.2",
         "16.68",
         "15",
         "3.2",
         "60.3",
         "38.8",
         "31.0",
         "18.4",
         "32.7",
         "0",
         "94.0",
         "172.0",
         "108.0",
         "43.0",
         "103.0",
         "14.0",
         "13.0",
         "46.0",
         "0.87",
         "107.1",
         "0.0",
         "14.4",
         "25.0"
        ],
        [
         "2",
         "0",
         "61",
         "0",
         "0",
         "0",
         "0",
         "0",
         "0",
         "171",
         "91.1",
         "31.2",
         "47.2",
         "20.1",
         "27.1",
         "43.0",
         "27.3",
         "72.67",
         "16.35",
         "15",
         "3.3",
         "62.9",
         "41.7",
         "24.9",
         "16.2",
         "34.0",
         "0",
         "103.0",
         "179.0",
         "124.0",
         "43.0",
         "69.0",
         "18.0",
         "14.0",
         "66.0",
         "1.25",
         "65.51",
         "0.0",
         "16.2",
         "30.2"
        ],
        [
         "3",
         "0",
         "41",
         "0",
         "0",
         "0",
         "0",
         "0",
         "0",
         "168",
         "67.7",
         "24.0",
         "41.4",
         "17.0",
         "24.4",
         "41.0",
         "15.8",
         "84.19",
         "16.9",
         "6",
         "2.9",
         "54.1",
         "9.0",
         "10.7",
         "6.5",
         "29.2",
         "1",
         "69.0",
         "173.0",
         "73.0",
         "59.0",
         "53.0",
         "20.0",
         "12.0",
         "34.0",
         "1.02",
         "94.1",
         "0.0",
         "15.4",
         "35.4"
        ],
        [
         "4",
         "0",
         "42",
         "0",
         "0",
         "0",
         "0",
         "0",
         "0",
         "178",
         "89.6",
         "28.3",
         "51.4",
         "20.0",
         "31.4",
         "39.0",
         "20.0",
         "80.02",
         "16.81",
         "8",
         "3.5",
         "68.2",
         "28.6",
         "17.9",
         "10.4",
         "37.4",
         "2",
         "109.0",
         "205.0",
         "154.0",
         "30.0",
         "326.0",
         "27.0",
         "54.0",
         "71.0",
         "0.82",
         "112.47",
         "0.0",
         "16.8",
         "40.6"
        ]
       ],
       "shape": {
        "columns": 39,
        "rows": 5
       }
      },
      "text/html": [
       "<div>\n",
       "<style scoped>\n",
       "    .dataframe tbody tr th:only-of-type {\n",
       "        vertical-align: middle;\n",
       "    }\n",
       "\n",
       "    .dataframe tbody tr th {\n",
       "        vertical-align: top;\n",
       "    }\n",
       "\n",
       "    .dataframe thead th {\n",
       "        text-align: right;\n",
       "    }\n",
       "</style>\n",
       "<table border=\"1\" class=\"dataframe\">\n",
       "  <thead>\n",
       "    <tr style=\"text-align: right;\">\n",
       "      <th></th>\n",
       "      <th>Gallstone Status</th>\n",
       "      <th>Age</th>\n",
       "      <th>Gender</th>\n",
       "      <th>Comorbidity</th>\n",
       "      <th>Coronary Artery Disease (CAD)</th>\n",
       "      <th>Hypothyroidism</th>\n",
       "      <th>Hyperlipidemia</th>\n",
       "      <th>Diabetes Mellitus (DM)</th>\n",
       "      <th>Height</th>\n",
       "      <th>Weight</th>\n",
       "      <th>...</th>\n",
       "      <th>High Density Lipoprotein (HDL)</th>\n",
       "      <th>Triglyceride</th>\n",
       "      <th>Aspartat Aminotransferaz (AST)</th>\n",
       "      <th>Alanin Aminotransferaz (ALT)</th>\n",
       "      <th>Alkaline Phosphatase (ALP)</th>\n",
       "      <th>Creatinine</th>\n",
       "      <th>Glomerular Filtration Rate (GFR)</th>\n",
       "      <th>C-Reactive Protein (CRP)</th>\n",
       "      <th>Hemoglobin (HGB)</th>\n",
       "      <th>Vitamin D</th>\n",
       "    </tr>\n",
       "  </thead>\n",
       "  <tbody>\n",
       "    <tr>\n",
       "      <th>0</th>\n",
       "      <td>0</td>\n",
       "      <td>50</td>\n",
       "      <td>0</td>\n",
       "      <td>0</td>\n",
       "      <td>0</td>\n",
       "      <td>0</td>\n",
       "      <td>0</td>\n",
       "      <td>0</td>\n",
       "      <td>185</td>\n",
       "      <td>92.8</td>\n",
       "      <td>...</td>\n",
       "      <td>40.0</td>\n",
       "      <td>134.0</td>\n",
       "      <td>20.0</td>\n",
       "      <td>22.0</td>\n",
       "      <td>87.0</td>\n",
       "      <td>0.82</td>\n",
       "      <td>112.47</td>\n",
       "      <td>0.0</td>\n",
       "      <td>16.0</td>\n",
       "      <td>33.0</td>\n",
       "    </tr>\n",
       "    <tr>\n",
       "      <th>1</th>\n",
       "      <td>0</td>\n",
       "      <td>47</td>\n",
       "      <td>0</td>\n",
       "      <td>1</td>\n",
       "      <td>0</td>\n",
       "      <td>0</td>\n",
       "      <td>0</td>\n",
       "      <td>0</td>\n",
       "      <td>176</td>\n",
       "      <td>94.5</td>\n",
       "      <td>...</td>\n",
       "      <td>43.0</td>\n",
       "      <td>103.0</td>\n",
       "      <td>14.0</td>\n",
       "      <td>13.0</td>\n",
       "      <td>46.0</td>\n",
       "      <td>0.87</td>\n",
       "      <td>107.10</td>\n",
       "      <td>0.0</td>\n",
       "      <td>14.4</td>\n",
       "      <td>25.0</td>\n",
       "    </tr>\n",
       "    <tr>\n",
       "      <th>2</th>\n",
       "      <td>0</td>\n",
       "      <td>61</td>\n",
       "      <td>0</td>\n",
       "      <td>0</td>\n",
       "      <td>0</td>\n",
       "      <td>0</td>\n",
       "      <td>0</td>\n",
       "      <td>0</td>\n",
       "      <td>171</td>\n",
       "      <td>91.1</td>\n",
       "      <td>...</td>\n",
       "      <td>43.0</td>\n",
       "      <td>69.0</td>\n",
       "      <td>18.0</td>\n",
       "      <td>14.0</td>\n",
       "      <td>66.0</td>\n",
       "      <td>1.25</td>\n",
       "      <td>65.51</td>\n",
       "      <td>0.0</td>\n",
       "      <td>16.2</td>\n",
       "      <td>30.2</td>\n",
       "    </tr>\n",
       "    <tr>\n",
       "      <th>3</th>\n",
       "      <td>0</td>\n",
       "      <td>41</td>\n",
       "      <td>0</td>\n",
       "      <td>0</td>\n",
       "      <td>0</td>\n",
       "      <td>0</td>\n",
       "      <td>0</td>\n",
       "      <td>0</td>\n",
       "      <td>168</td>\n",
       "      <td>67.7</td>\n",
       "      <td>...</td>\n",
       "      <td>59.0</td>\n",
       "      <td>53.0</td>\n",
       "      <td>20.0</td>\n",
       "      <td>12.0</td>\n",
       "      <td>34.0</td>\n",
       "      <td>1.02</td>\n",
       "      <td>94.10</td>\n",
       "      <td>0.0</td>\n",
       "      <td>15.4</td>\n",
       "      <td>35.4</td>\n",
       "    </tr>\n",
       "    <tr>\n",
       "      <th>4</th>\n",
       "      <td>0</td>\n",
       "      <td>42</td>\n",
       "      <td>0</td>\n",
       "      <td>0</td>\n",
       "      <td>0</td>\n",
       "      <td>0</td>\n",
       "      <td>0</td>\n",
       "      <td>0</td>\n",
       "      <td>178</td>\n",
       "      <td>89.6</td>\n",
       "      <td>...</td>\n",
       "      <td>30.0</td>\n",
       "      <td>326.0</td>\n",
       "      <td>27.0</td>\n",
       "      <td>54.0</td>\n",
       "      <td>71.0</td>\n",
       "      <td>0.82</td>\n",
       "      <td>112.47</td>\n",
       "      <td>0.0</td>\n",
       "      <td>16.8</td>\n",
       "      <td>40.6</td>\n",
       "    </tr>\n",
       "  </tbody>\n",
       "</table>\n",
       "<p>5 rows × 39 columns</p>\n",
       "</div>"
      ],
      "text/plain": [
       "   Gallstone Status  Age  Gender  Comorbidity  Coronary Artery Disease (CAD)  \\\n",
       "0                 0   50       0            0                              0   \n",
       "1                 0   47       0            1                              0   \n",
       "2                 0   61       0            0                              0   \n",
       "3                 0   41       0            0                              0   \n",
       "4                 0   42       0            0                              0   \n",
       "\n",
       "   Hypothyroidism  Hyperlipidemia  Diabetes Mellitus (DM)  Height  Weight  \\\n",
       "0               0               0                       0     185    92.8   \n",
       "1               0               0                       0     176    94.5   \n",
       "2               0               0                       0     171    91.1   \n",
       "3               0               0                       0     168    67.7   \n",
       "4               0               0                       0     178    89.6   \n",
       "\n",
       "   ...  High Density Lipoprotein (HDL)  Triglyceride  \\\n",
       "0  ...                            40.0         134.0   \n",
       "1  ...                            43.0         103.0   \n",
       "2  ...                            43.0          69.0   \n",
       "3  ...                            59.0          53.0   \n",
       "4  ...                            30.0         326.0   \n",
       "\n",
       "   Aspartat Aminotransferaz (AST)  Alanin Aminotransferaz (ALT)  \\\n",
       "0                            20.0                          22.0   \n",
       "1                            14.0                          13.0   \n",
       "2                            18.0                          14.0   \n",
       "3                            20.0                          12.0   \n",
       "4                            27.0                          54.0   \n",
       "\n",
       "   Alkaline Phosphatase (ALP)  Creatinine  Glomerular Filtration Rate (GFR)  \\\n",
       "0                        87.0        0.82                            112.47   \n",
       "1                        46.0        0.87                            107.10   \n",
       "2                        66.0        1.25                             65.51   \n",
       "3                        34.0        1.02                             94.10   \n",
       "4                        71.0        0.82                            112.47   \n",
       "\n",
       "   C-Reactive Protein (CRP)  Hemoglobin (HGB)  Vitamin D  \n",
       "0                       0.0              16.0       33.0  \n",
       "1                       0.0              14.4       25.0  \n",
       "2                       0.0              16.2       30.2  \n",
       "3                       0.0              15.4       35.4  \n",
       "4                       0.0              16.8       40.6  \n",
       "\n",
       "[5 rows x 39 columns]"
      ]
     },
     "execution_count": 132,
     "metadata": {},
     "output_type": "execute_result"
    }
   ],
   "source": [
    "df.head()"
   ]
  },
  {
   "cell_type": "code",
   "execution_count": 133,
   "id": "a2450d9a",
   "metadata": {},
   "outputs": [
    {
     "name": "stdout",
     "output_type": "stream",
     "text": [
      "<class 'pandas.core.frame.DataFrame'>\n",
      "RangeIndex: 319 entries, 0 to 318\n",
      "Data columns (total 39 columns):\n",
      " #   Column                                          Non-Null Count  Dtype  \n",
      "---  ------                                          --------------  -----  \n",
      " 0   Gallstone Status                                319 non-null    int64  \n",
      " 1   Age                                             319 non-null    int64  \n",
      " 2   Gender                                          319 non-null    int64  \n",
      " 3   Comorbidity                                     319 non-null    int64  \n",
      " 4   Coronary Artery Disease (CAD)                   319 non-null    int64  \n",
      " 5   Hypothyroidism                                  319 non-null    int64  \n",
      " 6   Hyperlipidemia                                  319 non-null    int64  \n",
      " 7   Diabetes Mellitus (DM)                          319 non-null    int64  \n",
      " 8   Height                                          319 non-null    int64  \n",
      " 9   Weight                                          319 non-null    float64\n",
      " 10  Body Mass Index (BMI)                           319 non-null    float64\n",
      " 11  Total Body Water (TBW)                          319 non-null    float64\n",
      " 12  Extracellular Water (ECW)                       319 non-null    float64\n",
      " 13  Intracellular Water (ICW)                       319 non-null    float64\n",
      " 14  Extracellular Fluid/Total Body Water (ECF/TBW)  319 non-null    float64\n",
      " 15  Total Body Fat Ratio (TBFR) (%)                 319 non-null    float64\n",
      " 16  Lean Mass (LM) (%)                              319 non-null    float64\n",
      " 17  Body Protein Content (Protein) (%)              319 non-null    float64\n",
      " 18  Visceral Fat Rating (VFR)                       319 non-null    int64  \n",
      " 19  Bone Mass (BM)                                  319 non-null    float64\n",
      " 20  Muscle Mass (MM)                                319 non-null    float64\n",
      " 21  Obesity (%)                                     319 non-null    float64\n",
      " 22  Total Fat Content (TFC)                         319 non-null    float64\n",
      " 23  Visceral Fat Area (VFA)                         319 non-null    float64\n",
      " 24  Visceral Muscle Area (VMA) (Kg)                 319 non-null    float64\n",
      " 25  Hepatic Fat Accumulation (HFA)                  319 non-null    int64  \n",
      " 26  Glucose                                         319 non-null    float64\n",
      " 27  Total Cholesterol (TC)                          319 non-null    float64\n",
      " 28  Low Density Lipoprotein (LDL)                   319 non-null    float64\n",
      " 29  High Density Lipoprotein (HDL)                  319 non-null    float64\n",
      " 30  Triglyceride                                    319 non-null    float64\n",
      " 31  Aspartat Aminotransferaz (AST)                  319 non-null    float64\n",
      " 32  Alanin Aminotransferaz (ALT)                    319 non-null    float64\n",
      " 33  Alkaline Phosphatase (ALP)                      319 non-null    float64\n",
      " 34  Creatinine                                      319 non-null    float64\n",
      " 35  Glomerular Filtration Rate (GFR)                319 non-null    float64\n",
      " 36  C-Reactive Protein (CRP)                        319 non-null    float64\n",
      " 37  Hemoglobin (HGB)                                319 non-null    float64\n",
      " 38  Vitamin D                                       319 non-null    float64\n",
      "dtypes: float64(28), int64(11)\n",
      "memory usage: 97.3 KB\n"
     ]
    }
   ],
   "source": [
    "df.info()"
   ]
  },
  {
   "cell_type": "code",
   "execution_count": 134,
   "id": "229ab897",
   "metadata": {},
   "outputs": [
    {
     "data": {
      "application/vnd.microsoft.datawrangler.viewer.v0+json": {
       "columns": [
        {
         "name": "index",
         "rawType": "object",
         "type": "string"
        },
        {
         "name": "Gallstone Status",
         "rawType": "float64",
         "type": "float"
        },
        {
         "name": "Age",
         "rawType": "float64",
         "type": "float"
        },
        {
         "name": "Gender",
         "rawType": "float64",
         "type": "float"
        },
        {
         "name": "Comorbidity",
         "rawType": "float64",
         "type": "float"
        },
        {
         "name": "Coronary Artery Disease (CAD)",
         "rawType": "float64",
         "type": "float"
        },
        {
         "name": "Hypothyroidism",
         "rawType": "float64",
         "type": "float"
        },
        {
         "name": "Hyperlipidemia",
         "rawType": "float64",
         "type": "float"
        },
        {
         "name": "Diabetes Mellitus (DM)",
         "rawType": "float64",
         "type": "float"
        },
        {
         "name": "Height",
         "rawType": "float64",
         "type": "float"
        },
        {
         "name": "Weight",
         "rawType": "float64",
         "type": "float"
        },
        {
         "name": "Body Mass Index (BMI)",
         "rawType": "float64",
         "type": "float"
        },
        {
         "name": "Total Body Water (TBW)",
         "rawType": "float64",
         "type": "float"
        },
        {
         "name": "Extracellular Water (ECW)",
         "rawType": "float64",
         "type": "float"
        },
        {
         "name": "Intracellular Water (ICW)",
         "rawType": "float64",
         "type": "float"
        },
        {
         "name": "Extracellular Fluid/Total Body Water (ECF/TBW)",
         "rawType": "float64",
         "type": "float"
        },
        {
         "name": "Total Body Fat Ratio (TBFR) (%)",
         "rawType": "float64",
         "type": "float"
        },
        {
         "name": "Lean Mass (LM) (%)",
         "rawType": "float64",
         "type": "float"
        },
        {
         "name": "Body Protein Content (Protein) (%)",
         "rawType": "float64",
         "type": "float"
        },
        {
         "name": "Visceral Fat Rating (VFR)",
         "rawType": "float64",
         "type": "float"
        },
        {
         "name": "Bone Mass (BM)",
         "rawType": "float64",
         "type": "float"
        },
        {
         "name": "Muscle Mass (MM)",
         "rawType": "float64",
         "type": "float"
        },
        {
         "name": "Obesity (%)",
         "rawType": "float64",
         "type": "float"
        },
        {
         "name": "Total Fat Content (TFC)",
         "rawType": "float64",
         "type": "float"
        },
        {
         "name": "Visceral Fat Area (VFA)",
         "rawType": "float64",
         "type": "float"
        },
        {
         "name": "Visceral Muscle Area (VMA) (Kg)",
         "rawType": "float64",
         "type": "float"
        },
        {
         "name": "Hepatic Fat Accumulation (HFA)",
         "rawType": "float64",
         "type": "float"
        },
        {
         "name": "Glucose",
         "rawType": "float64",
         "type": "float"
        },
        {
         "name": "Total Cholesterol (TC)",
         "rawType": "float64",
         "type": "float"
        },
        {
         "name": "Low Density Lipoprotein (LDL)",
         "rawType": "float64",
         "type": "float"
        },
        {
         "name": "High Density Lipoprotein (HDL)",
         "rawType": "float64",
         "type": "float"
        },
        {
         "name": "Triglyceride",
         "rawType": "float64",
         "type": "float"
        },
        {
         "name": "Aspartat Aminotransferaz (AST)",
         "rawType": "float64",
         "type": "float"
        },
        {
         "name": "Alanin Aminotransferaz (ALT)",
         "rawType": "float64",
         "type": "float"
        },
        {
         "name": "Alkaline Phosphatase (ALP)",
         "rawType": "float64",
         "type": "float"
        },
        {
         "name": "Creatinine",
         "rawType": "float64",
         "type": "float"
        },
        {
         "name": "Glomerular Filtration Rate (GFR)",
         "rawType": "float64",
         "type": "float"
        },
        {
         "name": "C-Reactive Protein (CRP)",
         "rawType": "float64",
         "type": "float"
        },
        {
         "name": "Hemoglobin (HGB)",
         "rawType": "float64",
         "type": "float"
        },
        {
         "name": "Vitamin D",
         "rawType": "float64",
         "type": "float"
        }
       ],
       "ref": "e425aa37-8177-44bd-82ab-143bf93fcba2",
       "rows": [
        [
         "count",
         "319.0",
         "319.0",
         "319.0",
         "319.0",
         "319.0",
         "319.0",
         "319.0",
         "319.0",
         "319.0",
         "319.0",
         "319.0",
         "319.0",
         "319.0",
         "319.0",
         "319.0",
         "319.0",
         "319.0",
         "319.0",
         "319.0",
         "319.0",
         "319.0",
         "319.0",
         "319.0",
         "319.0",
         "319.0",
         "319.0",
         "319.0",
         "319.0",
         "319.0",
         "319.0",
         "319.0",
         "319.0",
         "319.0",
         "319.0",
         "319.0",
         "319.0",
         "319.0",
         "319.0",
         "319.0"
        ],
        [
         "mean",
         "0.4952978056426332",
         "48.06896551724138",
         "0.49216300940438873",
         "0.335423197492163",
         "0.03761755485893417",
         "0.02821316614420063",
         "0.025078369905956112",
         "0.13479623824451412",
         "167.15673981191222",
         "80.56489028213166",
         "28.87711598746081",
         "40.587774294670844",
         "17.07115987460815",
         "23.63448275862069",
         "42.212037617554856",
         "28.274984326018807",
         "71.63824451410657",
         "15.938808777429466",
         "9.078369905956112",
         "2.803291536050157",
         "54.27304075235109",
         "35.85012539184953",
         "23.487774294670846",
         "12.171598746081504",
         "30.403448275862072",
         "1.1504702194357366",
         "108.68871473354231",
         "203.49529780564262",
         "126.65235109717868",
         "49.47554858934169",
         "144.5021630094044",
         "21.684952978056426",
         "26.855799373040753",
         "73.11253918495298",
         "0.8006112852664576",
         "100.81890282131661",
         "1.8538557993730407",
         "14.418181818181816",
         "21.401410658316614"
        ],
        [
         "std",
         "0.5007634005795034",
         "12.11455836579189",
         "0.5007240277445512",
         "0.5173399484163952",
         "0.19056840946119283",
         "0.16584149347549595",
         "0.15660884495082428",
         "0.3420423387465923",
         "10.053029677164536",
         "15.709069484226337",
         "5.31370689486088",
         "7.93023477880763",
         "3.161857323191759",
         "5.349331554566107",
         "3.244470174860851",
         "8.444416929523777",
         "8.437597689521201",
         "2.3347439675768626",
         "4.332501402610247",
         "0.5094671155074505",
         "10.603833433812735",
         "109.79971802032428",
         "9.607606773996302",
         "5.262178114161058",
         "4.460529578973864",
         "1.0592174479764527",
         "44.84871422727469",
         "45.758500703419784",
         "38.54117522664801",
         "17.718700748736087",
         "97.90449252204162",
         "16.69760535069228",
         "27.88441251926473",
         "24.181069434662373",
         "0.1764326425481378",
         "16.97139591327552",
         "4.989591212055106",
         "1.7758154699152695",
         "9.981658893033876"
        ],
        [
         "min",
         "0.0",
         "20.0",
         "0.0",
         "0.0",
         "0.0",
         "0.0",
         "0.0",
         "0.0",
         "145.0",
         "42.9",
         "17.4",
         "13.0",
         "9.0",
         "13.8",
         "29.23",
         "6.3",
         "48.99",
         "5.56",
         "1.0",
         "1.4",
         "4.7",
         "0.4",
         "3.1",
         "0.9",
         "18.9",
         "0.0",
         "69.0",
         "60.0",
         "11.0",
         "25.0",
         "1.39",
         "8.0",
         "3.0",
         "7.0",
         "0.46",
         "10.6",
         "0.0",
         "8.5",
         "3.5"
        ],
        [
         "25%",
         "0.0",
         "38.5",
         "0.0",
         "0.0",
         "0.0",
         "0.0",
         "0.0",
         "0.0",
         "159.5",
         "69.6",
         "25.25",
         "34.2",
         "14.8",
         "19.3",
         "40.075",
         "22.025",
         "65.165",
         "14.465",
         "6.0",
         "2.4",
         "45.8",
         "13.9",
         "17.0",
         "8.57",
         "27.25",
         "0.0",
         "92.0",
         "172.0",
         "100.5",
         "40.0",
         "83.0",
         "15.0",
         "14.25",
         "58.0",
         "0.65",
         "94.17",
         "0.0",
         "13.3",
         "13.25"
        ],
        [
         "50%",
         "0.0",
         "49.0",
         "0.0",
         "0.0",
         "0.0",
         "0.0",
         "0.0",
         "0.0",
         "168.0",
         "78.8",
         "28.3",
         "39.8",
         "17.1",
         "23.0",
         "42.0",
         "27.82",
         "72.11",
         "15.87",
         "9.0",
         "2.8",
         "53.9",
         "25.6",
         "22.6",
         "11.59",
         "30.40810811",
         "1.0",
         "98.0",
         "198.0",
         "122.0",
         "46.5",
         "119.0",
         "18.0",
         "19.0",
         "71.0",
         "0.79",
         "104.0",
         "0.215",
         "14.4",
         "22.0"
        ],
        [
         "75%",
         "1.0",
         "56.0",
         "1.0",
         "1.0",
         "0.0",
         "0.0",
         "0.0",
         "0.0",
         "175.0",
         "91.25",
         "31.85",
         "47.0",
         "19.4",
         "27.55",
         "44.0",
         "34.81",
         "77.85",
         "17.43",
         "12.0",
         "3.2",
         "62.6",
         "41.75",
         "28.55",
         "15.1",
         "33.8",
         "2.0",
         "109.0",
         "233.0",
         "151.0",
         "56.0",
         "172.0",
         "23.0",
         "30.0",
         "86.0",
         "0.92",
         "110.745",
         "1.615",
         "15.7",
         "28.060000000000002"
        ],
        [
         "max",
         "1.0",
         "96.0",
         "1.0",
         "3.0",
         "1.0",
         "1.0",
         "1.0",
         "1.0",
         "191.0",
         "143.5",
         "49.7",
         "66.2",
         "27.8",
         "57.1",
         "52.0",
         "50.92",
         "93.67",
         "24.81",
         "31.0",
         "4.0",
         "78.8",
         "1954.0",
         "62.5",
         "41.0",
         "41.1",
         "4.0",
         "575.0",
         "360.0",
         "293.0",
         "273.0",
         "838.0",
         "195.0",
         "372.0",
         "197.0",
         "1.46",
         "132.0",
         "43.4",
         "18.8",
         "53.1"
        ]
       ],
       "shape": {
        "columns": 39,
        "rows": 8
       }
      },
      "text/html": [
       "<div>\n",
       "<style scoped>\n",
       "    .dataframe tbody tr th:only-of-type {\n",
       "        vertical-align: middle;\n",
       "    }\n",
       "\n",
       "    .dataframe tbody tr th {\n",
       "        vertical-align: top;\n",
       "    }\n",
       "\n",
       "    .dataframe thead th {\n",
       "        text-align: right;\n",
       "    }\n",
       "</style>\n",
       "<table border=\"1\" class=\"dataframe\">\n",
       "  <thead>\n",
       "    <tr style=\"text-align: right;\">\n",
       "      <th></th>\n",
       "      <th>Gallstone Status</th>\n",
       "      <th>Age</th>\n",
       "      <th>Gender</th>\n",
       "      <th>Comorbidity</th>\n",
       "      <th>Coronary Artery Disease (CAD)</th>\n",
       "      <th>Hypothyroidism</th>\n",
       "      <th>Hyperlipidemia</th>\n",
       "      <th>Diabetes Mellitus (DM)</th>\n",
       "      <th>Height</th>\n",
       "      <th>Weight</th>\n",
       "      <th>...</th>\n",
       "      <th>High Density Lipoprotein (HDL)</th>\n",
       "      <th>Triglyceride</th>\n",
       "      <th>Aspartat Aminotransferaz (AST)</th>\n",
       "      <th>Alanin Aminotransferaz (ALT)</th>\n",
       "      <th>Alkaline Phosphatase (ALP)</th>\n",
       "      <th>Creatinine</th>\n",
       "      <th>Glomerular Filtration Rate (GFR)</th>\n",
       "      <th>C-Reactive Protein (CRP)</th>\n",
       "      <th>Hemoglobin (HGB)</th>\n",
       "      <th>Vitamin D</th>\n",
       "    </tr>\n",
       "  </thead>\n",
       "  <tbody>\n",
       "    <tr>\n",
       "      <th>count</th>\n",
       "      <td>319.000000</td>\n",
       "      <td>319.000000</td>\n",
       "      <td>319.000000</td>\n",
       "      <td>319.000000</td>\n",
       "      <td>319.000000</td>\n",
       "      <td>319.000000</td>\n",
       "      <td>319.000000</td>\n",
       "      <td>319.000000</td>\n",
       "      <td>319.00000</td>\n",
       "      <td>319.000000</td>\n",
       "      <td>...</td>\n",
       "      <td>319.000000</td>\n",
       "      <td>319.000000</td>\n",
       "      <td>319.000000</td>\n",
       "      <td>319.000000</td>\n",
       "      <td>319.000000</td>\n",
       "      <td>319.000000</td>\n",
       "      <td>319.000000</td>\n",
       "      <td>319.000000</td>\n",
       "      <td>319.000000</td>\n",
       "      <td>319.000000</td>\n",
       "    </tr>\n",
       "    <tr>\n",
       "      <th>mean</th>\n",
       "      <td>0.495298</td>\n",
       "      <td>48.068966</td>\n",
       "      <td>0.492163</td>\n",
       "      <td>0.335423</td>\n",
       "      <td>0.037618</td>\n",
       "      <td>0.028213</td>\n",
       "      <td>0.025078</td>\n",
       "      <td>0.134796</td>\n",
       "      <td>167.15674</td>\n",
       "      <td>80.564890</td>\n",
       "      <td>...</td>\n",
       "      <td>49.475549</td>\n",
       "      <td>144.502163</td>\n",
       "      <td>21.684953</td>\n",
       "      <td>26.855799</td>\n",
       "      <td>73.112539</td>\n",
       "      <td>0.800611</td>\n",
       "      <td>100.818903</td>\n",
       "      <td>1.853856</td>\n",
       "      <td>14.418182</td>\n",
       "      <td>21.401411</td>\n",
       "    </tr>\n",
       "    <tr>\n",
       "      <th>std</th>\n",
       "      <td>0.500763</td>\n",
       "      <td>12.114558</td>\n",
       "      <td>0.500724</td>\n",
       "      <td>0.517340</td>\n",
       "      <td>0.190568</td>\n",
       "      <td>0.165841</td>\n",
       "      <td>0.156609</td>\n",
       "      <td>0.342042</td>\n",
       "      <td>10.05303</td>\n",
       "      <td>15.709069</td>\n",
       "      <td>...</td>\n",
       "      <td>17.718701</td>\n",
       "      <td>97.904493</td>\n",
       "      <td>16.697605</td>\n",
       "      <td>27.884413</td>\n",
       "      <td>24.181069</td>\n",
       "      <td>0.176433</td>\n",
       "      <td>16.971396</td>\n",
       "      <td>4.989591</td>\n",
       "      <td>1.775815</td>\n",
       "      <td>9.981659</td>\n",
       "    </tr>\n",
       "    <tr>\n",
       "      <th>min</th>\n",
       "      <td>0.000000</td>\n",
       "      <td>20.000000</td>\n",
       "      <td>0.000000</td>\n",
       "      <td>0.000000</td>\n",
       "      <td>0.000000</td>\n",
       "      <td>0.000000</td>\n",
       "      <td>0.000000</td>\n",
       "      <td>0.000000</td>\n",
       "      <td>145.00000</td>\n",
       "      <td>42.900000</td>\n",
       "      <td>...</td>\n",
       "      <td>25.000000</td>\n",
       "      <td>1.390000</td>\n",
       "      <td>8.000000</td>\n",
       "      <td>3.000000</td>\n",
       "      <td>7.000000</td>\n",
       "      <td>0.460000</td>\n",
       "      <td>10.600000</td>\n",
       "      <td>0.000000</td>\n",
       "      <td>8.500000</td>\n",
       "      <td>3.500000</td>\n",
       "    </tr>\n",
       "    <tr>\n",
       "      <th>25%</th>\n",
       "      <td>0.000000</td>\n",
       "      <td>38.500000</td>\n",
       "      <td>0.000000</td>\n",
       "      <td>0.000000</td>\n",
       "      <td>0.000000</td>\n",
       "      <td>0.000000</td>\n",
       "      <td>0.000000</td>\n",
       "      <td>0.000000</td>\n",
       "      <td>159.50000</td>\n",
       "      <td>69.600000</td>\n",
       "      <td>...</td>\n",
       "      <td>40.000000</td>\n",
       "      <td>83.000000</td>\n",
       "      <td>15.000000</td>\n",
       "      <td>14.250000</td>\n",
       "      <td>58.000000</td>\n",
       "      <td>0.650000</td>\n",
       "      <td>94.170000</td>\n",
       "      <td>0.000000</td>\n",
       "      <td>13.300000</td>\n",
       "      <td>13.250000</td>\n",
       "    </tr>\n",
       "    <tr>\n",
       "      <th>50%</th>\n",
       "      <td>0.000000</td>\n",
       "      <td>49.000000</td>\n",
       "      <td>0.000000</td>\n",
       "      <td>0.000000</td>\n",
       "      <td>0.000000</td>\n",
       "      <td>0.000000</td>\n",
       "      <td>0.000000</td>\n",
       "      <td>0.000000</td>\n",
       "      <td>168.00000</td>\n",
       "      <td>78.800000</td>\n",
       "      <td>...</td>\n",
       "      <td>46.500000</td>\n",
       "      <td>119.000000</td>\n",
       "      <td>18.000000</td>\n",
       "      <td>19.000000</td>\n",
       "      <td>71.000000</td>\n",
       "      <td>0.790000</td>\n",
       "      <td>104.000000</td>\n",
       "      <td>0.215000</td>\n",
       "      <td>14.400000</td>\n",
       "      <td>22.000000</td>\n",
       "    </tr>\n",
       "    <tr>\n",
       "      <th>75%</th>\n",
       "      <td>1.000000</td>\n",
       "      <td>56.000000</td>\n",
       "      <td>1.000000</td>\n",
       "      <td>1.000000</td>\n",
       "      <td>0.000000</td>\n",
       "      <td>0.000000</td>\n",
       "      <td>0.000000</td>\n",
       "      <td>0.000000</td>\n",
       "      <td>175.00000</td>\n",
       "      <td>91.250000</td>\n",
       "      <td>...</td>\n",
       "      <td>56.000000</td>\n",
       "      <td>172.000000</td>\n",
       "      <td>23.000000</td>\n",
       "      <td>30.000000</td>\n",
       "      <td>86.000000</td>\n",
       "      <td>0.920000</td>\n",
       "      <td>110.745000</td>\n",
       "      <td>1.615000</td>\n",
       "      <td>15.700000</td>\n",
       "      <td>28.060000</td>\n",
       "    </tr>\n",
       "    <tr>\n",
       "      <th>max</th>\n",
       "      <td>1.000000</td>\n",
       "      <td>96.000000</td>\n",
       "      <td>1.000000</td>\n",
       "      <td>3.000000</td>\n",
       "      <td>1.000000</td>\n",
       "      <td>1.000000</td>\n",
       "      <td>1.000000</td>\n",
       "      <td>1.000000</td>\n",
       "      <td>191.00000</td>\n",
       "      <td>143.500000</td>\n",
       "      <td>...</td>\n",
       "      <td>273.000000</td>\n",
       "      <td>838.000000</td>\n",
       "      <td>195.000000</td>\n",
       "      <td>372.000000</td>\n",
       "      <td>197.000000</td>\n",
       "      <td>1.460000</td>\n",
       "      <td>132.000000</td>\n",
       "      <td>43.400000</td>\n",
       "      <td>18.800000</td>\n",
       "      <td>53.100000</td>\n",
       "    </tr>\n",
       "  </tbody>\n",
       "</table>\n",
       "<p>8 rows × 39 columns</p>\n",
       "</div>"
      ],
      "text/plain": [
       "       Gallstone Status         Age      Gender  Comorbidity  \\\n",
       "count        319.000000  319.000000  319.000000   319.000000   \n",
       "mean           0.495298   48.068966    0.492163     0.335423   \n",
       "std            0.500763   12.114558    0.500724     0.517340   \n",
       "min            0.000000   20.000000    0.000000     0.000000   \n",
       "25%            0.000000   38.500000    0.000000     0.000000   \n",
       "50%            0.000000   49.000000    0.000000     0.000000   \n",
       "75%            1.000000   56.000000    1.000000     1.000000   \n",
       "max            1.000000   96.000000    1.000000     3.000000   \n",
       "\n",
       "       Coronary Artery Disease (CAD)  Hypothyroidism  Hyperlipidemia  \\\n",
       "count                     319.000000      319.000000      319.000000   \n",
       "mean                        0.037618        0.028213        0.025078   \n",
       "std                         0.190568        0.165841        0.156609   \n",
       "min                         0.000000        0.000000        0.000000   \n",
       "25%                         0.000000        0.000000        0.000000   \n",
       "50%                         0.000000        0.000000        0.000000   \n",
       "75%                         0.000000        0.000000        0.000000   \n",
       "max                         1.000000        1.000000        1.000000   \n",
       "\n",
       "       Diabetes Mellitus (DM)     Height      Weight  ...  \\\n",
       "count              319.000000  319.00000  319.000000  ...   \n",
       "mean                 0.134796  167.15674   80.564890  ...   \n",
       "std                  0.342042   10.05303   15.709069  ...   \n",
       "min                  0.000000  145.00000   42.900000  ...   \n",
       "25%                  0.000000  159.50000   69.600000  ...   \n",
       "50%                  0.000000  168.00000   78.800000  ...   \n",
       "75%                  0.000000  175.00000   91.250000  ...   \n",
       "max                  1.000000  191.00000  143.500000  ...   \n",
       "\n",
       "       High Density Lipoprotein (HDL)  Triglyceride  \\\n",
       "count                      319.000000    319.000000   \n",
       "mean                        49.475549    144.502163   \n",
       "std                         17.718701     97.904493   \n",
       "min                         25.000000      1.390000   \n",
       "25%                         40.000000     83.000000   \n",
       "50%                         46.500000    119.000000   \n",
       "75%                         56.000000    172.000000   \n",
       "max                        273.000000    838.000000   \n",
       "\n",
       "       Aspartat Aminotransferaz (AST)  Alanin Aminotransferaz (ALT)  \\\n",
       "count                      319.000000                    319.000000   \n",
       "mean                        21.684953                     26.855799   \n",
       "std                         16.697605                     27.884413   \n",
       "min                          8.000000                      3.000000   \n",
       "25%                         15.000000                     14.250000   \n",
       "50%                         18.000000                     19.000000   \n",
       "75%                         23.000000                     30.000000   \n",
       "max                        195.000000                    372.000000   \n",
       "\n",
       "       Alkaline Phosphatase (ALP)  Creatinine  \\\n",
       "count                  319.000000  319.000000   \n",
       "mean                    73.112539    0.800611   \n",
       "std                     24.181069    0.176433   \n",
       "min                      7.000000    0.460000   \n",
       "25%                     58.000000    0.650000   \n",
       "50%                     71.000000    0.790000   \n",
       "75%                     86.000000    0.920000   \n",
       "max                    197.000000    1.460000   \n",
       "\n",
       "       Glomerular Filtration Rate (GFR)  C-Reactive Protein (CRP)  \\\n",
       "count                        319.000000                319.000000   \n",
       "mean                         100.818903                  1.853856   \n",
       "std                           16.971396                  4.989591   \n",
       "min                           10.600000                  0.000000   \n",
       "25%                           94.170000                  0.000000   \n",
       "50%                          104.000000                  0.215000   \n",
       "75%                          110.745000                  1.615000   \n",
       "max                          132.000000                 43.400000   \n",
       "\n",
       "       Hemoglobin (HGB)   Vitamin D  \n",
       "count        319.000000  319.000000  \n",
       "mean          14.418182   21.401411  \n",
       "std            1.775815    9.981659  \n",
       "min            8.500000    3.500000  \n",
       "25%           13.300000   13.250000  \n",
       "50%           14.400000   22.000000  \n",
       "75%           15.700000   28.060000  \n",
       "max           18.800000   53.100000  \n",
       "\n",
       "[8 rows x 39 columns]"
      ]
     },
     "execution_count": 134,
     "metadata": {},
     "output_type": "execute_result"
    }
   ],
   "source": [
    "df.describe()"
   ]
  },
  {
   "cell_type": "markdown",
   "id": "a9cfbdb2",
   "metadata": {},
   "source": [
    "### Initial Data Snapshot\n",
    "\n",
    "The dataset contains 319 rows and 38 columns. It includes demographic, lab, and bioimpedance measurements. No missing values were found. The target variable (`gallstone_status`) is well balanced: 161 cases, 158 controls."
   ]
  },
  {
   "cell_type": "markdown",
   "id": "0480c257",
   "metadata": {},
   "source": [
    "## Standardizing Column Names\n",
    "\n",
    "We standardized column names to lowercase snake_case for readability and consistency. For example:\n",
    "- `Total Body Water (TBW)` → `total_body_water_tbw`\n",
    "- `C-reactive protein (CRP)` → `crp`"
   ]
  },
  {
   "cell_type": "code",
   "execution_count": 135,
   "id": "3f29d778",
   "metadata": {},
   "outputs": [],
   "source": [
    "import re\n",
    "\n",
    "def clean_column_name(col):\n",
    "    col = col.lower()\n",
    "    col = re.sub(r\"[^\\w\\s]\", \"\", col)          # Remove special characters like ()%,$\n",
    "    col = re.sub(r\"\\s+\", \"_\", col)             # Replace spaces/tabs with underscores\n",
    "    col = re.sub(r\"_+\", \"_\", col)              # Collapse multiple underscores\n",
    "    col = col.strip(\"_\")                       # Remove leading/trailing underscores\n",
    "    return col\n",
    "\n",
    "df.columns = [clean_column_name(col) for col in df.columns]"
   ]
  },
  {
   "cell_type": "code",
   "execution_count": 136,
   "id": "3a6e827a",
   "metadata": {},
   "outputs": [],
   "source": [
    "rename_map = {\n",
    "    \"coronary_artery_disease_cad\": \"cad\",\n",
    "    \"diabetes_mellitus_dm\": \"diabetes\",\n",
    "    \"height\": \"height_cm\",\n",
    "    \"weight\": \"weight_kg\",\n",
    "    \"body_mass_index_bmi\": \"bmi\",\n",
    "    \"total_body_water_tbw\": \"tbw_kg\",\n",
    "    \"extracellular_water_ecw\": \"ecw_kg\",\n",
    "    \"intracellular_water_icw\": \"icw_kg\",\n",
    "    \"extracellular_fluidtotal_body_water_ecftbw\": \"ecf_tbw_ratio\",\n",
    "    \"total_body_fat_ratio_tbfr\": \"fat_ratio_percent\",\n",
    "    \"lean_mass_lm\": \"lean_mass_percent\",\n",
    "    \"body_protein_content_protein\": \"protein_percent\",\n",
    "    \"visceral_fat_rating_vfr\": \"vfr\",\n",
    "    \"bone_mass_bm\": \"bone_mass_kg\",\n",
    "    \"muscle_mass_mm\": \"muscle_mass_kg\",\n",
    "    \"obesity\": \"obesity_percent\",\n",
    "    \"total_fat_content_tfc\": \"fat_mass_kg\",\n",
    "    \"visceral_fat_area_vfa\": \"visceral_fat_area_cm2\",\n",
    "    \"visceral_muscle_area_vma_kg\": \"visceral_muscle_mass_kg\",\n",
    "    \"hepatic_fat_accumulation_hfa\": \"hepatic_fat\",\n",
    "    \"glucose\": \"glucose_mg_dl\",\n",
    "    \"total_cholesterol_tc\": \"cholesterol_total_mg_dl\",\n",
    "    \"low_density_lipoprotein_ldl\": \"ldl_mg_dl\",\n",
    "    \"high_density_lipoprotein_hdl\": \"hdl_mg_dl\",\n",
    "    \"triglyceride\": \"triglyceride_mg_dl\",\n",
    "    \"aspartat_aminotransferaz_ast\": \"ast_u_l\",\n",
    "    \"alanin_aminotransferaz_alt\": \"alt_u_l\",\n",
    "    \"alkaline_phosphatase_alp\": \"alp_u_l\",\n",
    "    \"creatinine\": \"creatinine_mg_dl\",\n",
    "    \"glomerular_filtration_rate_gfr\": \"gfr_ml_min\",\n",
    "    \"creactive_protein_crp\": \"crp_mg_l\",\n",
    "    \"hemoglobin_hgb\": \"hemoglobin_g_dl\",\n",
    "    \"vitamin_d\": \"vitamin_d_ng_ml\"\n",
    "}\n",
    "\n",
    "df.rename(columns=rename_map, inplace=True)"
   ]
  },
  {
   "cell_type": "code",
   "execution_count": 137,
   "id": "71a7f8e9",
   "metadata": {},
   "outputs": [],
   "source": [
    "df.rename(columns={\"gallstone_status\": \"has_gallstones\"}, inplace=True)"
   ]
  },
  {
   "cell_type": "code",
   "execution_count": 138,
   "id": "32ed81c4",
   "metadata": {},
   "outputs": [],
   "source": [
    "df.rename(columns={\n",
    "    \"vfr\": \"vfr_score\",\n",
    "    \"ecf_tbw_ratio\": \"ecf_tbw_ratio_index\"\n",
    "}, inplace=True)"
   ]
  },
  {
   "cell_type": "code",
   "execution_count": 139,
   "id": "d3b0813d",
   "metadata": {},
   "outputs": [
    {
     "data": {
      "text/plain": [
       "['has_gallstones',\n",
       " 'age',\n",
       " 'gender',\n",
       " 'comorbidity',\n",
       " 'cad',\n",
       " 'hypothyroidism',\n",
       " 'hyperlipidemia',\n",
       " 'diabetes',\n",
       " 'height_cm',\n",
       " 'weight_kg',\n",
       " 'bmi',\n",
       " 'tbw_kg',\n",
       " 'ecw_kg',\n",
       " 'icw_kg',\n",
       " 'ecf_tbw_ratio_index',\n",
       " 'fat_ratio_percent',\n",
       " 'lean_mass_percent',\n",
       " 'protein_percent',\n",
       " 'vfr_score',\n",
       " 'bone_mass_kg',\n",
       " 'muscle_mass_kg',\n",
       " 'obesity_percent',\n",
       " 'fat_mass_kg',\n",
       " 'visceral_fat_area_cm2',\n",
       " 'visceral_muscle_mass_kg',\n",
       " 'hepatic_fat',\n",
       " 'glucose_mg_dl',\n",
       " 'cholesterol_total_mg_dl',\n",
       " 'ldl_mg_dl',\n",
       " 'hdl_mg_dl',\n",
       " 'triglyceride_mg_dl',\n",
       " 'ast_u_l',\n",
       " 'alt_u_l',\n",
       " 'alp_u_l',\n",
       " 'creatinine_mg_dl',\n",
       " 'gfr_ml_min',\n",
       " 'crp_mg_l',\n",
       " 'hemoglobin_g_dl',\n",
       " 'vitamin_d_ng_ml']"
      ]
     },
     "execution_count": 139,
     "metadata": {},
     "output_type": "execute_result"
    }
   ],
   "source": [
    "df.columns.to_list()"
   ]
  },
  {
   "cell_type": "markdown",
   "id": "5d956811",
   "metadata": {},
   "source": [
    "## Handling Missing Values\n",
    "\n",
    "We found missing values."
   ]
  },
  {
   "cell_type": "code",
   "execution_count": 140,
   "id": "c4deda2c",
   "metadata": {},
   "outputs": [
    {
     "data": {
      "text/plain": [
       "np.int64(0)"
      ]
     },
     "execution_count": 140,
     "metadata": {},
     "output_type": "execute_result"
    }
   ],
   "source": [
    "missing_summary = df.isnull().sum().sort_values(ascending=False)\n",
    "missing_summary[missing_summary > 0]\n",
    "df.isnull().sum().sum()"
   ]
  },
  {
   "cell_type": "markdown",
   "id": "6bb05175",
   "metadata": {},
   "source": [
    "## Data type correction\n",
    "\n",
    "Several binary clinical indicators (e.g., `diabetes_mellitus_dm`, `hypothyroidism`) were stored as numeric. We cast them to categorical for clarity and to prevent incorrect modeling treatment as continuous features.\n",
    "\n",
    "The following columns were treated as categorical:\n",
    "\n",
    "- `gender`\n",
    "- `comorbidity`\n",
    "- `cad`\n",
    "- `hypothyroidism`\n",
    "- `hyperlipidemia`\n",
    "- `diabetes`\n",
    "- `hepatic_fat`\n",
    "- `has_gallstones`\n",
    "\n",
    "These are discrete features important to clinical understanding."
   ]
  },
  {
   "cell_type": "code",
   "execution_count": 141,
   "id": "87bbc445",
   "metadata": {},
   "outputs": [],
   "source": [
    "# Example for known binary or categorical fields\n",
    "categorical_cols = [\n",
    "    \"gender\",\n",
    "    \"comorbidity\",\n",
    "    \"cad\",\n",
    "    \"hypothyroidism\",\n",
    "    \"hyperlipidemia\",\n",
    "    \"diabetes\",\n",
    "    \"hepatic_fat\",\n",
    "    \"has_gallstones\"\n",
    "]\n",
    "\n",
    "for col in categorical_cols:\n",
    "    if col in df.columns:\n",
    "        df[col] = df[col].astype(\"category\")"
   ]
  },
  {
   "cell_type": "code",
   "execution_count": 142,
   "id": "ce03aff7",
   "metadata": {},
   "outputs": [
    {
     "data": {
      "application/vnd.microsoft.datawrangler.viewer.v0+json": {
       "columns": [
        {
         "name": "index",
         "rawType": "object",
         "type": "unknown"
        },
        {
         "name": "count",
         "rawType": "int64",
         "type": "integer"
        }
       ],
       "ref": "ca1bf3ed-584e-4bb8-9e59-c7d55cb8369e",
       "rows": [
        [
         "float64",
         "28"
        ],
        [
         "category",
         "6"
        ],
        [
         "int64",
         "3"
        ],
        [
         "category",
         "1"
        ],
        [
         "category",
         "1"
        ]
       ],
       "shape": {
        "columns": 1,
        "rows": 5
       }
      },
      "text/plain": [
       "float64     28\n",
       "category     6\n",
       "int64        3\n",
       "category     1\n",
       "category     1\n",
       "Name: count, dtype: int64"
      ]
     },
     "execution_count": 142,
     "metadata": {},
     "output_type": "execute_result"
    }
   ],
   "source": [
    "df.dtypes.value_counts()"
   ]
  },
  {
   "cell_type": "markdown",
   "id": "18504a62",
   "metadata": {},
   "source": [
    "## Class balance check\n",
    "\n",
    "We need to verify whether the dataset has a balanced distribution of the target variable (`has_gallstones`). A balanced target avoids biasing the model toward the majority class. Since this is a binary classification task, a roughly 50/50 split is ideal."
   ]
  },
  {
   "cell_type": "code",
   "execution_count": 143,
   "id": "f86867f4",
   "metadata": {},
   "outputs": [
    {
     "data": {
      "application/vnd.microsoft.datawrangler.viewer.v0+json": {
       "columns": [
        {
         "name": "has_gallstones",
         "rawType": "category",
         "type": "unknown"
        },
        {
         "name": "count",
         "rawType": "int64",
         "type": "integer"
        }
       ],
       "ref": "c30622bf-40d0-499d-b4c6-0c839a7b2e5a",
       "rows": [
        [
         "0",
         "161"
        ],
        [
         "1",
         "158"
        ]
       ],
       "shape": {
        "columns": 1,
        "rows": 2
       }
      },
      "text/plain": [
       "has_gallstones\n",
       "0    161\n",
       "1    158\n",
       "Name: count, dtype: int64"
      ]
     },
     "execution_count": 143,
     "metadata": {},
     "output_type": "execute_result"
    }
   ],
   "source": [
    "# Raw counts\n",
    "df[\"has_gallstones\"].value_counts()"
   ]
  },
  {
   "cell_type": "code",
   "execution_count": 144,
   "id": "fe7b629d",
   "metadata": {},
   "outputs": [
    {
     "data": {
      "application/vnd.microsoft.datawrangler.viewer.v0+json": {
       "columns": [
        {
         "name": "has_gallstones",
         "rawType": "category",
         "type": "unknown"
        },
        {
         "name": "proportion",
         "rawType": "float64",
         "type": "float"
        }
       ],
       "ref": "f7cd8d6d-3180-4cb5-98ef-e7e2ad3d603d",
       "rows": [
        [
         "0",
         "0.5047021943573667"
        ],
        [
         "1",
         "0.4952978056426332"
        ]
       ],
       "shape": {
        "columns": 1,
        "rows": 2
       }
      },
      "text/plain": [
       "has_gallstones\n",
       "0    0.504702\n",
       "1    0.495298\n",
       "Name: proportion, dtype: float64"
      ]
     },
     "execution_count": 144,
     "metadata": {},
     "output_type": "execute_result"
    }
   ],
   "source": [
    "# Proportions\n",
    "df[\"has_gallstones\"].value_counts(normalize=True)"
   ]
  },
  {
   "cell_type": "code",
   "execution_count": 145,
   "id": "95c05ca2",
   "metadata": {},
   "outputs": [],
   "source": [
    "# Rename for readability\n",
    "df[\"has_gallstones\"] = df[\"has_gallstones\"].cat.rename_categories({0: \"No Gallstones\", 1: \"Gallstones\"})"
   ]
  },
  {
   "cell_type": "code",
   "execution_count": 146,
   "id": "07c5f564",
   "metadata": {},
   "outputs": [
    {
     "data": {
      "image/png": "[encoded data removed]",
      "text/plain": [
       "<Figure size 640x480 with 1 Axes>"
      ]
     },
     "metadata": {},
     "output_type": "display_data"
    }
   ],
   "source": [
    "# Bar plot (1 output per cell – show plot only)\n",
    "import matplotlib.pyplot as plt\n",
    "\n",
    "df[\"has_gallstones\"].value_counts().plot(kind=\"bar\", color=[\"skyblue\", \"salmon\"])\n",
    "plt.title(\"Class Balance: Gallstone Presence\")\n",
    "plt.ylabel(\"Number of Patients\")\n",
    "plt.xlabel(\"Gallstone Status\")\n",
    "plt.grid(True)\n",
    "plt.tight_layout()\n",
    "plt.show()"
   ]
  },
  {
   "cell_type": "markdown",
   "id": "b3314794",
   "metadata": {},
   "source": [
    "The dataset includes 161 patients with gallstones and 158 without. The distribution is:\n",
    "- Gallstones: 50.5%\n",
    "- No Gallstones: 49.5%\n",
    "\n",
    "This class balance is excellent. It allows us to:\n",
    "- Use standard accuracy and ROC-AUC as reliable evaluation metrics\n",
    "- Avoid applying class weighting or resampling\n",
    "- Expect fair learning behavior from most classification models"
   ]
  },
  {
   "cell_type": "markdown",
   "id": "b5b16e67",
   "metadata": {},
   "source": [
    "## Dropping Constant or Near-Constant Columns\n",
    "\n",
    "We remove columns that contain the same value in nearly all rows. These features add no predictive power and can distort feature selection, particularly for tree-based models.\n",
    "\n",
    "We define near-constant as having the same value in over 99% of rows."
   ]
  },
  {
   "cell_type": "code",
   "execution_count": 147,
   "id": "b18d5020",
   "metadata": {},
   "outputs": [
    {
     "data": {
      "text/plain": [
       "[]"
      ]
     },
     "execution_count": 147,
     "metadata": {},
     "output_type": "execute_result"
    }
   ],
   "source": [
    "# Threshold: 99% of the same value across all rows\n",
    "threshold = 0.99\n",
    "constant_like_cols = []\n",
    "\n",
    "for col in df.columns:\n",
    "    top_freq = df[col].value_counts(normalize=True).max()\n",
    "    if top_freq >= threshold:\n",
    "        constant_like_cols.append(col)\n",
    "\n",
    "constant_like_cols"
   ]
  },
  {
   "cell_type": "code",
   "execution_count": 148,
   "id": "ba2131e4",
   "metadata": {},
   "outputs": [],
   "source": [
    "df.drop(columns=constant_like_cols, inplace=True)"
   ]
  },
  {
   "cell_type": "markdown",
   "id": "1a856af4",
   "metadata": {},
   "source": [
    "No columns were dropped because they were constant or nearly constant in over 99% of the dataset:\n",
    "\n",
    "Removing them:\n",
    "- Improves model performance by eliminating noise\n",
    "- Speeds up training\n",
    "- Prevents misleading feature importance metrics"
   ]
  },
  {
   "cell_type": "markdown",
   "id": "6515aa65",
   "metadata": {},
   "source": [
    "## Checking for Duplicate Rows\n",
    "\n",
    "Duplicate rows in a clinical dataset can result from redundant data entry, exports from merged systems, or preprocessing artifacts. We check for exact duplicates across all columns and remove them if found.\n",
    "\n",
    "Removing duplicates ensures:\n",
    "- Each observation contributes equally to training\n",
    "- Our model doesn’t overfit to repeated patterns"
   ]
  },
  {
   "cell_type": "code",
   "execution_count": 149,
   "id": "7a90113c",
   "metadata": {},
   "outputs": [
    {
     "data": {
      "text/plain": [
       "np.int64(0)"
      ]
     },
     "execution_count": 149,
     "metadata": {},
     "output_type": "execute_result"
    }
   ],
   "source": [
    "# Count total duplicate rows\n",
    "duplicate_count = df.duplicated().sum()\n",
    "duplicate_count"
   ]
  },
  {
   "cell_type": "code",
   "execution_count": 150,
   "id": "13a33ef4",
   "metadata": {},
   "outputs": [
    {
     "data": {
      "application/vnd.microsoft.datawrangler.viewer.v0+json": {
       "columns": [
        {
         "name": "index",
         "rawType": "int64",
         "type": "integer"
        },
        {
         "name": "has_gallstones",
         "rawType": "category",
         "type": "unknown"
        },
        {
         "name": "age",
         "rawType": "int64",
         "type": "integer"
        },
        {
         "name": "gender",
         "rawType": "category",
         "type": "unknown"
        },
        {
         "name": "comorbidity",
         "rawType": "category",
         "type": "unknown"
        },
        {
         "name": "cad",
         "rawType": "category",
         "type": "unknown"
        },
        {
         "name": "hypothyroidism",
         "rawType": "category",
         "type": "unknown"
        },
        {
         "name": "hyperlipidemia",
         "rawType": "category",
         "type": "unknown"
        },
        {
         "name": "diabetes",
         "rawType": "category",
         "type": "unknown"
        },
        {
         "name": "height_cm",
         "rawType": "int64",
         "type": "integer"
        },
        {
         "name": "weight_kg",
         "rawType": "float64",
         "type": "float"
        },
        {
         "name": "bmi",
         "rawType": "float64",
         "type": "float"
        },
        {
         "name": "tbw_kg",
         "rawType": "float64",
         "type": "float"
        },
        {
         "name": "ecw_kg",
         "rawType": "float64",
         "type": "float"
        },
        {
         "name": "icw_kg",
         "rawType": "float64",
         "type": "float"
        },
        {
         "name": "ecf_tbw_ratio_index",
         "rawType": "float64",
         "type": "float"
        },
        {
         "name": "fat_ratio_percent",
         "rawType": "float64",
         "type": "float"
        },
        {
         "name": "lean_mass_percent",
         "rawType": "float64",
         "type": "float"
        },
        {
         "name": "protein_percent",
         "rawType": "float64",
         "type": "float"
        },
        {
         "name": "vfr_score",
         "rawType": "int64",
         "type": "integer"
        },
        {
         "name": "bone_mass_kg",
         "rawType": "float64",
         "type": "float"
        },
        {
         "name": "muscle_mass_kg",
         "rawType": "float64",
         "type": "float"
        },
        {
         "name": "obesity_percent",
         "rawType": "float64",
         "type": "float"
        },
        {
         "name": "fat_mass_kg",
         "rawType": "float64",
         "type": "float"
        },
        {
         "name": "visceral_fat_area_cm2",
         "rawType": "float64",
         "type": "float"
        },
        {
         "name": "visceral_muscle_mass_kg",
         "rawType": "float64",
         "type": "float"
        },
        {
         "name": "hepatic_fat",
         "rawType": "category",
         "type": "unknown"
        },
        {
         "name": "glucose_mg_dl",
         "rawType": "float64",
         "type": "float"
        },
        {
         "name": "cholesterol_total_mg_dl",
         "rawType": "float64",
         "type": "float"
        },
        {
         "name": "ldl_mg_dl",
         "rawType": "float64",
         "type": "float"
        },
        {
         "name": "hdl_mg_dl",
         "rawType": "float64",
         "type": "float"
        },
        {
         "name": "triglyceride_mg_dl",
         "rawType": "float64",
         "type": "float"
        },
        {
         "name": "ast_u_l",
         "rawType": "float64",
         "type": "float"
        },
        {
         "name": "alt_u_l",
         "rawType": "float64",
         "type": "float"
        },
        {
         "name": "alp_u_l",
         "rawType": "float64",
         "type": "float"
        },
        {
         "name": "creatinine_mg_dl",
         "rawType": "float64",
         "type": "float"
        },
        {
         "name": "gfr_ml_min",
         "rawType": "float64",
         "type": "float"
        },
        {
         "name": "crp_mg_l",
         "rawType": "float64",
         "type": "float"
        },
        {
         "name": "hemoglobin_g_dl",
         "rawType": "float64",
         "type": "float"
        },
        {
         "name": "vitamin_d_ng_ml",
         "rawType": "float64",
         "type": "float"
        }
       ],
       "ref": "876d74f4-5f85-465c-9389-b2755a486fae",
       "rows": [],
       "shape": {
        "columns": 39,
        "rows": 0
       }
      },
      "text/html": [
       "<div>\n",
       "<style scoped>\n",
       "    .dataframe tbody tr th:only-of-type {\n",
       "        vertical-align: middle;\n",
       "    }\n",
       "\n",
       "    .dataframe tbody tr th {\n",
       "        vertical-align: top;\n",
       "    }\n",
       "\n",
       "    .dataframe thead th {\n",
       "        text-align: right;\n",
       "    }\n",
       "</style>\n",
       "<table border=\"1\" class=\"dataframe\">\n",
       "  <thead>\n",
       "    <tr style=\"text-align: right;\">\n",
       "      <th></th>\n",
       "      <th>has_gallstones</th>\n",
       "      <th>age</th>\n",
       "      <th>gender</th>\n",
       "      <th>comorbidity</th>\n",
       "      <th>cad</th>\n",
       "      <th>hypothyroidism</th>\n",
       "      <th>hyperlipidemia</th>\n",
       "      <th>diabetes</th>\n",
       "      <th>height_cm</th>\n",
       "      <th>weight_kg</th>\n",
       "      <th>...</th>\n",
       "      <th>hdl_mg_dl</th>\n",
       "      <th>triglyceride_mg_dl</th>\n",
       "      <th>ast_u_l</th>\n",
       "      <th>alt_u_l</th>\n",
       "      <th>alp_u_l</th>\n",
       "      <th>creatinine_mg_dl</th>\n",
       "      <th>gfr_ml_min</th>\n",
       "      <th>crp_mg_l</th>\n",
       "      <th>hemoglobin_g_dl</th>\n",
       "      <th>vitamin_d_ng_ml</th>\n",
       "    </tr>\n",
       "  </thead>\n",
       "  <tbody>\n",
       "  </tbody>\n",
       "</table>\n",
       "<p>0 rows × 39 columns</p>\n",
       "</div>"
      ],
      "text/plain": [
       "Empty DataFrame\n",
       "Columns: [has_gallstones, age, gender, comorbidity, cad, hypothyroidism, hyperlipidemia, diabetes, height_cm, weight_kg, bmi, tbw_kg, ecw_kg, icw_kg, ecf_tbw_ratio_index, fat_ratio_percent, lean_mass_percent, protein_percent, vfr_score, bone_mass_kg, muscle_mass_kg, obesity_percent, fat_mass_kg, visceral_fat_area_cm2, visceral_muscle_mass_kg, hepatic_fat, glucose_mg_dl, cholesterol_total_mg_dl, ldl_mg_dl, hdl_mg_dl, triglyceride_mg_dl, ast_u_l, alt_u_l, alp_u_l, creatinine_mg_dl, gfr_ml_min, crp_mg_l, hemoglobin_g_dl, vitamin_d_ng_ml]\n",
       "Index: []\n",
       "\n",
       "[0 rows x 39 columns]"
      ]
     },
     "execution_count": 150,
     "metadata": {},
     "output_type": "execute_result"
    }
   ],
   "source": [
    "# Preview the first few duplicates\n",
    "df[df.duplicated()].head()"
   ]
  },
  {
   "cell_type": "code",
   "execution_count": 151,
   "id": "951fa06c",
   "metadata": {},
   "outputs": [
    {
     "name": "stdout",
     "output_type": "stream",
     "text": [
      "Original: 319, After deduplication: 319\n"
     ]
    }
   ],
   "source": [
    "print(f\"Original: {df.shape[0] + duplicate_count}, After deduplication: {df.shape[0]}\")"
   ]
  },
  {
   "cell_type": "code",
   "execution_count": 152,
   "id": "edc4ea86",
   "metadata": {},
   "outputs": [],
   "source": [
    "df = df.drop_duplicates()"
   ]
  },
  {
   "cell_type": "markdown",
   "id": "46cfb694",
   "metadata": {},
   "source": [
    "We found and removed 0 duplicate rows.\n",
    "\n",
    "Duplicates can occur in clinical studies due to repeated patient evaluations, export errors, or data merges. Their removal improves model generalization by ensuring each patient record is unique."
   ]
  },
  {
   "cell_type": "markdown",
   "id": "b0944072",
   "metadata": {},
   "source": [
    "## Reviewing Numerical Feature Ranges\n",
    "\n",
    "We check the distribution of all continuous variables to ensure:\n",
    "- They lie within clinically plausible bounds\n",
    "- There are no outliers due to entry errors or unit mismatches\n",
    "- The model doesn’t learn from nonsensical or biologically impossible values\n",
    "\n",
    "This step also helps us identify candidates for later transformation (e.g., log-scaling, normalization)."
   ]
  },
  {
   "cell_type": "code",
   "execution_count": 153,
   "id": "0fbe02fd",
   "metadata": {},
   "outputs": [
    {
     "data": {
      "application/vnd.microsoft.datawrangler.viewer.v0+json": {
       "columns": [
        {
         "name": "index",
         "rawType": "object",
         "type": "string"
        },
        {
         "name": "count",
         "rawType": "float64",
         "type": "float"
        },
        {
         "name": "mean",
         "rawType": "float64",
         "type": "float"
        },
        {
         "name": "std",
         "rawType": "float64",
         "type": "float"
        },
        {
         "name": "min",
         "rawType": "float64",
         "type": "float"
        },
        {
         "name": "25%",
         "rawType": "float64",
         "type": "float"
        },
        {
         "name": "50%",
         "rawType": "float64",
         "type": "float"
        },
        {
         "name": "75%",
         "rawType": "float64",
         "type": "float"
        },
        {
         "name": "max",
         "rawType": "float64",
         "type": "float"
        }
       ],
       "ref": "76d85735-1e4a-41fb-a4ff-e15a6bda0778",
       "rows": [
        [
         "age",
         "319.0",
         "48.06896551724138",
         "12.11455836579189",
         "20.0",
         "38.5",
         "49.0",
         "56.0",
         "96.0"
        ],
        [
         "height_cm",
         "319.0",
         "167.15673981191222",
         "10.053029677164536",
         "145.0",
         "159.5",
         "168.0",
         "175.0",
         "191.0"
        ],
        [
         "weight_kg",
         "319.0",
         "80.56489028213166",
         "15.709069484226337",
         "42.9",
         "69.6",
         "78.8",
         "91.25",
         "143.5"
        ],
        [
         "bmi",
         "319.0",
         "28.87711598746081",
         "5.31370689486088",
         "17.4",
         "25.25",
         "28.3",
         "31.85",
         "49.7"
        ],
        [
         "tbw_kg",
         "319.0",
         "40.587774294670844",
         "7.93023477880763",
         "13.0",
         "34.2",
         "39.8",
         "47.0",
         "66.2"
        ],
        [
         "ecw_kg",
         "319.0",
         "17.07115987460815",
         "3.161857323191759",
         "9.0",
         "14.8",
         "17.1",
         "19.4",
         "27.8"
        ],
        [
         "icw_kg",
         "319.0",
         "23.63448275862069",
         "5.349331554566107",
         "13.8",
         "19.3",
         "23.0",
         "27.55",
         "57.1"
        ],
        [
         "ecf_tbw_ratio_index",
         "319.0",
         "42.212037617554856",
         "3.244470174860851",
         "29.23",
         "40.075",
         "42.0",
         "44.0",
         "52.0"
        ],
        [
         "fat_ratio_percent",
         "319.0",
         "28.274984326018807",
         "8.444416929523777",
         "6.3",
         "22.025",
         "27.82",
         "34.81",
         "50.92"
        ],
        [
         "lean_mass_percent",
         "319.0",
         "71.63824451410657",
         "8.437597689521201",
         "48.99",
         "65.165",
         "72.11",
         "77.85",
         "93.67"
        ],
        [
         "protein_percent",
         "319.0",
         "15.938808777429466",
         "2.3347439675768626",
         "5.56",
         "14.465",
         "15.87",
         "17.43",
         "24.81"
        ],
        [
         "vfr_score",
         "319.0",
         "9.078369905956112",
         "4.332501402610247",
         "1.0",
         "6.0",
         "9.0",
         "12.0",
         "31.0"
        ],
        [
         "bone_mass_kg",
         "319.0",
         "2.803291536050157",
         "0.5094671155074505",
         "1.4",
         "2.4",
         "2.8",
         "3.2",
         "4.0"
        ],
        [
         "muscle_mass_kg",
         "319.0",
         "54.27304075235109",
         "10.603833433812735",
         "4.7",
         "45.8",
         "53.9",
         "62.6",
         "78.8"
        ],
        [
         "obesity_percent",
         "319.0",
         "35.85012539184953",
         "109.79971802032428",
         "0.4",
         "13.9",
         "25.6",
         "41.75",
         "1954.0"
        ],
        [
         "fat_mass_kg",
         "319.0",
         "23.487774294670846",
         "9.607606773996302",
         "3.1",
         "17.0",
         "22.6",
         "28.55",
         "62.5"
        ],
        [
         "visceral_fat_area_cm2",
         "319.0",
         "12.171598746081504",
         "5.262178114161058",
         "0.9",
         "8.57",
         "11.59",
         "15.1",
         "41.0"
        ],
        [
         "visceral_muscle_mass_kg",
         "319.0",
         "30.403448275862072",
         "4.460529578973864",
         "18.9",
         "27.25",
         "30.40810811",
         "33.8",
         "41.1"
        ],
        [
         "glucose_mg_dl",
         "319.0",
         "108.68871473354231",
         "44.84871422727469",
         "69.0",
         "92.0",
         "98.0",
         "109.0",
         "575.0"
        ],
        [
         "cholesterol_total_mg_dl",
         "319.0",
         "203.49529780564262",
         "45.758500703419784",
         "60.0",
         "172.0",
         "198.0",
         "233.0",
         "360.0"
        ],
        [
         "ldl_mg_dl",
         "319.0",
         "126.65235109717868",
         "38.54117522664801",
         "11.0",
         "100.5",
         "122.0",
         "151.0",
         "293.0"
        ],
        [
         "hdl_mg_dl",
         "319.0",
         "49.47554858934169",
         "17.718700748736087",
         "25.0",
         "40.0",
         "46.5",
         "56.0",
         "273.0"
        ],
        [
         "triglyceride_mg_dl",
         "319.0",
         "144.5021630094044",
         "97.90449252204162",
         "1.39",
         "83.0",
         "119.0",
         "172.0",
         "838.0"
        ],
        [
         "ast_u_l",
         "319.0",
         "21.684952978056426",
         "16.69760535069228",
         "8.0",
         "15.0",
         "18.0",
         "23.0",
         "195.0"
        ],
        [
         "alt_u_l",
         "319.0",
         "26.855799373040753",
         "27.88441251926473",
         "3.0",
         "14.25",
         "19.0",
         "30.0",
         "372.0"
        ],
        [
         "alp_u_l",
         "319.0",
         "73.11253918495298",
         "24.181069434662373",
         "7.0",
         "58.0",
         "71.0",
         "86.0",
         "197.0"
        ],
        [
         "creatinine_mg_dl",
         "319.0",
         "0.8006112852664576",
         "0.1764326425481378",
         "0.46",
         "0.65",
         "0.79",
         "0.92",
         "1.46"
        ],
        [
         "gfr_ml_min",
         "319.0",
         "100.81890282131661",
         "16.97139591327552",
         "10.6",
         "94.17",
         "104.0",
         "110.745",
         "132.0"
        ],
        [
         "crp_mg_l",
         "319.0",
         "1.8538557993730407",
         "4.989591212055106",
         "0.0",
         "0.0",
         "0.215",
         "1.615",
         "43.4"
        ],
        [
         "hemoglobin_g_dl",
         "319.0",
         "14.418181818181816",
         "1.7758154699152695",
         "8.5",
         "13.3",
         "14.4",
         "15.7",
         "18.8"
        ],
        [
         "vitamin_d_ng_ml",
         "319.0",
         "21.401410658316614",
         "9.981658893033876",
         "3.5",
         "13.25",
         "22.0",
         "28.060000000000002",
         "53.1"
        ]
       ],
       "shape": {
        "columns": 8,
        "rows": 31
       }
      },
      "text/html": [
       "<div>\n",
       "<style scoped>\n",
       "    .dataframe tbody tr th:only-of-type {\n",
       "        vertical-align: middle;\n",
       "    }\n",
       "\n",
       "    .dataframe tbody tr th {\n",
       "        vertical-align: top;\n",
       "    }\n",
       "\n",
       "    .dataframe thead th {\n",
       "        text-align: right;\n",
       "    }\n",
       "</style>\n",
       "<table border=\"1\" class=\"dataframe\">\n",
       "  <thead>\n",
       "    <tr style=\"text-align: right;\">\n",
       "      <th></th>\n",
       "      <th>count</th>\n",
       "      <th>mean</th>\n",
       "      <th>std</th>\n",
       "      <th>min</th>\n",
       "      <th>25%</th>\n",
       "      <th>50%</th>\n",
       "      <th>75%</th>\n",
       "      <th>max</th>\n",
       "    </tr>\n",
       "  </thead>\n",
       "  <tbody>\n",
       "    <tr>\n",
       "      <th>age</th>\n",
       "      <td>319.0</td>\n",
       "      <td>48.068966</td>\n",
       "      <td>12.114558</td>\n",
       "      <td>20.00</td>\n",
       "      <td>38.500</td>\n",
       "      <td>49.000000</td>\n",
       "      <td>56.000</td>\n",
       "      <td>96.00</td>\n",
       "    </tr>\n",
       "    <tr>\n",
       "      <th>height_cm</th>\n",
       "      <td>319.0</td>\n",
       "      <td>167.156740</td>\n",
       "      <td>10.053030</td>\n",
       "      <td>145.00</td>\n",
       "      <td>159.500</td>\n",
       "      <td>168.000000</td>\n",
       "      <td>175.000</td>\n",
       "      <td>191.00</td>\n",
       "    </tr>\n",
       "    <tr>\n",
       "      <th>weight_kg</th>\n",
       "      <td>319.0</td>\n",
       "      <td>80.564890</td>\n",
       "      <td>15.709069</td>\n",
       "      <td>42.90</td>\n",
       "      <td>69.600</td>\n",
       "      <td>78.800000</td>\n",
       "      <td>91.250</td>\n",
       "      <td>143.50</td>\n",
       "    </tr>\n",
       "    <tr>\n",
       "      <th>bmi</th>\n",
       "      <td>319.0</td>\n",
       "      <td>28.877116</td>\n",
       "      <td>5.313707</td>\n",
       "      <td>17.40</td>\n",
       "      <td>25.250</td>\n",
       "      <td>28.300000</td>\n",
       "      <td>31.850</td>\n",
       "      <td>49.70</td>\n",
       "    </tr>\n",
       "    <tr>\n",
       "      <th>tbw_kg</th>\n",
       "      <td>319.0</td>\n",
       "      <td>40.587774</td>\n",
       "      <td>7.930235</td>\n",
       "      <td>13.00</td>\n",
       "      <td>34.200</td>\n",
       "      <td>39.800000</td>\n",
       "      <td>47.000</td>\n",
       "      <td>66.20</td>\n",
       "    </tr>\n",
       "    <tr>\n",
       "      <th>ecw_kg</th>\n",
       "      <td>319.0</td>\n",
       "      <td>17.071160</td>\n",
       "      <td>3.161857</td>\n",
       "      <td>9.00</td>\n",
       "      <td>14.800</td>\n",
       "      <td>17.100000</td>\n",
       "      <td>19.400</td>\n",
       "      <td>27.80</td>\n",
       "    </tr>\n",
       "    <tr>\n",
       "      <th>icw_kg</th>\n",
       "      <td>319.0</td>\n",
       "      <td>23.634483</td>\n",
       "      <td>5.349332</td>\n",
       "      <td>13.80</td>\n",
       "      <td>19.300</td>\n",
       "      <td>23.000000</td>\n",
       "      <td>27.550</td>\n",
       "      <td>57.10</td>\n",
       "    </tr>\n",
       "    <tr>\n",
       "      <th>ecf_tbw_ratio_index</th>\n",
       "      <td>319.0</td>\n",
       "      <td>42.212038</td>\n",
       "      <td>3.244470</td>\n",
       "      <td>29.23</td>\n",
       "      <td>40.075</td>\n",
       "      <td>42.000000</td>\n",
       "      <td>44.000</td>\n",
       "      <td>52.00</td>\n",
       "    </tr>\n",
       "    <tr>\n",
       "      <th>fat_ratio_percent</th>\n",
       "      <td>319.0</td>\n",
       "      <td>28.274984</td>\n",
       "      <td>8.444417</td>\n",
       "      <td>6.30</td>\n",
       "      <td>22.025</td>\n",
       "      <td>27.820000</td>\n",
       "      <td>34.810</td>\n",
       "      <td>50.92</td>\n",
       "    </tr>\n",
       "    <tr>\n",
       "      <th>lean_mass_percent</th>\n",
       "      <td>319.0</td>\n",
       "      <td>71.638245</td>\n",
       "      <td>8.437598</td>\n",
       "      <td>48.99</td>\n",
       "      <td>65.165</td>\n",
       "      <td>72.110000</td>\n",
       "      <td>77.850</td>\n",
       "      <td>93.67</td>\n",
       "    </tr>\n",
       "    <tr>\n",
       "      <th>protein_percent</th>\n",
       "      <td>319.0</td>\n",
       "      <td>15.938809</td>\n",
       "      <td>2.334744</td>\n",
       "      <td>5.56</td>\n",
       "      <td>14.465</td>\n",
       "      <td>15.870000</td>\n",
       "      <td>17.430</td>\n",
       "      <td>24.81</td>\n",
       "    </tr>\n",
       "    <tr>\n",
       "      <th>vfr_score</th>\n",
       "      <td>319.0</td>\n",
       "      <td>9.078370</td>\n",
       "      <td>4.332501</td>\n",
       "      <td>1.00</td>\n",
       "      <td>6.000</td>\n",
       "      <td>9.000000</td>\n",
       "      <td>12.000</td>\n",
       "      <td>31.00</td>\n",
       "    </tr>\n",
       "    <tr>\n",
       "      <th>bone_mass_kg</th>\n",
       "      <td>319.0</td>\n",
       "      <td>2.803292</td>\n",
       "      <td>0.509467</td>\n",
       "      <td>1.40</td>\n",
       "      <td>2.400</td>\n",
       "      <td>2.800000</td>\n",
       "      <td>3.200</td>\n",
       "      <td>4.00</td>\n",
       "    </tr>\n",
       "    <tr>\n",
       "      <th>muscle_mass_kg</th>\n",
       "      <td>319.0</td>\n",
       "      <td>54.273041</td>\n",
       "      <td>10.603833</td>\n",
       "      <td>4.70</td>\n",
       "      <td>45.800</td>\n",
       "      <td>53.900000</td>\n",
       "      <td>62.600</td>\n",
       "      <td>78.80</td>\n",
       "    </tr>\n",
       "    <tr>\n",
       "      <th>obesity_percent</th>\n",
       "      <td>319.0</td>\n",
       "      <td>35.850125</td>\n",
       "      <td>109.799718</td>\n",
       "      <td>0.40</td>\n",
       "      <td>13.900</td>\n",
       "      <td>25.600000</td>\n",
       "      <td>41.750</td>\n",
       "      <td>1954.00</td>\n",
       "    </tr>\n",
       "    <tr>\n",
       "      <th>fat_mass_kg</th>\n",
       "      <td>319.0</td>\n",
       "      <td>23.487774</td>\n",
       "      <td>9.607607</td>\n",
       "      <td>3.10</td>\n",
       "      <td>17.000</td>\n",
       "      <td>22.600000</td>\n",
       "      <td>28.550</td>\n",
       "      <td>62.50</td>\n",
       "    </tr>\n",
       "    <tr>\n",
       "      <th>visceral_fat_area_cm2</th>\n",
       "      <td>319.0</td>\n",
       "      <td>12.171599</td>\n",
       "      <td>5.262178</td>\n",
       "      <td>0.90</td>\n",
       "      <td>8.570</td>\n",
       "      <td>11.590000</td>\n",
       "      <td>15.100</td>\n",
       "      <td>41.00</td>\n",
       "    </tr>\n",
       "    <tr>\n",
       "      <th>visceral_muscle_mass_kg</th>\n",
       "      <td>319.0</td>\n",
       "      <td>30.403448</td>\n",
       "      <td>4.460530</td>\n",
       "      <td>18.90</td>\n",
       "      <td>27.250</td>\n",
       "      <td>30.408108</td>\n",
       "      <td>33.800</td>\n",
       "      <td>41.10</td>\n",
       "    </tr>\n",
       "    <tr>\n",
       "      <th>glucose_mg_dl</th>\n",
       "      <td>319.0</td>\n",
       "      <td>108.688715</td>\n",
       "      <td>44.848714</td>\n",
       "      <td>69.00</td>\n",
       "      <td>92.000</td>\n",
       "      <td>98.000000</td>\n",
       "      <td>109.000</td>\n",
       "      <td>575.00</td>\n",
       "    </tr>\n",
       "    <tr>\n",
       "      <th>cholesterol_total_mg_dl</th>\n",
       "      <td>319.0</td>\n",
       "      <td>203.495298</td>\n",
       "      <td>45.758501</td>\n",
       "      <td>60.00</td>\n",
       "      <td>172.000</td>\n",
       "      <td>198.000000</td>\n",
       "      <td>233.000</td>\n",
       "      <td>360.00</td>\n",
       "    </tr>\n",
       "    <tr>\n",
       "      <th>ldl_mg_dl</th>\n",
       "      <td>319.0</td>\n",
       "      <td>126.652351</td>\n",
       "      <td>38.541175</td>\n",
       "      <td>11.00</td>\n",
       "      <td>100.500</td>\n",
       "      <td>122.000000</td>\n",
       "      <td>151.000</td>\n",
       "      <td>293.00</td>\n",
       "    </tr>\n",
       "    <tr>\n",
       "      <th>hdl_mg_dl</th>\n",
       "      <td>319.0</td>\n",
       "      <td>49.475549</td>\n",
       "      <td>17.718701</td>\n",
       "      <td>25.00</td>\n",
       "      <td>40.000</td>\n",
       "      <td>46.500000</td>\n",
       "      <td>56.000</td>\n",
       "      <td>273.00</td>\n",
       "    </tr>\n",
       "    <tr>\n",
       "      <th>triglyceride_mg_dl</th>\n",
       "      <td>319.0</td>\n",
       "      <td>144.502163</td>\n",
       "      <td>97.904493</td>\n",
       "      <td>1.39</td>\n",
       "      <td>83.000</td>\n",
       "      <td>119.000000</td>\n",
       "      <td>172.000</td>\n",
       "      <td>838.00</td>\n",
       "    </tr>\n",
       "    <tr>\n",
       "      <th>ast_u_l</th>\n",
       "      <td>319.0</td>\n",
       "      <td>21.684953</td>\n",
       "      <td>16.697605</td>\n",
       "      <td>8.00</td>\n",
       "      <td>15.000</td>\n",
       "      <td>18.000000</td>\n",
       "      <td>23.000</td>\n",
       "      <td>195.00</td>\n",
       "    </tr>\n",
       "    <tr>\n",
       "      <th>alt_u_l</th>\n",
       "      <td>319.0</td>\n",
       "      <td>26.855799</td>\n",
       "      <td>27.884413</td>\n",
       "      <td>3.00</td>\n",
       "      <td>14.250</td>\n",
       "      <td>19.000000</td>\n",
       "      <td>30.000</td>\n",
       "      <td>372.00</td>\n",
       "    </tr>\n",
       "    <tr>\n",
       "      <th>alp_u_l</th>\n",
       "      <td>319.0</td>\n",
       "      <td>73.112539</td>\n",
       "      <td>24.181069</td>\n",
       "      <td>7.00</td>\n",
       "      <td>58.000</td>\n",
       "      <td>71.000000</td>\n",
       "      <td>86.000</td>\n",
       "      <td>197.00</td>\n",
       "    </tr>\n",
       "    <tr>\n",
       "      <th>creatinine_mg_dl</th>\n",
       "      <td>319.0</td>\n",
       "      <td>0.800611</td>\n",
       "      <td>0.176433</td>\n",
       "      <td>0.46</td>\n",
       "      <td>0.650</td>\n",
       "      <td>0.790000</td>\n",
       "      <td>0.920</td>\n",
       "      <td>1.46</td>\n",
       "    </tr>\n",
       "    <tr>\n",
       "      <th>gfr_ml_min</th>\n",
       "      <td>319.0</td>\n",
       "      <td>100.818903</td>\n",
       "      <td>16.971396</td>\n",
       "      <td>10.60</td>\n",
       "      <td>94.170</td>\n",
       "      <td>104.000000</td>\n",
       "      <td>110.745</td>\n",
       "      <td>132.00</td>\n",
       "    </tr>\n",
       "    <tr>\n",
       "      <th>crp_mg_l</th>\n",
       "      <td>319.0</td>\n",
       "      <td>1.853856</td>\n",
       "      <td>4.989591</td>\n",
       "      <td>0.00</td>\n",
       "      <td>0.000</td>\n",
       "      <td>0.215000</td>\n",
       "      <td>1.615</td>\n",
       "      <td>43.40</td>\n",
       "    </tr>\n",
       "    <tr>\n",
       "      <th>hemoglobin_g_dl</th>\n",
       "      <td>319.0</td>\n",
       "      <td>14.418182</td>\n",
       "      <td>1.775815</td>\n",
       "      <td>8.50</td>\n",
       "      <td>13.300</td>\n",
       "      <td>14.400000</td>\n",
       "      <td>15.700</td>\n",
       "      <td>18.80</td>\n",
       "    </tr>\n",
       "    <tr>\n",
       "      <th>vitamin_d_ng_ml</th>\n",
       "      <td>319.0</td>\n",
       "      <td>21.401411</td>\n",
       "      <td>9.981659</td>\n",
       "      <td>3.50</td>\n",
       "      <td>13.250</td>\n",
       "      <td>22.000000</td>\n",
       "      <td>28.060</td>\n",
       "      <td>53.10</td>\n",
       "    </tr>\n",
       "  </tbody>\n",
       "</table>\n",
       "</div>"
      ],
      "text/plain": [
       "                         count        mean         std     min      25%  \\\n",
       "age                      319.0   48.068966   12.114558   20.00   38.500   \n",
       "height_cm                319.0  167.156740   10.053030  145.00  159.500   \n",
       "weight_kg                319.0   80.564890   15.709069   42.90   69.600   \n",
       "bmi                      319.0   28.877116    5.313707   17.40   25.250   \n",
       "tbw_kg                   319.0   40.587774    7.930235   13.00   34.200   \n",
       "ecw_kg                   319.0   17.071160    3.161857    9.00   14.800   \n",
       "icw_kg                   319.0   23.634483    5.349332   13.80   19.300   \n",
       "ecf_tbw_ratio_index      319.0   42.212038    3.244470   29.23   40.075   \n",
       "fat_ratio_percent        319.0   28.274984    8.444417    6.30   22.025   \n",
       "lean_mass_percent        319.0   71.638245    8.437598   48.99   65.165   \n",
       "protein_percent          319.0   15.938809    2.334744    5.56   14.465   \n",
       "vfr_score                319.0    9.078370    4.332501    1.00    6.000   \n",
       "bone_mass_kg             319.0    2.803292    0.509467    1.40    2.400   \n",
       "muscle_mass_kg           319.0   54.273041   10.603833    4.70   45.800   \n",
       "obesity_percent          319.0   35.850125  109.799718    0.40   13.900   \n",
       "fat_mass_kg              319.0   23.487774    9.607607    3.10   17.000   \n",
       "visceral_fat_area_cm2    319.0   12.171599    5.262178    0.90    8.570   \n",
       "visceral_muscle_mass_kg  319.0   30.403448    4.460530   18.90   27.250   \n",
       "glucose_mg_dl            319.0  108.688715   44.848714   69.00   92.000   \n",
       "cholesterol_total_mg_dl  319.0  203.495298   45.758501   60.00  172.000   \n",
       "ldl_mg_dl                319.0  126.652351   38.541175   11.00  100.500   \n",
       "hdl_mg_dl                319.0   49.475549   17.718701   25.00   40.000   \n",
       "triglyceride_mg_dl       319.0  144.502163   97.904493    1.39   83.000   \n",
       "ast_u_l                  319.0   21.684953   16.697605    8.00   15.000   \n",
       "alt_u_l                  319.0   26.855799   27.884413    3.00   14.250   \n",
       "alp_u_l                  319.0   73.112539   24.181069    7.00   58.000   \n",
       "creatinine_mg_dl         319.0    0.800611    0.176433    0.46    0.650   \n",
       "gfr_ml_min               319.0  100.818903   16.971396   10.60   94.170   \n",
       "crp_mg_l                 319.0    1.853856    4.989591    0.00    0.000   \n",
       "hemoglobin_g_dl          319.0   14.418182    1.775815    8.50   13.300   \n",
       "vitamin_d_ng_ml          319.0   21.401411    9.981659    3.50   13.250   \n",
       "\n",
       "                                50%      75%      max  \n",
       "age                       49.000000   56.000    96.00  \n",
       "height_cm                168.000000  175.000   191.00  \n",
       "weight_kg                 78.800000   91.250   143.50  \n",
       "bmi                       28.300000   31.850    49.70  \n",
       "tbw_kg                    39.800000   47.000    66.20  \n",
       "ecw_kg                    17.100000   19.400    27.80  \n",
       "icw_kg                    23.000000   27.550    57.10  \n",
       "ecf_tbw_ratio_index       42.000000   44.000    52.00  \n",
       "fat_ratio_percent         27.820000   34.810    50.92  \n",
       "lean_mass_percent         72.110000   77.850    93.67  \n",
       "protein_percent           15.870000   17.430    24.81  \n",
       "vfr_score                  9.000000   12.000    31.00  \n",
       "bone_mass_kg               2.800000    3.200     4.00  \n",
       "muscle_mass_kg            53.900000   62.600    78.80  \n",
       "obesity_percent           25.600000   41.750  1954.00  \n",
       "fat_mass_kg               22.600000   28.550    62.50  \n",
       "visceral_fat_area_cm2     11.590000   15.100    41.00  \n",
       "visceral_muscle_mass_kg   30.408108   33.800    41.10  \n",
       "glucose_mg_dl             98.000000  109.000   575.00  \n",
       "cholesterol_total_mg_dl  198.000000  233.000   360.00  \n",
       "ldl_mg_dl                122.000000  151.000   293.00  \n",
       "hdl_mg_dl                 46.500000   56.000   273.00  \n",
       "triglyceride_mg_dl       119.000000  172.000   838.00  \n",
       "ast_u_l                   18.000000   23.000   195.00  \n",
       "alt_u_l                   19.000000   30.000   372.00  \n",
       "alp_u_l                   71.000000   86.000   197.00  \n",
       "creatinine_mg_dl           0.790000    0.920     1.46  \n",
       "gfr_ml_min               104.000000  110.745   132.00  \n",
       "crp_mg_l                   0.215000    1.615    43.40  \n",
       "hemoglobin_g_dl           14.400000   15.700    18.80  \n",
       "vitamin_d_ng_ml           22.000000   28.060    53.10  "
      ]
     },
     "execution_count": 153,
     "metadata": {},
     "output_type": "execute_result"
    }
   ],
   "source": [
    "# Identify numeric columns\n",
    "numeric_cols = df.select_dtypes(include=[\"float64\", \"int64\"]).columns\n",
    "\n",
    "# Summarize them\n",
    "df[numeric_cols].describe().T"
   ]
  },
  {
   "cell_type": "code",
   "execution_count": 154,
   "id": "be76d870",
   "metadata": {},
   "outputs": [],
   "source": [
    "suspicious_rows = df[\n",
    "    (df[\"vitamin_d_ng_ml\"] < 4) | (df[\"vitamin_d_ng_ml\"] > 100) |\n",
    "    (df[\"glucose_mg_dl\"] < 40) | (df[\"glucose_mg_dl\"] > 400) |\n",
    "    (df[\"bmi\"] < 10) | (df[\"bmi\"] > 70) |\n",
    "    (df[\"lean_mass_percent\"] < 20) | (df[\"lean_mass_percent\"] > 95) |\n",
    "    (df[\"fat_ratio_percent\"] < 5) | (df[\"fat_ratio_percent\"] > 80) |\n",
    "    (df[\"visceral_fat_area_cm2\"] < 0.5) | (df[\"visceral_fat_area_cm2\"] > 45)\n",
    "]"
   ]
  },
  {
   "cell_type": "code",
   "execution_count": 155,
   "id": "40371045",
   "metadata": {},
   "outputs": [
    {
     "name": "stdout",
     "output_type": "stream",
     "text": [
      "Number of suspicious rows: 2\n"
     ]
    },
    {
     "data": {
      "application/vnd.microsoft.datawrangler.viewer.v0+json": {
       "columns": [
        {
         "name": "index",
         "rawType": "int64",
         "type": "integer"
        },
        {
         "name": "has_gallstones",
         "rawType": "category",
         "type": "unknown"
        },
        {
         "name": "age",
         "rawType": "int64",
         "type": "integer"
        },
        {
         "name": "gender",
         "rawType": "category",
         "type": "unknown"
        },
        {
         "name": "comorbidity",
         "rawType": "category",
         "type": "unknown"
        },
        {
         "name": "cad",
         "rawType": "category",
         "type": "unknown"
        },
        {
         "name": "hypothyroidism",
         "rawType": "category",
         "type": "unknown"
        },
        {
         "name": "hyperlipidemia",
         "rawType": "category",
         "type": "unknown"
        },
        {
         "name": "diabetes",
         "rawType": "category",
         "type": "unknown"
        },
        {
         "name": "height_cm",
         "rawType": "int64",
         "type": "integer"
        },
        {
         "name": "weight_kg",
         "rawType": "float64",
         "type": "float"
        },
        {
         "name": "bmi",
         "rawType": "float64",
         "type": "float"
        },
        {
         "name": "tbw_kg",
         "rawType": "float64",
         "type": "float"
        },
        {
         "name": "ecw_kg",
         "rawType": "float64",
         "type": "float"
        },
        {
         "name": "icw_kg",
         "rawType": "float64",
         "type": "float"
        },
        {
         "name": "ecf_tbw_ratio_index",
         "rawType": "float64",
         "type": "float"
        },
        {
         "name": "fat_ratio_percent",
         "rawType": "float64",
         "type": "float"
        },
        {
         "name": "lean_mass_percent",
         "rawType": "float64",
         "type": "float"
        },
        {
         "name": "protein_percent",
         "rawType": "float64",
         "type": "float"
        },
        {
         "name": "vfr_score",
         "rawType": "int64",
         "type": "integer"
        },
        {
         "name": "bone_mass_kg",
         "rawType": "float64",
         "type": "float"
        },
        {
         "name": "muscle_mass_kg",
         "rawType": "float64",
         "type": "float"
        },
        {
         "name": "obesity_percent",
         "rawType": "float64",
         "type": "float"
        },
        {
         "name": "fat_mass_kg",
         "rawType": "float64",
         "type": "float"
        },
        {
         "name": "visceral_fat_area_cm2",
         "rawType": "float64",
         "type": "float"
        },
        {
         "name": "visceral_muscle_mass_kg",
         "rawType": "float64",
         "type": "float"
        },
        {
         "name": "hepatic_fat",
         "rawType": "category",
         "type": "unknown"
        },
        {
         "name": "glucose_mg_dl",
         "rawType": "float64",
         "type": "float"
        },
        {
         "name": "cholesterol_total_mg_dl",
         "rawType": "float64",
         "type": "float"
        },
        {
         "name": "ldl_mg_dl",
         "rawType": "float64",
         "type": "float"
        },
        {
         "name": "hdl_mg_dl",
         "rawType": "float64",
         "type": "float"
        },
        {
         "name": "triglyceride_mg_dl",
         "rawType": "float64",
         "type": "float"
        },
        {
         "name": "ast_u_l",
         "rawType": "float64",
         "type": "float"
        },
        {
         "name": "alt_u_l",
         "rawType": "float64",
         "type": "float"
        },
        {
         "name": "alp_u_l",
         "rawType": "float64",
         "type": "float"
        },
        {
         "name": "creatinine_mg_dl",
         "rawType": "float64",
         "type": "float"
        },
        {
         "name": "gfr_ml_min",
         "rawType": "float64",
         "type": "float"
        },
        {
         "name": "crp_mg_l",
         "rawType": "float64",
         "type": "float"
        },
        {
         "name": "hemoglobin_g_dl",
         "rawType": "float64",
         "type": "float"
        },
        {
         "name": "vitamin_d_ng_ml",
         "rawType": "float64",
         "type": "float"
        }
       ],
       "ref": "659b5b3a-8d19-4d6d-8e3d-c982bb88a442",
       "rows": [
        [
         "40",
         "No Gallstones",
         "33",
         "0",
         "0",
         "0",
         "0",
         "0",
         "0",
         "172",
         "75.5",
         "25.5",
         "44.0",
         "18.1",
         "25.9",
         "41.0",
         "19.9",
         "80.13",
         "16.01",
         "6",
         "3.0",
         "57.5",
         "16.0",
         "15.0",
         "10.1",
         "29.9",
         "0",
         "575.0",
         "230.0",
         "157.0",
         "48.0",
         "191.0",
         "12.0",
         "12.0",
         "135.0",
         "0.96",
         "99.96",
         "0.0",
         "14.9",
         "32.08"
        ],
        [
         "164",
         "Gallstones",
         "31",
         "1",
         "0",
         "0",
         "0",
         "0",
         "0",
         "160",
         "48.9",
         "19.1",
         "30.2",
         "12.2",
         "18.0",
         "40.0",
         "14.1",
         "85.89",
         "17.86",
         "1",
         "2.1",
         "39.9",
         "13.1",
         "6.9",
         "2.0",
         "32.12702703",
         "0",
         "92.0",
         "107.0",
         "35.0",
         "68.0",
         "23.0",
         "16.0",
         "13.0",
         "54.0",
         "0.59",
         "95.69333333",
         "0.5",
         "12.4",
         "3.5"
        ]
       ],
       "shape": {
        "columns": 39,
        "rows": 2
       }
      },
      "text/html": [
       "<div>\n",
       "<style scoped>\n",
       "    .dataframe tbody tr th:only-of-type {\n",
       "        vertical-align: middle;\n",
       "    }\n",
       "\n",
       "    .dataframe tbody tr th {\n",
       "        vertical-align: top;\n",
       "    }\n",
       "\n",
       "    .dataframe thead th {\n",
       "        text-align: right;\n",
       "    }\n",
       "</style>\n",
       "<table border=\"1\" class=\"dataframe\">\n",
       "  <thead>\n",
       "    <tr style=\"text-align: right;\">\n",
       "      <th></th>\n",
       "      <th>has_gallstones</th>\n",
       "      <th>age</th>\n",
       "      <th>gender</th>\n",
       "      <th>comorbidity</th>\n",
       "      <th>cad</th>\n",
       "      <th>hypothyroidism</th>\n",
       "      <th>hyperlipidemia</th>\n",
       "      <th>diabetes</th>\n",
       "      <th>height_cm</th>\n",
       "      <th>weight_kg</th>\n",
       "      <th>...</th>\n",
       "      <th>hdl_mg_dl</th>\n",
       "      <th>triglyceride_mg_dl</th>\n",
       "      <th>ast_u_l</th>\n",
       "      <th>alt_u_l</th>\n",
       "      <th>alp_u_l</th>\n",
       "      <th>creatinine_mg_dl</th>\n",
       "      <th>gfr_ml_min</th>\n",
       "      <th>crp_mg_l</th>\n",
       "      <th>hemoglobin_g_dl</th>\n",
       "      <th>vitamin_d_ng_ml</th>\n",
       "    </tr>\n",
       "  </thead>\n",
       "  <tbody>\n",
       "    <tr>\n",
       "      <th>40</th>\n",
       "      <td>No Gallstones</td>\n",
       "      <td>33</td>\n",
       "      <td>0</td>\n",
       "      <td>0</td>\n",
       "      <td>0</td>\n",
       "      <td>0</td>\n",
       "      <td>0</td>\n",
       "      <td>0</td>\n",
       "      <td>172</td>\n",
       "      <td>75.5</td>\n",
       "      <td>...</td>\n",
       "      <td>48.0</td>\n",
       "      <td>191.0</td>\n",
       "      <td>12.0</td>\n",
       "      <td>12.0</td>\n",
       "      <td>135.0</td>\n",
       "      <td>0.96</td>\n",
       "      <td>99.960000</td>\n",
       "      <td>0.0</td>\n",
       "      <td>14.9</td>\n",
       "      <td>32.08</td>\n",
       "    </tr>\n",
       "    <tr>\n",
       "      <th>164</th>\n",
       "      <td>Gallstones</td>\n",
       "      <td>31</td>\n",
       "      <td>1</td>\n",
       "      <td>0</td>\n",
       "      <td>0</td>\n",
       "      <td>0</td>\n",
       "      <td>0</td>\n",
       "      <td>0</td>\n",
       "      <td>160</td>\n",
       "      <td>48.9</td>\n",
       "      <td>...</td>\n",
       "      <td>68.0</td>\n",
       "      <td>23.0</td>\n",
       "      <td>16.0</td>\n",
       "      <td>13.0</td>\n",
       "      <td>54.0</td>\n",
       "      <td>0.59</td>\n",
       "      <td>95.693333</td>\n",
       "      <td>0.5</td>\n",
       "      <td>12.4</td>\n",
       "      <td>3.50</td>\n",
       "    </tr>\n",
       "  </tbody>\n",
       "</table>\n",
       "<p>2 rows × 39 columns</p>\n",
       "</div>"
      ],
      "text/plain": [
       "    has_gallstones  age gender comorbidity cad hypothyroidism hyperlipidemia  \\\n",
       "40   No Gallstones   33      0           0   0              0              0   \n",
       "164     Gallstones   31      1           0   0              0              0   \n",
       "\n",
       "    diabetes  height_cm  weight_kg  ...  hdl_mg_dl  triglyceride_mg_dl  \\\n",
       "40         0        172       75.5  ...       48.0               191.0   \n",
       "164        0        160       48.9  ...       68.0                23.0   \n",
       "\n",
       "     ast_u_l  alt_u_l  alp_u_l  creatinine_mg_dl  gfr_ml_min  crp_mg_l  \\\n",
       "40      12.0     12.0    135.0              0.96   99.960000       0.0   \n",
       "164     16.0     13.0     54.0              0.59   95.693333       0.5   \n",
       "\n",
       "     hemoglobin_g_dl  vitamin_d_ng_ml  \n",
       "40              14.9            32.08  \n",
       "164             12.4             3.50  \n",
       "\n",
       "[2 rows x 39 columns]"
      ]
     },
     "execution_count": 155,
     "metadata": {},
     "output_type": "execute_result"
    }
   ],
   "source": [
    "print(f\"Number of suspicious rows: {suspicious_rows.shape[0]}\")\n",
    "suspicious_rows.head()"
   ]
  },
  {
   "cell_type": "code",
   "execution_count": 156,
   "id": "98e3d998",
   "metadata": {},
   "outputs": [
    {
     "name": "stdout",
     "output_type": "stream",
     "text": [
      "vitamin_d_ng_ml: 1 flagged rows\n",
      "glucose_mg_dl: 1 flagged rows\n",
      "bmi: 0 flagged rows\n",
      "lean_mass_percent: 0 flagged rows\n",
      "fat_ratio_percent: 0 flagged rows\n",
      "visceral_fat_area_cm2: 0 flagged rows\n"
     ]
    }
   ],
   "source": [
    "import numpy as np\n",
    "\n",
    "flagged_columns = []\n",
    "\n",
    "# Define bounds\n",
    "bounds = {\n",
    "    \"vitamin_d_ng_ml\": (4, 100),\n",
    "    \"glucose_mg_dl\": (40, 400),\n",
    "    \"bmi\": (10, 70),\n",
    "    \"lean_mass_percent\": (20, 95),\n",
    "    \"fat_ratio_percent\": (5, 80),\n",
    "    \"visceral_fat_area_cm2\": (0.5, 45)\n",
    "}\n",
    "\n",
    "# Count violations per column\n",
    "for col, (low, high) in bounds.items():\n",
    "    count = ((df[col] < low) | (df[col] > high)).sum()\n",
    "    flagged_columns.append((col, count))\n",
    "\n",
    "flagged_columns = sorted(flagged_columns, key=lambda x: x[1], reverse=True)\n",
    "for col, count in flagged_columns:\n",
    "    print(f\"{col}: {count} flagged rows\")"
   ]
  },
  {
   "cell_type": "code",
   "execution_count": 157,
   "id": "c1d0e2c6",
   "metadata": {},
   "outputs": [],
   "source": [
    "# Cap extreme glucose values at 400 mg/dL and flag them to reduce outlier influence while retaining the row.\n",
    "df[\"glucose_outlier_flag\"] = df[\"glucose_mg_dl\"] > 400\n",
    "df.loc[df[\"glucose_outlier_flag\"], \"glucose_mg_dl\"] = 400"
   ]
  },
  {
   "cell_type": "markdown",
   "id": "1a3546b2",
   "metadata": {},
   "source": [
    "We examined continuous numeric features for biologically implausible values, using conservative yet clinically-informed thresholds. This process helps ensure our dataset is free from data entry errors or measurement artifacts that could distort model behavior.\n",
    "\n",
    "### Threshold Summary\n",
    "\n",
    "| Feature                   | Range Checked       | Justification |\n",
    "|---------------------------|---------------------|----------------|\n",
    "| `vitamin_d_ng_ml`         | <4 or >150          | <4 = severe deficiency, >150 = toxic/suspicious |\n",
    "| `glucose_mg_dl`           | <40 or >400         | <40 = hypoglycemia, >400 = implausible hyperglycemia |\n",
    "| `bmi`                     | <10 or >70          | Reflects extreme underweight or error |\n",
    "| `lean_mass_percent`       | <20 or >95          | Normal physiological range |\n",
    "| `fat_ratio_percent`       | <5 or >80           | Low and high extremes for body fat % |\n",
    "| `visceral_fat_area_cm2`   | <0.5 or >45         | Adjusted based on observed distribution; likely device-scaled |\n",
    "\n",
    "### Results\n",
    "\n",
    "- **Two rows** were flagged across all checks:\n",
    "  - One with `vitamin_d_ng_ml = 3.5`: retained as a valid case of extreme deficiency\n",
    "  - One with `glucose_mg_dl = 575`: value was capped at 400 and flagged as an outlier\n",
    "\n",
    "- `visceral_fat_area_cm2` initially triggered 120 flags using generic cm²-based thresholds. After reviewing the observed range (0.9–41), we revised bounds to <0.5 and >45. This resolved all false positives while preserving important physiologic variance.\n",
    "\n",
    "### Conclusion\n",
    "\n",
    "The dataset now contains only values within clinically realistic ranges. We retained edge-case records that reflect meaningful physiological extremes, and capped one implausible glucose value while preserving the associated row. No rows were dropped."
   ]
  },
  {
   "cell_type": "markdown",
   "id": "623587aa",
   "metadata": {},
   "source": [
    "## Renaming Key Binary and Class Columns for Clarity\n",
    "\n",
    "To enhance readability, consistency, and ease of reference throughout modeling and interpretation, we renamed several categorical and binary variables using short, lowercase, and descriptive identifiers.\n",
    "\n",
    "This also aligns with clinical naming conventions and keeps features concise when used in plots, feature importances, and model documentation (e.g., model cards).\n",
    "\n",
    "Below is a summary of renamed columns."
   ]
  },
  {
   "cell_type": "markdown",
   "id": "1ce2ac12",
   "metadata": {},
   "source": [
    "| Original Column                        | New Name                  | Reason for Rename |\n",
    "|----------------------------------------|----------------------------|--------------------|\n",
    "| `gallstone_status`                     | `has_gallstones`           | Target variable; renamed to reflect binary yes/no meaning clearly |\n",
    "| `coronary_artery_disease_cad`          | `cad`                      | Shortens repetitive phrase, keeps common acronym |\n",
    "| `diabetes_mellitus_dm`                 | `diabetes`                | Simplifies medical term, avoids acronym stacking |\n",
    "| `hepatic_fat_accumulation_hfa`         | `hepatic_fat`             | Matches domain term: hepatic fat (liver fat) |\n",
    "| `visceral_muscle_area_vma_kg`          | `visceral_muscle_mass_kg` | Clarifies value represents mass, not area |\n",
    "| `visceral_fat_area_vfa`                | `visceral_fat_area_cm2`   | Clarifies unit and context |\n",
    "| `total_fat_content_tfc`                | `fat_mass_kg`             | Defines quantity explicitly |\n",
    "| `total_body_fat_ratio_tbfr`            | `fat_ratio_percent`       | Adds unit for clarity |\n",
    "| `lean_mass_lm`                         | `lean_mass_percent`       | Adds unit and removes abbreviation |\n",
    "| `body_protein_content_protein`         | `protein_percent`         | Adds unit, simplifies |\n",
    "| `muscle_mass_mm`                       | `muscle_mass_kg`          | Defines unit and removes abbreviation |\n",
    "| `bone_mass_bm`                         | `bone_mass_kg`            | Standardizes naming for consistency |"
   ]
  },
  {
   "cell_type": "markdown",
   "id": "b71b1180",
   "metadata": {},
   "source": [
    "## Human-Centered Relevance Notes\n",
    "\n",
    "This dataset was collected in a clinical setting using non-invasive tools such as bioimpedance analysis and routine laboratory blood tests. Our preprocessing and cleaning steps were informed by real-world usability and interpretability concerns.\n",
    "\n",
    "### 1. Features are Non-Invasive and Accessible\n",
    "- All inputs are derived from standard outpatient data (demographics, labs, body composition).\n",
    "- No imaging, genomics, or protected identifiers were included.\n",
    "- This ensures the model can be used in primary care or telehealth environments without requiring specialized equipment.\n",
    "\n",
    "### 2. Features Align with Real Clinical Judgment\n",
    "- Key predictors such as `vitamin_d_ng_ml`, `bmi`, `fat_ratio_percent`, and `hepatic_fat` reflect known risk factors for gallstone disease.\n",
    "- Clinicians can interpret these features without needing ML expertise, which increases model explainability and trust.\n",
    "\n",
    "### 3. Data Types Support Interpretability\n",
    "- Categorical variables like `gender`, `comorbidity`, and `cad` were explicitly cast as category types for modeling clarity.\n",
    "- Continuous variables are standardized and unit-annotated in column names (e.g., `_mg_dl`, `_kg`, `_percent`), making it easier to understand scale and risk implications.\n",
    "\n",
    "### 4. No Target Leakage Detected\n",
    "- We reviewed all features and confirmed that none reveal the outcome directly.\n",
    "- The target variable `has_gallstones` is not derived from any included feature (e.g., no imaging reports or diagnostic codes were used as predictors).\n",
    "\n",
    "### 5. Balanced Target Distribution\n",
    "- The dataset is nearly evenly split between positive and negative cases.\n",
    "- This supports fair and stable model training without synthetic sampling or reweighting.\n",
    "\n",
    "### 6. Outliers Handled with Care\n",
    "- Rare values were flagged, visually inspected, and resolved with domain-informed decisions (e.g., flagging and capping glucose at 400 mg/dL).\n",
    "- This protects against biased model behavior without erasing physiologically meaningful cases.\n",
    "\n",
    "### 7. Feature Names Are Human-Readable\n",
    "- Long or machine-exported feature names were renamed for clarity (e.g., `diabetes_mellitus_dm` → `diabetes`, `gallstone_status` → `has_gallstones`).\n",
    "- Units were added where appropriate to support safe interpretation (e.g., `glucose_mg_dl`).\n",
    "\n",
    "Together, these actions support the development of a model that is not only accurate, but also responsible, understandable, and ready for real-world use."
   ]
  },
  {
   "cell_type": "markdown",
   "id": "f5b22795",
   "metadata": {},
   "source": [
    "## Saving Cleaned Dataset\n",
    "\n",
    "After completing column standardization, data type correction, outlier handling, and human-centered review, we save the cleaned dataset to a structured location for use in downstream tasks such as exploratory data analysis (EDA), modeling, and evaluation.\n",
    "\n",
    "This ensures:\n",
    "- **Reproducibility**: All preprocessing is preserved in version-controlled form\n",
    "- **Efficiency**: Clean data is loaded directly in later notebooks, avoiding repeated processing\n",
    "- **Portability**: The file can be shared with collaborators or passed to pipelines without rerunning upstream cells\n",
    "\n",
    "We save the dataset in CSV format using UTF-8 encoding, without an index column, and store it in the `data/` directory under the project root."
   ]
  },
  {
   "cell_type": "code",
   "execution_count": 158,
   "id": "79f18387",
   "metadata": {},
   "outputs": [],
   "source": [
    "df.to_csv(\"../data/cleaned.csv\", index=False)"
   ]
  },
  {
   "cell_type": "code",
   "execution_count": 159,
   "id": "cf789e9f",
   "metadata": {},
   "outputs": [
    {
     "data": {
      "text/plain": [
       "(319, 40)"
      ]
     },
     "execution_count": 159,
     "metadata": {},
     "output_type": "execute_result"
    }
   ],
   "source": [
    "# Confirm successful save\n",
    "pd.read_csv(\"../data/cleaned.csv\").shape"
   ]
  },
  {
   "cell_type": "code",
   "execution_count": 160,
   "id": "85310219",
   "metadata": {},
   "outputs": [],
   "source": [
    "df.dtypes.to_csv(\"../data/cleaned_dtypes.csv\")\n",
    "df.describe().T.to_csv(\"../data/cleaned_summary.csv\")"
   ]
  },
  {
   "cell_type": "markdown",
   "id": "6c8af51c",
   "metadata": {},
   "source": [
    "The cleaned dataset is now saved as `cleaned.csv` and ready for use in:\n",
    "\n",
    "- Day 3: Exploratory Data Analysis (EDA)\n",
    "- Day 4: Baseline and advanced model training\n",
    "- Day 6–7: Model interpretation and reporting\n",
    "\n",
    "The dataset includes:\n",
    "- 319 patients\n",
    "- 40 features (32 numeric, 8 categorical)\n",
    "- 50.5% gallstone-positive cases\n",
    "- Key features include `bmi`, `vitamin_d_ng_ml`, `fat_ratio_percent`, and `hepatic_fat`"
   ]
  },
  {
   "cell_type": "markdown",
   "id": "ddd57646",
   "metadata": {},
   "source": [
    "## PAIR: Mental Models – Key Takeaways\n",
    "\n",
    "- Clinicians already have expectations (mental models) about how diagnostic tools behave—for example, they expect higher vitamin D or fat levels to correlate with certain conditions.\n",
    "- When a model’s outputs and explanations align with these expectations, it feels more trustworthy and intuitive to use.\n",
    "- In healthcare, mismatches between user intuition and system behavior can erode confidence or lead to dangerous misinterpretation.\n",
    "- Therefore, we aim to design models where both **inputs** (e.g., interpretable lab values) and **outputs** (e.g., binary risk predictions) reinforce the clinician’s understanding and workflow—not challenge it."
   ]
  }
 ],
 "metadata": {
  "kernelspec": {
   "display_name": "hcmle-env",
   "language": "python",
   "name": "python3"
  },
  "language_info": {
   "codemirror_mode": {
    "name": "ipython",
    "version": 3
   },
   "file_extension": ".py",
   "mimetype": "text/x-python",
   "name": "python",
   "nbconvert_exporter": "python",
   "pygments_lexer": "ipython3",
   "version": "3.11.11"
  }
 },
 "nbformat": 4,
 "nbformat_minor": 5
}
